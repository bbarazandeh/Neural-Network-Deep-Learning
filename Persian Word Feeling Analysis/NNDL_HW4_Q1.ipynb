{
  "nbformat": 4,
  "nbformat_minor": 0,
  "metadata": {
    "colab": {
      "provenance": [],
      "gpuType": "T4"
    },
    "kernelspec": {
      "name": "python3",
      "display_name": "Python 3"
    },
    "language_info": {
      "name": "python"
    },
    "accelerator": "GPU",
    "widgets": {
      "application/vnd.jupyter.widget-state+json": {
        "e6ee78aa5e4947e6a37e273d7978c5ff": {
          "model_module": "@jupyter-widgets/controls",
          "model_name": "HBoxModel",
          "model_module_version": "1.5.0",
          "state": {
            "_dom_classes": [],
            "_model_module": "@jupyter-widgets/controls",
            "_model_module_version": "1.5.0",
            "_model_name": "HBoxModel",
            "_view_count": null,
            "_view_module": "@jupyter-widgets/controls",
            "_view_module_version": "1.5.0",
            "_view_name": "HBoxView",
            "box_style": "",
            "children": [
              "IPY_MODEL_81119d70526f4feabe2d2e0df49e80a6",
              "IPY_MODEL_163268daace444a0927018f725869aaa",
              "IPY_MODEL_074349bdb96e48c68ce6116e0469e9d2"
            ],
            "layout": "IPY_MODEL_4e3c71eb03574852948e6de2aecc928c"
          }
        },
        "81119d70526f4feabe2d2e0df49e80a6": {
          "model_module": "@jupyter-widgets/controls",
          "model_name": "HTMLModel",
          "model_module_version": "1.5.0",
          "state": {
            "_dom_classes": [],
            "_model_module": "@jupyter-widgets/controls",
            "_model_module_version": "1.5.0",
            "_model_name": "HTMLModel",
            "_view_count": null,
            "_view_module": "@jupyter-widgets/controls",
            "_view_module_version": "1.5.0",
            "_view_name": "HTMLView",
            "description": "",
            "description_tooltip": null,
            "layout": "IPY_MODEL_6fd30dcbedab46d3b271cb55f7186f29",
            "placeholder": "​",
            "style": "IPY_MODEL_1209f0afe17f4d178e5bb14349a9bc99",
            "value": "config.json: 100%"
          }
        },
        "163268daace444a0927018f725869aaa": {
          "model_module": "@jupyter-widgets/controls",
          "model_name": "FloatProgressModel",
          "model_module_version": "1.5.0",
          "state": {
            "_dom_classes": [],
            "_model_module": "@jupyter-widgets/controls",
            "_model_module_version": "1.5.0",
            "_model_name": "FloatProgressModel",
            "_view_count": null,
            "_view_module": "@jupyter-widgets/controls",
            "_view_module_version": "1.5.0",
            "_view_name": "ProgressView",
            "bar_style": "success",
            "description": "",
            "description_tooltip": null,
            "layout": "IPY_MODEL_16f3114a956847b4972f503c9154fbe3",
            "max": 565,
            "min": 0,
            "orientation": "horizontal",
            "style": "IPY_MODEL_316d500782aa417fba01d52f234b1785",
            "value": 565
          }
        },
        "074349bdb96e48c68ce6116e0469e9d2": {
          "model_module": "@jupyter-widgets/controls",
          "model_name": "HTMLModel",
          "model_module_version": "1.5.0",
          "state": {
            "_dom_classes": [],
            "_model_module": "@jupyter-widgets/controls",
            "_model_module_version": "1.5.0",
            "_model_name": "HTMLModel",
            "_view_count": null,
            "_view_module": "@jupyter-widgets/controls",
            "_view_module_version": "1.5.0",
            "_view_name": "HTMLView",
            "description": "",
            "description_tooltip": null,
            "layout": "IPY_MODEL_879c9346c929467bb2452492519fbf09",
            "placeholder": "​",
            "style": "IPY_MODEL_c0b82d20a24b454d9bbecd81ae0c8bfe",
            "value": " 565/565 [00:00&lt;00:00, 39.7kB/s]"
          }
        },
        "4e3c71eb03574852948e6de2aecc928c": {
          "model_module": "@jupyter-widgets/base",
          "model_name": "LayoutModel",
          "model_module_version": "1.2.0",
          "state": {
            "_model_module": "@jupyter-widgets/base",
            "_model_module_version": "1.2.0",
            "_model_name": "LayoutModel",
            "_view_count": null,
            "_view_module": "@jupyter-widgets/base",
            "_view_module_version": "1.2.0",
            "_view_name": "LayoutView",
            "align_content": null,
            "align_items": null,
            "align_self": null,
            "border": null,
            "bottom": null,
            "display": null,
            "flex": null,
            "flex_flow": null,
            "grid_area": null,
            "grid_auto_columns": null,
            "grid_auto_flow": null,
            "grid_auto_rows": null,
            "grid_column": null,
            "grid_gap": null,
            "grid_row": null,
            "grid_template_areas": null,
            "grid_template_columns": null,
            "grid_template_rows": null,
            "height": null,
            "justify_content": null,
            "justify_items": null,
            "left": null,
            "margin": null,
            "max_height": null,
            "max_width": null,
            "min_height": null,
            "min_width": null,
            "object_fit": null,
            "object_position": null,
            "order": null,
            "overflow": null,
            "overflow_x": null,
            "overflow_y": null,
            "padding": null,
            "right": null,
            "top": null,
            "visibility": null,
            "width": null
          }
        },
        "6fd30dcbedab46d3b271cb55f7186f29": {
          "model_module": "@jupyter-widgets/base",
          "model_name": "LayoutModel",
          "model_module_version": "1.2.0",
          "state": {
            "_model_module": "@jupyter-widgets/base",
            "_model_module_version": "1.2.0",
            "_model_name": "LayoutModel",
            "_view_count": null,
            "_view_module": "@jupyter-widgets/base",
            "_view_module_version": "1.2.0",
            "_view_name": "LayoutView",
            "align_content": null,
            "align_items": null,
            "align_self": null,
            "border": null,
            "bottom": null,
            "display": null,
            "flex": null,
            "flex_flow": null,
            "grid_area": null,
            "grid_auto_columns": null,
            "grid_auto_flow": null,
            "grid_auto_rows": null,
            "grid_column": null,
            "grid_gap": null,
            "grid_row": null,
            "grid_template_areas": null,
            "grid_template_columns": null,
            "grid_template_rows": null,
            "height": null,
            "justify_content": null,
            "justify_items": null,
            "left": null,
            "margin": null,
            "max_height": null,
            "max_width": null,
            "min_height": null,
            "min_width": null,
            "object_fit": null,
            "object_position": null,
            "order": null,
            "overflow": null,
            "overflow_x": null,
            "overflow_y": null,
            "padding": null,
            "right": null,
            "top": null,
            "visibility": null,
            "width": null
          }
        },
        "1209f0afe17f4d178e5bb14349a9bc99": {
          "model_module": "@jupyter-widgets/controls",
          "model_name": "DescriptionStyleModel",
          "model_module_version": "1.5.0",
          "state": {
            "_model_module": "@jupyter-widgets/controls",
            "_model_module_version": "1.5.0",
            "_model_name": "DescriptionStyleModel",
            "_view_count": null,
            "_view_module": "@jupyter-widgets/base",
            "_view_module_version": "1.2.0",
            "_view_name": "StyleView",
            "description_width": ""
          }
        },
        "16f3114a956847b4972f503c9154fbe3": {
          "model_module": "@jupyter-widgets/base",
          "model_name": "LayoutModel",
          "model_module_version": "1.2.0",
          "state": {
            "_model_module": "@jupyter-widgets/base",
            "_model_module_version": "1.2.0",
            "_model_name": "LayoutModel",
            "_view_count": null,
            "_view_module": "@jupyter-widgets/base",
            "_view_module_version": "1.2.0",
            "_view_name": "LayoutView",
            "align_content": null,
            "align_items": null,
            "align_self": null,
            "border": null,
            "bottom": null,
            "display": null,
            "flex": null,
            "flex_flow": null,
            "grid_area": null,
            "grid_auto_columns": null,
            "grid_auto_flow": null,
            "grid_auto_rows": null,
            "grid_column": null,
            "grid_gap": null,
            "grid_row": null,
            "grid_template_areas": null,
            "grid_template_columns": null,
            "grid_template_rows": null,
            "height": null,
            "justify_content": null,
            "justify_items": null,
            "left": null,
            "margin": null,
            "max_height": null,
            "max_width": null,
            "min_height": null,
            "min_width": null,
            "object_fit": null,
            "object_position": null,
            "order": null,
            "overflow": null,
            "overflow_x": null,
            "overflow_y": null,
            "padding": null,
            "right": null,
            "top": null,
            "visibility": null,
            "width": null
          }
        },
        "316d500782aa417fba01d52f234b1785": {
          "model_module": "@jupyter-widgets/controls",
          "model_name": "ProgressStyleModel",
          "model_module_version": "1.5.0",
          "state": {
            "_model_module": "@jupyter-widgets/controls",
            "_model_module_version": "1.5.0",
            "_model_name": "ProgressStyleModel",
            "_view_count": null,
            "_view_module": "@jupyter-widgets/base",
            "_view_module_version": "1.2.0",
            "_view_name": "StyleView",
            "bar_color": null,
            "description_width": ""
          }
        },
        "879c9346c929467bb2452492519fbf09": {
          "model_module": "@jupyter-widgets/base",
          "model_name": "LayoutModel",
          "model_module_version": "1.2.0",
          "state": {
            "_model_module": "@jupyter-widgets/base",
            "_model_module_version": "1.2.0",
            "_model_name": "LayoutModel",
            "_view_count": null,
            "_view_module": "@jupyter-widgets/base",
            "_view_module_version": "1.2.0",
            "_view_name": "LayoutView",
            "align_content": null,
            "align_items": null,
            "align_self": null,
            "border": null,
            "bottom": null,
            "display": null,
            "flex": null,
            "flex_flow": null,
            "grid_area": null,
            "grid_auto_columns": null,
            "grid_auto_flow": null,
            "grid_auto_rows": null,
            "grid_column": null,
            "grid_gap": null,
            "grid_row": null,
            "grid_template_areas": null,
            "grid_template_columns": null,
            "grid_template_rows": null,
            "height": null,
            "justify_content": null,
            "justify_items": null,
            "left": null,
            "margin": null,
            "max_height": null,
            "max_width": null,
            "min_height": null,
            "min_width": null,
            "object_fit": null,
            "object_position": null,
            "order": null,
            "overflow": null,
            "overflow_x": null,
            "overflow_y": null,
            "padding": null,
            "right": null,
            "top": null,
            "visibility": null,
            "width": null
          }
        },
        "c0b82d20a24b454d9bbecd81ae0c8bfe": {
          "model_module": "@jupyter-widgets/controls",
          "model_name": "DescriptionStyleModel",
          "model_module_version": "1.5.0",
          "state": {
            "_model_module": "@jupyter-widgets/controls",
            "_model_module_version": "1.5.0",
            "_model_name": "DescriptionStyleModel",
            "_view_count": null,
            "_view_module": "@jupyter-widgets/base",
            "_view_module_version": "1.2.0",
            "_view_name": "StyleView",
            "description_width": ""
          }
        },
        "1ae0d398f21f48eaa38cd6d3f0392df1": {
          "model_module": "@jupyter-widgets/controls",
          "model_name": "HBoxModel",
          "model_module_version": "1.5.0",
          "state": {
            "_dom_classes": [],
            "_model_module": "@jupyter-widgets/controls",
            "_model_module_version": "1.5.0",
            "_model_name": "HBoxModel",
            "_view_count": null,
            "_view_module": "@jupyter-widgets/controls",
            "_view_module_version": "1.5.0",
            "_view_name": "HBoxView",
            "box_style": "",
            "children": [
              "IPY_MODEL_24c8c90b8aed44e1a0105b66249d1550",
              "IPY_MODEL_90384e7189364ac3897ffded9ff06393",
              "IPY_MODEL_90240cb1dc6b4effa1c956862b77ae47"
            ],
            "layout": "IPY_MODEL_6642e1498cf5435b906010e8c877cc93"
          }
        },
        "24c8c90b8aed44e1a0105b66249d1550": {
          "model_module": "@jupyter-widgets/controls",
          "model_name": "HTMLModel",
          "model_module_version": "1.5.0",
          "state": {
            "_dom_classes": [],
            "_model_module": "@jupyter-widgets/controls",
            "_model_module_version": "1.5.0",
            "_model_name": "HTMLModel",
            "_view_count": null,
            "_view_module": "@jupyter-widgets/controls",
            "_view_module_version": "1.5.0",
            "_view_name": "HTMLView",
            "description": "",
            "description_tooltip": null,
            "layout": "IPY_MODEL_b0c994fa073f41308c5f93a6eb37795a",
            "placeholder": "​",
            "style": "IPY_MODEL_0ef3efc5da7a4997a1aaaf6e9c100290",
            "value": "tokenizer_config.json: 100%"
          }
        },
        "90384e7189364ac3897ffded9ff06393": {
          "model_module": "@jupyter-widgets/controls",
          "model_name": "FloatProgressModel",
          "model_module_version": "1.5.0",
          "state": {
            "_dom_classes": [],
            "_model_module": "@jupyter-widgets/controls",
            "_model_module_version": "1.5.0",
            "_model_name": "FloatProgressModel",
            "_view_count": null,
            "_view_module": "@jupyter-widgets/controls",
            "_view_module_version": "1.5.0",
            "_view_name": "ProgressView",
            "bar_style": "success",
            "description": "",
            "description_tooltip": null,
            "layout": "IPY_MODEL_4c91ae2b46e7449f887c8be6d4ee602a",
            "max": 292,
            "min": 0,
            "orientation": "horizontal",
            "style": "IPY_MODEL_1806ea5b90e5486d8d57b9fb275aec63",
            "value": 292
          }
        },
        "90240cb1dc6b4effa1c956862b77ae47": {
          "model_module": "@jupyter-widgets/controls",
          "model_name": "HTMLModel",
          "model_module_version": "1.5.0",
          "state": {
            "_dom_classes": [],
            "_model_module": "@jupyter-widgets/controls",
            "_model_module_version": "1.5.0",
            "_model_name": "HTMLModel",
            "_view_count": null,
            "_view_module": "@jupyter-widgets/controls",
            "_view_module_version": "1.5.0",
            "_view_name": "HTMLView",
            "description": "",
            "description_tooltip": null,
            "layout": "IPY_MODEL_b9537c3785904435b2e3ee8bfc9a2994",
            "placeholder": "​",
            "style": "IPY_MODEL_c1d18ace4855460c9a33c29de581ca9b",
            "value": " 292/292 [00:00&lt;00:00, 19.5kB/s]"
          }
        },
        "6642e1498cf5435b906010e8c877cc93": {
          "model_module": "@jupyter-widgets/base",
          "model_name": "LayoutModel",
          "model_module_version": "1.2.0",
          "state": {
            "_model_module": "@jupyter-widgets/base",
            "_model_module_version": "1.2.0",
            "_model_name": "LayoutModel",
            "_view_count": null,
            "_view_module": "@jupyter-widgets/base",
            "_view_module_version": "1.2.0",
            "_view_name": "LayoutView",
            "align_content": null,
            "align_items": null,
            "align_self": null,
            "border": null,
            "bottom": null,
            "display": null,
            "flex": null,
            "flex_flow": null,
            "grid_area": null,
            "grid_auto_columns": null,
            "grid_auto_flow": null,
            "grid_auto_rows": null,
            "grid_column": null,
            "grid_gap": null,
            "grid_row": null,
            "grid_template_areas": null,
            "grid_template_columns": null,
            "grid_template_rows": null,
            "height": null,
            "justify_content": null,
            "justify_items": null,
            "left": null,
            "margin": null,
            "max_height": null,
            "max_width": null,
            "min_height": null,
            "min_width": null,
            "object_fit": null,
            "object_position": null,
            "order": null,
            "overflow": null,
            "overflow_x": null,
            "overflow_y": null,
            "padding": null,
            "right": null,
            "top": null,
            "visibility": null,
            "width": null
          }
        },
        "b0c994fa073f41308c5f93a6eb37795a": {
          "model_module": "@jupyter-widgets/base",
          "model_name": "LayoutModel",
          "model_module_version": "1.2.0",
          "state": {
            "_model_module": "@jupyter-widgets/base",
            "_model_module_version": "1.2.0",
            "_model_name": "LayoutModel",
            "_view_count": null,
            "_view_module": "@jupyter-widgets/base",
            "_view_module_version": "1.2.0",
            "_view_name": "LayoutView",
            "align_content": null,
            "align_items": null,
            "align_self": null,
            "border": null,
            "bottom": null,
            "display": null,
            "flex": null,
            "flex_flow": null,
            "grid_area": null,
            "grid_auto_columns": null,
            "grid_auto_flow": null,
            "grid_auto_rows": null,
            "grid_column": null,
            "grid_gap": null,
            "grid_row": null,
            "grid_template_areas": null,
            "grid_template_columns": null,
            "grid_template_rows": null,
            "height": null,
            "justify_content": null,
            "justify_items": null,
            "left": null,
            "margin": null,
            "max_height": null,
            "max_width": null,
            "min_height": null,
            "min_width": null,
            "object_fit": null,
            "object_position": null,
            "order": null,
            "overflow": null,
            "overflow_x": null,
            "overflow_y": null,
            "padding": null,
            "right": null,
            "top": null,
            "visibility": null,
            "width": null
          }
        },
        "0ef3efc5da7a4997a1aaaf6e9c100290": {
          "model_module": "@jupyter-widgets/controls",
          "model_name": "DescriptionStyleModel",
          "model_module_version": "1.5.0",
          "state": {
            "_model_module": "@jupyter-widgets/controls",
            "_model_module_version": "1.5.0",
            "_model_name": "DescriptionStyleModel",
            "_view_count": null,
            "_view_module": "@jupyter-widgets/base",
            "_view_module_version": "1.2.0",
            "_view_name": "StyleView",
            "description_width": ""
          }
        },
        "4c91ae2b46e7449f887c8be6d4ee602a": {
          "model_module": "@jupyter-widgets/base",
          "model_name": "LayoutModel",
          "model_module_version": "1.2.0",
          "state": {
            "_model_module": "@jupyter-widgets/base",
            "_model_module_version": "1.2.0",
            "_model_name": "LayoutModel",
            "_view_count": null,
            "_view_module": "@jupyter-widgets/base",
            "_view_module_version": "1.2.0",
            "_view_name": "LayoutView",
            "align_content": null,
            "align_items": null,
            "align_self": null,
            "border": null,
            "bottom": null,
            "display": null,
            "flex": null,
            "flex_flow": null,
            "grid_area": null,
            "grid_auto_columns": null,
            "grid_auto_flow": null,
            "grid_auto_rows": null,
            "grid_column": null,
            "grid_gap": null,
            "grid_row": null,
            "grid_template_areas": null,
            "grid_template_columns": null,
            "grid_template_rows": null,
            "height": null,
            "justify_content": null,
            "justify_items": null,
            "left": null,
            "margin": null,
            "max_height": null,
            "max_width": null,
            "min_height": null,
            "min_width": null,
            "object_fit": null,
            "object_position": null,
            "order": null,
            "overflow": null,
            "overflow_x": null,
            "overflow_y": null,
            "padding": null,
            "right": null,
            "top": null,
            "visibility": null,
            "width": null
          }
        },
        "1806ea5b90e5486d8d57b9fb275aec63": {
          "model_module": "@jupyter-widgets/controls",
          "model_name": "ProgressStyleModel",
          "model_module_version": "1.5.0",
          "state": {
            "_model_module": "@jupyter-widgets/controls",
            "_model_module_version": "1.5.0",
            "_model_name": "ProgressStyleModel",
            "_view_count": null,
            "_view_module": "@jupyter-widgets/base",
            "_view_module_version": "1.2.0",
            "_view_name": "StyleView",
            "bar_color": null,
            "description_width": ""
          }
        },
        "b9537c3785904435b2e3ee8bfc9a2994": {
          "model_module": "@jupyter-widgets/base",
          "model_name": "LayoutModel",
          "model_module_version": "1.2.0",
          "state": {
            "_model_module": "@jupyter-widgets/base",
            "_model_module_version": "1.2.0",
            "_model_name": "LayoutModel",
            "_view_count": null,
            "_view_module": "@jupyter-widgets/base",
            "_view_module_version": "1.2.0",
            "_view_name": "LayoutView",
            "align_content": null,
            "align_items": null,
            "align_self": null,
            "border": null,
            "bottom": null,
            "display": null,
            "flex": null,
            "flex_flow": null,
            "grid_area": null,
            "grid_auto_columns": null,
            "grid_auto_flow": null,
            "grid_auto_rows": null,
            "grid_column": null,
            "grid_gap": null,
            "grid_row": null,
            "grid_template_areas": null,
            "grid_template_columns": null,
            "grid_template_rows": null,
            "height": null,
            "justify_content": null,
            "justify_items": null,
            "left": null,
            "margin": null,
            "max_height": null,
            "max_width": null,
            "min_height": null,
            "min_width": null,
            "object_fit": null,
            "object_position": null,
            "order": null,
            "overflow": null,
            "overflow_x": null,
            "overflow_y": null,
            "padding": null,
            "right": null,
            "top": null,
            "visibility": null,
            "width": null
          }
        },
        "c1d18ace4855460c9a33c29de581ca9b": {
          "model_module": "@jupyter-widgets/controls",
          "model_name": "DescriptionStyleModel",
          "model_module_version": "1.5.0",
          "state": {
            "_model_module": "@jupyter-widgets/controls",
            "_model_module_version": "1.5.0",
            "_model_name": "DescriptionStyleModel",
            "_view_count": null,
            "_view_module": "@jupyter-widgets/base",
            "_view_module_version": "1.2.0",
            "_view_name": "StyleView",
            "description_width": ""
          }
        },
        "1e45c991fe1c42649f57e14907141f06": {
          "model_module": "@jupyter-widgets/controls",
          "model_name": "HBoxModel",
          "model_module_version": "1.5.0",
          "state": {
            "_dom_classes": [],
            "_model_module": "@jupyter-widgets/controls",
            "_model_module_version": "1.5.0",
            "_model_name": "HBoxModel",
            "_view_count": null,
            "_view_module": "@jupyter-widgets/controls",
            "_view_module_version": "1.5.0",
            "_view_name": "HBoxView",
            "box_style": "",
            "children": [
              "IPY_MODEL_7c00dd67e8a64390b69567430cc9b5c3",
              "IPY_MODEL_2d790cf739bf447a87d0ff414ea400bd",
              "IPY_MODEL_1c90c9f8109a4c5a87e523eaadba7bf5"
            ],
            "layout": "IPY_MODEL_96db2ac1c85f46bdb554cfad9140cee8"
          }
        },
        "7c00dd67e8a64390b69567430cc9b5c3": {
          "model_module": "@jupyter-widgets/controls",
          "model_name": "HTMLModel",
          "model_module_version": "1.5.0",
          "state": {
            "_dom_classes": [],
            "_model_module": "@jupyter-widgets/controls",
            "_model_module_version": "1.5.0",
            "_model_name": "HTMLModel",
            "_view_count": null,
            "_view_module": "@jupyter-widgets/controls",
            "_view_module_version": "1.5.0",
            "_view_name": "HTMLView",
            "description": "",
            "description_tooltip": null,
            "layout": "IPY_MODEL_e8d0c853d4954fbea6f14284c9fe7c88",
            "placeholder": "​",
            "style": "IPY_MODEL_11590a0051e9408c8be63d0413380a1f",
            "value": "vocab.txt: 100%"
          }
        },
        "2d790cf739bf447a87d0ff414ea400bd": {
          "model_module": "@jupyter-widgets/controls",
          "model_name": "FloatProgressModel",
          "model_module_version": "1.5.0",
          "state": {
            "_dom_classes": [],
            "_model_module": "@jupyter-widgets/controls",
            "_model_module_version": "1.5.0",
            "_model_name": "FloatProgressModel",
            "_view_count": null,
            "_view_module": "@jupyter-widgets/controls",
            "_view_module_version": "1.5.0",
            "_view_name": "ProgressView",
            "bar_style": "success",
            "description": "",
            "description_tooltip": null,
            "layout": "IPY_MODEL_06d7fa2ee35f49e0ba3498293b9fb924",
            "max": 426422,
            "min": 0,
            "orientation": "horizontal",
            "style": "IPY_MODEL_95cdd177734e4cb4a149c46e9ef9e464",
            "value": 426422
          }
        },
        "1c90c9f8109a4c5a87e523eaadba7bf5": {
          "model_module": "@jupyter-widgets/controls",
          "model_name": "HTMLModel",
          "model_module_version": "1.5.0",
          "state": {
            "_dom_classes": [],
            "_model_module": "@jupyter-widgets/controls",
            "_model_module_version": "1.5.0",
            "_model_name": "HTMLModel",
            "_view_count": null,
            "_view_module": "@jupyter-widgets/controls",
            "_view_module_version": "1.5.0",
            "_view_name": "HTMLView",
            "description": "",
            "description_tooltip": null,
            "layout": "IPY_MODEL_44804887470e4a3d978cd228e98a0d18",
            "placeholder": "​",
            "style": "IPY_MODEL_dacaffb9064c47ce96f0ca7a9fdf1278",
            "value": " 426k/426k [00:00&lt;00:00, 4.01MB/s]"
          }
        },
        "96db2ac1c85f46bdb554cfad9140cee8": {
          "model_module": "@jupyter-widgets/base",
          "model_name": "LayoutModel",
          "model_module_version": "1.2.0",
          "state": {
            "_model_module": "@jupyter-widgets/base",
            "_model_module_version": "1.2.0",
            "_model_name": "LayoutModel",
            "_view_count": null,
            "_view_module": "@jupyter-widgets/base",
            "_view_module_version": "1.2.0",
            "_view_name": "LayoutView",
            "align_content": null,
            "align_items": null,
            "align_self": null,
            "border": null,
            "bottom": null,
            "display": null,
            "flex": null,
            "flex_flow": null,
            "grid_area": null,
            "grid_auto_columns": null,
            "grid_auto_flow": null,
            "grid_auto_rows": null,
            "grid_column": null,
            "grid_gap": null,
            "grid_row": null,
            "grid_template_areas": null,
            "grid_template_columns": null,
            "grid_template_rows": null,
            "height": null,
            "justify_content": null,
            "justify_items": null,
            "left": null,
            "margin": null,
            "max_height": null,
            "max_width": null,
            "min_height": null,
            "min_width": null,
            "object_fit": null,
            "object_position": null,
            "order": null,
            "overflow": null,
            "overflow_x": null,
            "overflow_y": null,
            "padding": null,
            "right": null,
            "top": null,
            "visibility": null,
            "width": null
          }
        },
        "e8d0c853d4954fbea6f14284c9fe7c88": {
          "model_module": "@jupyter-widgets/base",
          "model_name": "LayoutModel",
          "model_module_version": "1.2.0",
          "state": {
            "_model_module": "@jupyter-widgets/base",
            "_model_module_version": "1.2.0",
            "_model_name": "LayoutModel",
            "_view_count": null,
            "_view_module": "@jupyter-widgets/base",
            "_view_module_version": "1.2.0",
            "_view_name": "LayoutView",
            "align_content": null,
            "align_items": null,
            "align_self": null,
            "border": null,
            "bottom": null,
            "display": null,
            "flex": null,
            "flex_flow": null,
            "grid_area": null,
            "grid_auto_columns": null,
            "grid_auto_flow": null,
            "grid_auto_rows": null,
            "grid_column": null,
            "grid_gap": null,
            "grid_row": null,
            "grid_template_areas": null,
            "grid_template_columns": null,
            "grid_template_rows": null,
            "height": null,
            "justify_content": null,
            "justify_items": null,
            "left": null,
            "margin": null,
            "max_height": null,
            "max_width": null,
            "min_height": null,
            "min_width": null,
            "object_fit": null,
            "object_position": null,
            "order": null,
            "overflow": null,
            "overflow_x": null,
            "overflow_y": null,
            "padding": null,
            "right": null,
            "top": null,
            "visibility": null,
            "width": null
          }
        },
        "11590a0051e9408c8be63d0413380a1f": {
          "model_module": "@jupyter-widgets/controls",
          "model_name": "DescriptionStyleModel",
          "model_module_version": "1.5.0",
          "state": {
            "_model_module": "@jupyter-widgets/controls",
            "_model_module_version": "1.5.0",
            "_model_name": "DescriptionStyleModel",
            "_view_count": null,
            "_view_module": "@jupyter-widgets/base",
            "_view_module_version": "1.2.0",
            "_view_name": "StyleView",
            "description_width": ""
          }
        },
        "06d7fa2ee35f49e0ba3498293b9fb924": {
          "model_module": "@jupyter-widgets/base",
          "model_name": "LayoutModel",
          "model_module_version": "1.2.0",
          "state": {
            "_model_module": "@jupyter-widgets/base",
            "_model_module_version": "1.2.0",
            "_model_name": "LayoutModel",
            "_view_count": null,
            "_view_module": "@jupyter-widgets/base",
            "_view_module_version": "1.2.0",
            "_view_name": "LayoutView",
            "align_content": null,
            "align_items": null,
            "align_self": null,
            "border": null,
            "bottom": null,
            "display": null,
            "flex": null,
            "flex_flow": null,
            "grid_area": null,
            "grid_auto_columns": null,
            "grid_auto_flow": null,
            "grid_auto_rows": null,
            "grid_column": null,
            "grid_gap": null,
            "grid_row": null,
            "grid_template_areas": null,
            "grid_template_columns": null,
            "grid_template_rows": null,
            "height": null,
            "justify_content": null,
            "justify_items": null,
            "left": null,
            "margin": null,
            "max_height": null,
            "max_width": null,
            "min_height": null,
            "min_width": null,
            "object_fit": null,
            "object_position": null,
            "order": null,
            "overflow": null,
            "overflow_x": null,
            "overflow_y": null,
            "padding": null,
            "right": null,
            "top": null,
            "visibility": null,
            "width": null
          }
        },
        "95cdd177734e4cb4a149c46e9ef9e464": {
          "model_module": "@jupyter-widgets/controls",
          "model_name": "ProgressStyleModel",
          "model_module_version": "1.5.0",
          "state": {
            "_model_module": "@jupyter-widgets/controls",
            "_model_module_version": "1.5.0",
            "_model_name": "ProgressStyleModel",
            "_view_count": null,
            "_view_module": "@jupyter-widgets/base",
            "_view_module_version": "1.2.0",
            "_view_name": "StyleView",
            "bar_color": null,
            "description_width": ""
          }
        },
        "44804887470e4a3d978cd228e98a0d18": {
          "model_module": "@jupyter-widgets/base",
          "model_name": "LayoutModel",
          "model_module_version": "1.2.0",
          "state": {
            "_model_module": "@jupyter-widgets/base",
            "_model_module_version": "1.2.0",
            "_model_name": "LayoutModel",
            "_view_count": null,
            "_view_module": "@jupyter-widgets/base",
            "_view_module_version": "1.2.0",
            "_view_name": "LayoutView",
            "align_content": null,
            "align_items": null,
            "align_self": null,
            "border": null,
            "bottom": null,
            "display": null,
            "flex": null,
            "flex_flow": null,
            "grid_area": null,
            "grid_auto_columns": null,
            "grid_auto_flow": null,
            "grid_auto_rows": null,
            "grid_column": null,
            "grid_gap": null,
            "grid_row": null,
            "grid_template_areas": null,
            "grid_template_columns": null,
            "grid_template_rows": null,
            "height": null,
            "justify_content": null,
            "justify_items": null,
            "left": null,
            "margin": null,
            "max_height": null,
            "max_width": null,
            "min_height": null,
            "min_width": null,
            "object_fit": null,
            "object_position": null,
            "order": null,
            "overflow": null,
            "overflow_x": null,
            "overflow_y": null,
            "padding": null,
            "right": null,
            "top": null,
            "visibility": null,
            "width": null
          }
        },
        "dacaffb9064c47ce96f0ca7a9fdf1278": {
          "model_module": "@jupyter-widgets/controls",
          "model_name": "DescriptionStyleModel",
          "model_module_version": "1.5.0",
          "state": {
            "_model_module": "@jupyter-widgets/controls",
            "_model_module_version": "1.5.0",
            "_model_name": "DescriptionStyleModel",
            "_view_count": null,
            "_view_module": "@jupyter-widgets/base",
            "_view_module_version": "1.2.0",
            "_view_name": "StyleView",
            "description_width": ""
          }
        },
        "0b3dcebafaea48ada02cb749fa2583df": {
          "model_module": "@jupyter-widgets/controls",
          "model_name": "HBoxModel",
          "model_module_version": "1.5.0",
          "state": {
            "_dom_classes": [],
            "_model_module": "@jupyter-widgets/controls",
            "_model_module_version": "1.5.0",
            "_model_name": "HBoxModel",
            "_view_count": null,
            "_view_module": "@jupyter-widgets/controls",
            "_view_module_version": "1.5.0",
            "_view_name": "HBoxView",
            "box_style": "",
            "children": [
              "IPY_MODEL_0e744b34e16342c6a739bbf58c84a643",
              "IPY_MODEL_94beba5c801d4bd0b6409e822afa4ead",
              "IPY_MODEL_58877675791f4e6c89a9f967c8dfd8c9"
            ],
            "layout": "IPY_MODEL_fb0a7a17ae7740f58c31e5da47af669e"
          }
        },
        "0e744b34e16342c6a739bbf58c84a643": {
          "model_module": "@jupyter-widgets/controls",
          "model_name": "HTMLModel",
          "model_module_version": "1.5.0",
          "state": {
            "_dom_classes": [],
            "_model_module": "@jupyter-widgets/controls",
            "_model_module_version": "1.5.0",
            "_model_name": "HTMLModel",
            "_view_count": null,
            "_view_module": "@jupyter-widgets/controls",
            "_view_module_version": "1.5.0",
            "_view_name": "HTMLView",
            "description": "",
            "description_tooltip": null,
            "layout": "IPY_MODEL_7c5368b0199c4774a887b549711c3335",
            "placeholder": "​",
            "style": "IPY_MODEL_9ca18182fde84267b3c00660b1ba855c",
            "value": "tokenizer.json: 100%"
          }
        },
        "94beba5c801d4bd0b6409e822afa4ead": {
          "model_module": "@jupyter-widgets/controls",
          "model_name": "FloatProgressModel",
          "model_module_version": "1.5.0",
          "state": {
            "_dom_classes": [],
            "_model_module": "@jupyter-widgets/controls",
            "_model_module_version": "1.5.0",
            "_model_name": "FloatProgressModel",
            "_view_count": null,
            "_view_module": "@jupyter-widgets/controls",
            "_view_module_version": "1.5.0",
            "_view_name": "ProgressView",
            "bar_style": "success",
            "description": "",
            "description_tooltip": null,
            "layout": "IPY_MODEL_34b0b85c2aba49de95be8af46dff7e69",
            "max": 1108824,
            "min": 0,
            "orientation": "horizontal",
            "style": "IPY_MODEL_b6ca1b82ed7a4a3d929131b47afd4d92",
            "value": 1108824
          }
        },
        "58877675791f4e6c89a9f967c8dfd8c9": {
          "model_module": "@jupyter-widgets/controls",
          "model_name": "HTMLModel",
          "model_module_version": "1.5.0",
          "state": {
            "_dom_classes": [],
            "_model_module": "@jupyter-widgets/controls",
            "_model_module_version": "1.5.0",
            "_model_name": "HTMLModel",
            "_view_count": null,
            "_view_module": "@jupyter-widgets/controls",
            "_view_module_version": "1.5.0",
            "_view_name": "HTMLView",
            "description": "",
            "description_tooltip": null,
            "layout": "IPY_MODEL_ea489f318a314108b7954f926bc3e472",
            "placeholder": "​",
            "style": "IPY_MODEL_6729ffe6587d440fbce4886cc9bc8c57",
            "value": " 1.11M/1.11M [00:00&lt;00:00, 8.89MB/s]"
          }
        },
        "fb0a7a17ae7740f58c31e5da47af669e": {
          "model_module": "@jupyter-widgets/base",
          "model_name": "LayoutModel",
          "model_module_version": "1.2.0",
          "state": {
            "_model_module": "@jupyter-widgets/base",
            "_model_module_version": "1.2.0",
            "_model_name": "LayoutModel",
            "_view_count": null,
            "_view_module": "@jupyter-widgets/base",
            "_view_module_version": "1.2.0",
            "_view_name": "LayoutView",
            "align_content": null,
            "align_items": null,
            "align_self": null,
            "border": null,
            "bottom": null,
            "display": null,
            "flex": null,
            "flex_flow": null,
            "grid_area": null,
            "grid_auto_columns": null,
            "grid_auto_flow": null,
            "grid_auto_rows": null,
            "grid_column": null,
            "grid_gap": null,
            "grid_row": null,
            "grid_template_areas": null,
            "grid_template_columns": null,
            "grid_template_rows": null,
            "height": null,
            "justify_content": null,
            "justify_items": null,
            "left": null,
            "margin": null,
            "max_height": null,
            "max_width": null,
            "min_height": null,
            "min_width": null,
            "object_fit": null,
            "object_position": null,
            "order": null,
            "overflow": null,
            "overflow_x": null,
            "overflow_y": null,
            "padding": null,
            "right": null,
            "top": null,
            "visibility": null,
            "width": null
          }
        },
        "7c5368b0199c4774a887b549711c3335": {
          "model_module": "@jupyter-widgets/base",
          "model_name": "LayoutModel",
          "model_module_version": "1.2.0",
          "state": {
            "_model_module": "@jupyter-widgets/base",
            "_model_module_version": "1.2.0",
            "_model_name": "LayoutModel",
            "_view_count": null,
            "_view_module": "@jupyter-widgets/base",
            "_view_module_version": "1.2.0",
            "_view_name": "LayoutView",
            "align_content": null,
            "align_items": null,
            "align_self": null,
            "border": null,
            "bottom": null,
            "display": null,
            "flex": null,
            "flex_flow": null,
            "grid_area": null,
            "grid_auto_columns": null,
            "grid_auto_flow": null,
            "grid_auto_rows": null,
            "grid_column": null,
            "grid_gap": null,
            "grid_row": null,
            "grid_template_areas": null,
            "grid_template_columns": null,
            "grid_template_rows": null,
            "height": null,
            "justify_content": null,
            "justify_items": null,
            "left": null,
            "margin": null,
            "max_height": null,
            "max_width": null,
            "min_height": null,
            "min_width": null,
            "object_fit": null,
            "object_position": null,
            "order": null,
            "overflow": null,
            "overflow_x": null,
            "overflow_y": null,
            "padding": null,
            "right": null,
            "top": null,
            "visibility": null,
            "width": null
          }
        },
        "9ca18182fde84267b3c00660b1ba855c": {
          "model_module": "@jupyter-widgets/controls",
          "model_name": "DescriptionStyleModel",
          "model_module_version": "1.5.0",
          "state": {
            "_model_module": "@jupyter-widgets/controls",
            "_model_module_version": "1.5.0",
            "_model_name": "DescriptionStyleModel",
            "_view_count": null,
            "_view_module": "@jupyter-widgets/base",
            "_view_module_version": "1.2.0",
            "_view_name": "StyleView",
            "description_width": ""
          }
        },
        "34b0b85c2aba49de95be8af46dff7e69": {
          "model_module": "@jupyter-widgets/base",
          "model_name": "LayoutModel",
          "model_module_version": "1.2.0",
          "state": {
            "_model_module": "@jupyter-widgets/base",
            "_model_module_version": "1.2.0",
            "_model_name": "LayoutModel",
            "_view_count": null,
            "_view_module": "@jupyter-widgets/base",
            "_view_module_version": "1.2.0",
            "_view_name": "LayoutView",
            "align_content": null,
            "align_items": null,
            "align_self": null,
            "border": null,
            "bottom": null,
            "display": null,
            "flex": null,
            "flex_flow": null,
            "grid_area": null,
            "grid_auto_columns": null,
            "grid_auto_flow": null,
            "grid_auto_rows": null,
            "grid_column": null,
            "grid_gap": null,
            "grid_row": null,
            "grid_template_areas": null,
            "grid_template_columns": null,
            "grid_template_rows": null,
            "height": null,
            "justify_content": null,
            "justify_items": null,
            "left": null,
            "margin": null,
            "max_height": null,
            "max_width": null,
            "min_height": null,
            "min_width": null,
            "object_fit": null,
            "object_position": null,
            "order": null,
            "overflow": null,
            "overflow_x": null,
            "overflow_y": null,
            "padding": null,
            "right": null,
            "top": null,
            "visibility": null,
            "width": null
          }
        },
        "b6ca1b82ed7a4a3d929131b47afd4d92": {
          "model_module": "@jupyter-widgets/controls",
          "model_name": "ProgressStyleModel",
          "model_module_version": "1.5.0",
          "state": {
            "_model_module": "@jupyter-widgets/controls",
            "_model_module_version": "1.5.0",
            "_model_name": "ProgressStyleModel",
            "_view_count": null,
            "_view_module": "@jupyter-widgets/base",
            "_view_module_version": "1.2.0",
            "_view_name": "StyleView",
            "bar_color": null,
            "description_width": ""
          }
        },
        "ea489f318a314108b7954f926bc3e472": {
          "model_module": "@jupyter-widgets/base",
          "model_name": "LayoutModel",
          "model_module_version": "1.2.0",
          "state": {
            "_model_module": "@jupyter-widgets/base",
            "_model_module_version": "1.2.0",
            "_model_name": "LayoutModel",
            "_view_count": null,
            "_view_module": "@jupyter-widgets/base",
            "_view_module_version": "1.2.0",
            "_view_name": "LayoutView",
            "align_content": null,
            "align_items": null,
            "align_self": null,
            "border": null,
            "bottom": null,
            "display": null,
            "flex": null,
            "flex_flow": null,
            "grid_area": null,
            "grid_auto_columns": null,
            "grid_auto_flow": null,
            "grid_auto_rows": null,
            "grid_column": null,
            "grid_gap": null,
            "grid_row": null,
            "grid_template_areas": null,
            "grid_template_columns": null,
            "grid_template_rows": null,
            "height": null,
            "justify_content": null,
            "justify_items": null,
            "left": null,
            "margin": null,
            "max_height": null,
            "max_width": null,
            "min_height": null,
            "min_width": null,
            "object_fit": null,
            "object_position": null,
            "order": null,
            "overflow": null,
            "overflow_x": null,
            "overflow_y": null,
            "padding": null,
            "right": null,
            "top": null,
            "visibility": null,
            "width": null
          }
        },
        "6729ffe6587d440fbce4886cc9bc8c57": {
          "model_module": "@jupyter-widgets/controls",
          "model_name": "DescriptionStyleModel",
          "model_module_version": "1.5.0",
          "state": {
            "_model_module": "@jupyter-widgets/controls",
            "_model_module_version": "1.5.0",
            "_model_name": "DescriptionStyleModel",
            "_view_count": null,
            "_view_module": "@jupyter-widgets/base",
            "_view_module_version": "1.2.0",
            "_view_name": "StyleView",
            "description_width": ""
          }
        },
        "9f8bd3ad4cef47b2b8a53b9275a79f4a": {
          "model_module": "@jupyter-widgets/controls",
          "model_name": "HBoxModel",
          "model_module_version": "1.5.0",
          "state": {
            "_dom_classes": [],
            "_model_module": "@jupyter-widgets/controls",
            "_model_module_version": "1.5.0",
            "_model_name": "HBoxModel",
            "_view_count": null,
            "_view_module": "@jupyter-widgets/controls",
            "_view_module_version": "1.5.0",
            "_view_name": "HBoxView",
            "box_style": "",
            "children": [
              "IPY_MODEL_8f485489018a48319ed64d65dae28b8a",
              "IPY_MODEL_75c9d0e06c20476ea72657e8fd02d0ab",
              "IPY_MODEL_fd967b5be15a4b05a86ba63eaa23f5c2"
            ],
            "layout": "IPY_MODEL_b08e604f41f04920bca6d5b07f0c11aa"
          }
        },
        "8f485489018a48319ed64d65dae28b8a": {
          "model_module": "@jupyter-widgets/controls",
          "model_name": "HTMLModel",
          "model_module_version": "1.5.0",
          "state": {
            "_dom_classes": [],
            "_model_module": "@jupyter-widgets/controls",
            "_model_module_version": "1.5.0",
            "_model_name": "HTMLModel",
            "_view_count": null,
            "_view_module": "@jupyter-widgets/controls",
            "_view_module_version": "1.5.0",
            "_view_name": "HTMLView",
            "description": "",
            "description_tooltip": null,
            "layout": "IPY_MODEL_cfc53a882979486881439be9cb5e776f",
            "placeholder": "​",
            "style": "IPY_MODEL_c86015546eb54a869ee1edfe81c71860",
            "value": "special_tokens_map.json: 100%"
          }
        },
        "75c9d0e06c20476ea72657e8fd02d0ab": {
          "model_module": "@jupyter-widgets/controls",
          "model_name": "FloatProgressModel",
          "model_module_version": "1.5.0",
          "state": {
            "_dom_classes": [],
            "_model_module": "@jupyter-widgets/controls",
            "_model_module_version": "1.5.0",
            "_model_name": "FloatProgressModel",
            "_view_count": null,
            "_view_module": "@jupyter-widgets/controls",
            "_view_module_version": "1.5.0",
            "_view_name": "ProgressView",
            "bar_style": "success",
            "description": "",
            "description_tooltip": null,
            "layout": "IPY_MODEL_1c3b42fbfda04d3ea18f21b9dbe99371",
            "max": 134,
            "min": 0,
            "orientation": "horizontal",
            "style": "IPY_MODEL_c1fc491447a146ed9492c697fe1a96eb",
            "value": 134
          }
        },
        "fd967b5be15a4b05a86ba63eaa23f5c2": {
          "model_module": "@jupyter-widgets/controls",
          "model_name": "HTMLModel",
          "model_module_version": "1.5.0",
          "state": {
            "_dom_classes": [],
            "_model_module": "@jupyter-widgets/controls",
            "_model_module_version": "1.5.0",
            "_model_name": "HTMLModel",
            "_view_count": null,
            "_view_module": "@jupyter-widgets/controls",
            "_view_module_version": "1.5.0",
            "_view_name": "HTMLView",
            "description": "",
            "description_tooltip": null,
            "layout": "IPY_MODEL_4b2130809a044228a982e283dec2a281",
            "placeholder": "​",
            "style": "IPY_MODEL_bc96789879ec443392ccfc5f33a3cc05",
            "value": " 134/134 [00:00&lt;00:00, 9.18kB/s]"
          }
        },
        "b08e604f41f04920bca6d5b07f0c11aa": {
          "model_module": "@jupyter-widgets/base",
          "model_name": "LayoutModel",
          "model_module_version": "1.2.0",
          "state": {
            "_model_module": "@jupyter-widgets/base",
            "_model_module_version": "1.2.0",
            "_model_name": "LayoutModel",
            "_view_count": null,
            "_view_module": "@jupyter-widgets/base",
            "_view_module_version": "1.2.0",
            "_view_name": "LayoutView",
            "align_content": null,
            "align_items": null,
            "align_self": null,
            "border": null,
            "bottom": null,
            "display": null,
            "flex": null,
            "flex_flow": null,
            "grid_area": null,
            "grid_auto_columns": null,
            "grid_auto_flow": null,
            "grid_auto_rows": null,
            "grid_column": null,
            "grid_gap": null,
            "grid_row": null,
            "grid_template_areas": null,
            "grid_template_columns": null,
            "grid_template_rows": null,
            "height": null,
            "justify_content": null,
            "justify_items": null,
            "left": null,
            "margin": null,
            "max_height": null,
            "max_width": null,
            "min_height": null,
            "min_width": null,
            "object_fit": null,
            "object_position": null,
            "order": null,
            "overflow": null,
            "overflow_x": null,
            "overflow_y": null,
            "padding": null,
            "right": null,
            "top": null,
            "visibility": null,
            "width": null
          }
        },
        "cfc53a882979486881439be9cb5e776f": {
          "model_module": "@jupyter-widgets/base",
          "model_name": "LayoutModel",
          "model_module_version": "1.2.0",
          "state": {
            "_model_module": "@jupyter-widgets/base",
            "_model_module_version": "1.2.0",
            "_model_name": "LayoutModel",
            "_view_count": null,
            "_view_module": "@jupyter-widgets/base",
            "_view_module_version": "1.2.0",
            "_view_name": "LayoutView",
            "align_content": null,
            "align_items": null,
            "align_self": null,
            "border": null,
            "bottom": null,
            "display": null,
            "flex": null,
            "flex_flow": null,
            "grid_area": null,
            "grid_auto_columns": null,
            "grid_auto_flow": null,
            "grid_auto_rows": null,
            "grid_column": null,
            "grid_gap": null,
            "grid_row": null,
            "grid_template_areas": null,
            "grid_template_columns": null,
            "grid_template_rows": null,
            "height": null,
            "justify_content": null,
            "justify_items": null,
            "left": null,
            "margin": null,
            "max_height": null,
            "max_width": null,
            "min_height": null,
            "min_width": null,
            "object_fit": null,
            "object_position": null,
            "order": null,
            "overflow": null,
            "overflow_x": null,
            "overflow_y": null,
            "padding": null,
            "right": null,
            "top": null,
            "visibility": null,
            "width": null
          }
        },
        "c86015546eb54a869ee1edfe81c71860": {
          "model_module": "@jupyter-widgets/controls",
          "model_name": "DescriptionStyleModel",
          "model_module_version": "1.5.0",
          "state": {
            "_model_module": "@jupyter-widgets/controls",
            "_model_module_version": "1.5.0",
            "_model_name": "DescriptionStyleModel",
            "_view_count": null,
            "_view_module": "@jupyter-widgets/base",
            "_view_module_version": "1.2.0",
            "_view_name": "StyleView",
            "description_width": ""
          }
        },
        "1c3b42fbfda04d3ea18f21b9dbe99371": {
          "model_module": "@jupyter-widgets/base",
          "model_name": "LayoutModel",
          "model_module_version": "1.2.0",
          "state": {
            "_model_module": "@jupyter-widgets/base",
            "_model_module_version": "1.2.0",
            "_model_name": "LayoutModel",
            "_view_count": null,
            "_view_module": "@jupyter-widgets/base",
            "_view_module_version": "1.2.0",
            "_view_name": "LayoutView",
            "align_content": null,
            "align_items": null,
            "align_self": null,
            "border": null,
            "bottom": null,
            "display": null,
            "flex": null,
            "flex_flow": null,
            "grid_area": null,
            "grid_auto_columns": null,
            "grid_auto_flow": null,
            "grid_auto_rows": null,
            "grid_column": null,
            "grid_gap": null,
            "grid_row": null,
            "grid_template_areas": null,
            "grid_template_columns": null,
            "grid_template_rows": null,
            "height": null,
            "justify_content": null,
            "justify_items": null,
            "left": null,
            "margin": null,
            "max_height": null,
            "max_width": null,
            "min_height": null,
            "min_width": null,
            "object_fit": null,
            "object_position": null,
            "order": null,
            "overflow": null,
            "overflow_x": null,
            "overflow_y": null,
            "padding": null,
            "right": null,
            "top": null,
            "visibility": null,
            "width": null
          }
        },
        "c1fc491447a146ed9492c697fe1a96eb": {
          "model_module": "@jupyter-widgets/controls",
          "model_name": "ProgressStyleModel",
          "model_module_version": "1.5.0",
          "state": {
            "_model_module": "@jupyter-widgets/controls",
            "_model_module_version": "1.5.0",
            "_model_name": "ProgressStyleModel",
            "_view_count": null,
            "_view_module": "@jupyter-widgets/base",
            "_view_module_version": "1.2.0",
            "_view_name": "StyleView",
            "bar_color": null,
            "description_width": ""
          }
        },
        "4b2130809a044228a982e283dec2a281": {
          "model_module": "@jupyter-widgets/base",
          "model_name": "LayoutModel",
          "model_module_version": "1.2.0",
          "state": {
            "_model_module": "@jupyter-widgets/base",
            "_model_module_version": "1.2.0",
            "_model_name": "LayoutModel",
            "_view_count": null,
            "_view_module": "@jupyter-widgets/base",
            "_view_module_version": "1.2.0",
            "_view_name": "LayoutView",
            "align_content": null,
            "align_items": null,
            "align_self": null,
            "border": null,
            "bottom": null,
            "display": null,
            "flex": null,
            "flex_flow": null,
            "grid_area": null,
            "grid_auto_columns": null,
            "grid_auto_flow": null,
            "grid_auto_rows": null,
            "grid_column": null,
            "grid_gap": null,
            "grid_row": null,
            "grid_template_areas": null,
            "grid_template_columns": null,
            "grid_template_rows": null,
            "height": null,
            "justify_content": null,
            "justify_items": null,
            "left": null,
            "margin": null,
            "max_height": null,
            "max_width": null,
            "min_height": null,
            "min_width": null,
            "object_fit": null,
            "object_position": null,
            "order": null,
            "overflow": null,
            "overflow_x": null,
            "overflow_y": null,
            "padding": null,
            "right": null,
            "top": null,
            "visibility": null,
            "width": null
          }
        },
        "bc96789879ec443392ccfc5f33a3cc05": {
          "model_module": "@jupyter-widgets/controls",
          "model_name": "DescriptionStyleModel",
          "model_module_version": "1.5.0",
          "state": {
            "_model_module": "@jupyter-widgets/controls",
            "_model_module_version": "1.5.0",
            "_model_name": "DescriptionStyleModel",
            "_view_count": null,
            "_view_module": "@jupyter-widgets/base",
            "_view_module_version": "1.2.0",
            "_view_name": "StyleView",
            "description_width": ""
          }
        },
        "8c6efa86bf8d4a689ddd9420077b7bee": {
          "model_module": "@jupyter-widgets/controls",
          "model_name": "HBoxModel",
          "model_module_version": "1.5.0",
          "state": {
            "_dom_classes": [],
            "_model_module": "@jupyter-widgets/controls",
            "_model_module_version": "1.5.0",
            "_model_name": "HBoxModel",
            "_view_count": null,
            "_view_module": "@jupyter-widgets/controls",
            "_view_module_version": "1.5.0",
            "_view_name": "HBoxView",
            "box_style": "",
            "children": [
              "IPY_MODEL_1127bcf51e5040e989c4ff32c0cef899",
              "IPY_MODEL_210816e1f6074d228b5c6116d75858b9",
              "IPY_MODEL_d014a9b171c041bc9bed2c0f9983ef40"
            ],
            "layout": "IPY_MODEL_b0ec5b0159c546a09baa658c5758fe7a"
          }
        },
        "1127bcf51e5040e989c4ff32c0cef899": {
          "model_module": "@jupyter-widgets/controls",
          "model_name": "HTMLModel",
          "model_module_version": "1.5.0",
          "state": {
            "_dom_classes": [],
            "_model_module": "@jupyter-widgets/controls",
            "_model_module_version": "1.5.0",
            "_model_name": "HTMLModel",
            "_view_count": null,
            "_view_module": "@jupyter-widgets/controls",
            "_view_module_version": "1.5.0",
            "_view_name": "HTMLView",
            "description": "",
            "description_tooltip": null,
            "layout": "IPY_MODEL_1cafb2ecc1bc491c9109f58909a46186",
            "placeholder": "​",
            "style": "IPY_MODEL_ced9d632697948b2b5731d7f14aca7ac",
            "value": "pytorch_model.bin: 100%"
          }
        },
        "210816e1f6074d228b5c6116d75858b9": {
          "model_module": "@jupyter-widgets/controls",
          "model_name": "FloatProgressModel",
          "model_module_version": "1.5.0",
          "state": {
            "_dom_classes": [],
            "_model_module": "@jupyter-widgets/controls",
            "_model_module_version": "1.5.0",
            "_model_name": "FloatProgressModel",
            "_view_count": null,
            "_view_module": "@jupyter-widgets/controls",
            "_view_module_version": "1.5.0",
            "_view_name": "ProgressView",
            "bar_style": "success",
            "description": "",
            "description_tooltip": null,
            "layout": "IPY_MODEL_2dfce17e444245adb14d8cfb7f2d1769",
            "max": 473451616,
            "min": 0,
            "orientation": "horizontal",
            "style": "IPY_MODEL_c0e86b0795d1453a9188cc2cb9e95e33",
            "value": 473451616
          }
        },
        "d014a9b171c041bc9bed2c0f9983ef40": {
          "model_module": "@jupyter-widgets/controls",
          "model_name": "HTMLModel",
          "model_module_version": "1.5.0",
          "state": {
            "_dom_classes": [],
            "_model_module": "@jupyter-widgets/controls",
            "_model_module_version": "1.5.0",
            "_model_name": "HTMLModel",
            "_view_count": null,
            "_view_module": "@jupyter-widgets/controls",
            "_view_module_version": "1.5.0",
            "_view_name": "HTMLView",
            "description": "",
            "description_tooltip": null,
            "layout": "IPY_MODEL_74363baf8ff64270b4c839fd9384e848",
            "placeholder": "​",
            "style": "IPY_MODEL_618084d8ba3e42c8a19c56da786eeb50",
            "value": " 473M/473M [00:07&lt;00:00, 61.0MB/s]"
          }
        },
        "b0ec5b0159c546a09baa658c5758fe7a": {
          "model_module": "@jupyter-widgets/base",
          "model_name": "LayoutModel",
          "model_module_version": "1.2.0",
          "state": {
            "_model_module": "@jupyter-widgets/base",
            "_model_module_version": "1.2.0",
            "_model_name": "LayoutModel",
            "_view_count": null,
            "_view_module": "@jupyter-widgets/base",
            "_view_module_version": "1.2.0",
            "_view_name": "LayoutView",
            "align_content": null,
            "align_items": null,
            "align_self": null,
            "border": null,
            "bottom": null,
            "display": null,
            "flex": null,
            "flex_flow": null,
            "grid_area": null,
            "grid_auto_columns": null,
            "grid_auto_flow": null,
            "grid_auto_rows": null,
            "grid_column": null,
            "grid_gap": null,
            "grid_row": null,
            "grid_template_areas": null,
            "grid_template_columns": null,
            "grid_template_rows": null,
            "height": null,
            "justify_content": null,
            "justify_items": null,
            "left": null,
            "margin": null,
            "max_height": null,
            "max_width": null,
            "min_height": null,
            "min_width": null,
            "object_fit": null,
            "object_position": null,
            "order": null,
            "overflow": null,
            "overflow_x": null,
            "overflow_y": null,
            "padding": null,
            "right": null,
            "top": null,
            "visibility": null,
            "width": null
          }
        },
        "1cafb2ecc1bc491c9109f58909a46186": {
          "model_module": "@jupyter-widgets/base",
          "model_name": "LayoutModel",
          "model_module_version": "1.2.0",
          "state": {
            "_model_module": "@jupyter-widgets/base",
            "_model_module_version": "1.2.0",
            "_model_name": "LayoutModel",
            "_view_count": null,
            "_view_module": "@jupyter-widgets/base",
            "_view_module_version": "1.2.0",
            "_view_name": "LayoutView",
            "align_content": null,
            "align_items": null,
            "align_self": null,
            "border": null,
            "bottom": null,
            "display": null,
            "flex": null,
            "flex_flow": null,
            "grid_area": null,
            "grid_auto_columns": null,
            "grid_auto_flow": null,
            "grid_auto_rows": null,
            "grid_column": null,
            "grid_gap": null,
            "grid_row": null,
            "grid_template_areas": null,
            "grid_template_columns": null,
            "grid_template_rows": null,
            "height": null,
            "justify_content": null,
            "justify_items": null,
            "left": null,
            "margin": null,
            "max_height": null,
            "max_width": null,
            "min_height": null,
            "min_width": null,
            "object_fit": null,
            "object_position": null,
            "order": null,
            "overflow": null,
            "overflow_x": null,
            "overflow_y": null,
            "padding": null,
            "right": null,
            "top": null,
            "visibility": null,
            "width": null
          }
        },
        "ced9d632697948b2b5731d7f14aca7ac": {
          "model_module": "@jupyter-widgets/controls",
          "model_name": "DescriptionStyleModel",
          "model_module_version": "1.5.0",
          "state": {
            "_model_module": "@jupyter-widgets/controls",
            "_model_module_version": "1.5.0",
            "_model_name": "DescriptionStyleModel",
            "_view_count": null,
            "_view_module": "@jupyter-widgets/base",
            "_view_module_version": "1.2.0",
            "_view_name": "StyleView",
            "description_width": ""
          }
        },
        "2dfce17e444245adb14d8cfb7f2d1769": {
          "model_module": "@jupyter-widgets/base",
          "model_name": "LayoutModel",
          "model_module_version": "1.2.0",
          "state": {
            "_model_module": "@jupyter-widgets/base",
            "_model_module_version": "1.2.0",
            "_model_name": "LayoutModel",
            "_view_count": null,
            "_view_module": "@jupyter-widgets/base",
            "_view_module_version": "1.2.0",
            "_view_name": "LayoutView",
            "align_content": null,
            "align_items": null,
            "align_self": null,
            "border": null,
            "bottom": null,
            "display": null,
            "flex": null,
            "flex_flow": null,
            "grid_area": null,
            "grid_auto_columns": null,
            "grid_auto_flow": null,
            "grid_auto_rows": null,
            "grid_column": null,
            "grid_gap": null,
            "grid_row": null,
            "grid_template_areas": null,
            "grid_template_columns": null,
            "grid_template_rows": null,
            "height": null,
            "justify_content": null,
            "justify_items": null,
            "left": null,
            "margin": null,
            "max_height": null,
            "max_width": null,
            "min_height": null,
            "min_width": null,
            "object_fit": null,
            "object_position": null,
            "order": null,
            "overflow": null,
            "overflow_x": null,
            "overflow_y": null,
            "padding": null,
            "right": null,
            "top": null,
            "visibility": null,
            "width": null
          }
        },
        "c0e86b0795d1453a9188cc2cb9e95e33": {
          "model_module": "@jupyter-widgets/controls",
          "model_name": "ProgressStyleModel",
          "model_module_version": "1.5.0",
          "state": {
            "_model_module": "@jupyter-widgets/controls",
            "_model_module_version": "1.5.0",
            "_model_name": "ProgressStyleModel",
            "_view_count": null,
            "_view_module": "@jupyter-widgets/base",
            "_view_module_version": "1.2.0",
            "_view_name": "StyleView",
            "bar_color": null,
            "description_width": ""
          }
        },
        "74363baf8ff64270b4c839fd9384e848": {
          "model_module": "@jupyter-widgets/base",
          "model_name": "LayoutModel",
          "model_module_version": "1.2.0",
          "state": {
            "_model_module": "@jupyter-widgets/base",
            "_model_module_version": "1.2.0",
            "_model_name": "LayoutModel",
            "_view_count": null,
            "_view_module": "@jupyter-widgets/base",
            "_view_module_version": "1.2.0",
            "_view_name": "LayoutView",
            "align_content": null,
            "align_items": null,
            "align_self": null,
            "border": null,
            "bottom": null,
            "display": null,
            "flex": null,
            "flex_flow": null,
            "grid_area": null,
            "grid_auto_columns": null,
            "grid_auto_flow": null,
            "grid_auto_rows": null,
            "grid_column": null,
            "grid_gap": null,
            "grid_row": null,
            "grid_template_areas": null,
            "grid_template_columns": null,
            "grid_template_rows": null,
            "height": null,
            "justify_content": null,
            "justify_items": null,
            "left": null,
            "margin": null,
            "max_height": null,
            "max_width": null,
            "min_height": null,
            "min_width": null,
            "object_fit": null,
            "object_position": null,
            "order": null,
            "overflow": null,
            "overflow_x": null,
            "overflow_y": null,
            "padding": null,
            "right": null,
            "top": null,
            "visibility": null,
            "width": null
          }
        },
        "618084d8ba3e42c8a19c56da786eeb50": {
          "model_module": "@jupyter-widgets/controls",
          "model_name": "DescriptionStyleModel",
          "model_module_version": "1.5.0",
          "state": {
            "_model_module": "@jupyter-widgets/controls",
            "_model_module_version": "1.5.0",
            "_model_name": "DescriptionStyleModel",
            "_view_count": null,
            "_view_module": "@jupyter-widgets/base",
            "_view_module_version": "1.2.0",
            "_view_name": "StyleView",
            "description_width": ""
          }
        }
      }
    }
  },
  "cells": [
    {
      "cell_type": "markdown",
      "source": [
        "# Question 1"
      ],
      "metadata": {
        "id": "Y9VReGb2F9YR"
      }
    },
    {
      "cell_type": "markdown",
      "source": [
        "## 1.0 : Installing and importing necessary libraries"
      ],
      "metadata": {
        "id": "hfki_tJGF-oj"
      }
    },
    {
      "cell_type": "markdown",
      "source": [
        "we will use hazm and emoji libraries to preprocess the persian texts"
      ],
      "metadata": {
        "id": "sllc7Hy_GDRJ"
      }
    },
    {
      "cell_type": "code",
      "execution_count": 1,
      "metadata": {
        "colab": {
          "base_uri": "https://localhost:8080/",
          "height": 933
        },
        "collapsed": true,
        "id": "KYpwl7L5Fz79",
        "outputId": "7c4b1190-aa03-4378-a381-239d36f19cd0"
      },
      "outputs": [
        {
          "output_type": "stream",
          "name": "stdout",
          "text": [
            "Collecting hazm\n",
            "  Downloading hazm-0.10.0-py3-none-any.whl (892 kB)\n",
            "\u001b[2K     \u001b[90m━━━━━━━━━━━━━━━━━━━━━━━━━━━━━━━━━━━━━━━━\u001b[0m \u001b[32m892.6/892.6 kB\u001b[0m \u001b[31m6.3 MB/s\u001b[0m eta \u001b[36m0:00:00\u001b[0m\n",
            "\u001b[?25hCollecting emoji\n",
            "  Downloading emoji-2.12.1-py3-none-any.whl (431 kB)\n",
            "\u001b[2K     \u001b[90m━━━━━━━━━━━━━━━━━━━━━━━━━━━━━━━━━━━━━━━━\u001b[0m \u001b[32m431.4/431.4 kB\u001b[0m \u001b[31m9.1 MB/s\u001b[0m eta \u001b[36m0:00:00\u001b[0m\n",
            "\u001b[?25hCollecting fasttext-wheel<0.10.0,>=0.9.2 (from hazm)\n",
            "  Downloading fasttext_wheel-0.9.2-cp310-cp310-manylinux_2_17_x86_64.manylinux2014_x86_64.whl (4.4 MB)\n",
            "\u001b[2K     \u001b[90m━━━━━━━━━━━━━━━━━━━━━━━━━━━━━━━━━━━━━━━━\u001b[0m \u001b[32m4.4/4.4 MB\u001b[0m \u001b[31m17.8 MB/s\u001b[0m eta \u001b[36m0:00:00\u001b[0m\n",
            "\u001b[?25hCollecting flashtext<3.0,>=2.7 (from hazm)\n",
            "  Downloading flashtext-2.7.tar.gz (14 kB)\n",
            "  Preparing metadata (setup.py) ... \u001b[?25l\u001b[?25hdone\n",
            "Requirement already satisfied: gensim<5.0.0,>=4.3.1 in /usr/local/lib/python3.10/dist-packages (from hazm) (4.3.2)\n",
            "Requirement already satisfied: nltk<4.0.0,>=3.8.1 in /usr/local/lib/python3.10/dist-packages (from hazm) (3.8.1)\n",
            "Collecting numpy==1.24.3 (from hazm)\n",
            "  Downloading numpy-1.24.3-cp310-cp310-manylinux_2_17_x86_64.manylinux2014_x86_64.whl (17.3 MB)\n",
            "\u001b[2K     \u001b[90m━━━━━━━━━━━━━━━━━━━━━━━━━━━━━━━━━━━━━━━━\u001b[0m \u001b[32m17.3/17.3 MB\u001b[0m \u001b[31m51.6 MB/s\u001b[0m eta \u001b[36m0:00:00\u001b[0m\n",
            "\u001b[?25hCollecting python-crfsuite<0.10.0,>=0.9.9 (from hazm)\n",
            "  Downloading python_crfsuite-0.9.10-cp310-cp310-manylinux_2_17_x86_64.manylinux2014_x86_64.whl (1.1 MB)\n",
            "\u001b[2K     \u001b[90m━━━━━━━━━━━━━━━━━━━━━━━━━━━━━━━━━━━━━━━━\u001b[0m \u001b[32m1.1/1.1 MB\u001b[0m \u001b[31m73.2 MB/s\u001b[0m eta \u001b[36m0:00:00\u001b[0m\n",
            "\u001b[?25hRequirement already satisfied: scikit-learn<2.0.0,>=1.2.2 in /usr/local/lib/python3.10/dist-packages (from hazm) (1.2.2)\n",
            "Requirement already satisfied: typing-extensions>=4.7.0 in /usr/local/lib/python3.10/dist-packages (from emoji) (4.11.0)\n",
            "Collecting pybind11>=2.2 (from fasttext-wheel<0.10.0,>=0.9.2->hazm)\n",
            "  Downloading pybind11-2.12.0-py3-none-any.whl (234 kB)\n",
            "\u001b[2K     \u001b[90m━━━━━━━━━━━━━━━━━━━━━━━━━━━━━━━━━━━━━━━━\u001b[0m \u001b[32m235.0/235.0 kB\u001b[0m \u001b[31m29.3 MB/s\u001b[0m eta \u001b[36m0:00:00\u001b[0m\n",
            "\u001b[?25hRequirement already satisfied: setuptools>=0.7.0 in /usr/local/lib/python3.10/dist-packages (from fasttext-wheel<0.10.0,>=0.9.2->hazm) (67.7.2)\n",
            "Requirement already satisfied: scipy>=1.7.0 in /usr/local/lib/python3.10/dist-packages (from gensim<5.0.0,>=4.3.1->hazm) (1.11.4)\n",
            "Requirement already satisfied: smart-open>=1.8.1 in /usr/local/lib/python3.10/dist-packages (from gensim<5.0.0,>=4.3.1->hazm) (6.4.0)\n",
            "Requirement already satisfied: click in /usr/local/lib/python3.10/dist-packages (from nltk<4.0.0,>=3.8.1->hazm) (8.1.7)\n",
            "Requirement already satisfied: joblib in /usr/local/lib/python3.10/dist-packages (from nltk<4.0.0,>=3.8.1->hazm) (1.4.2)\n",
            "Requirement already satisfied: regex>=2021.8.3 in /usr/local/lib/python3.10/dist-packages (from nltk<4.0.0,>=3.8.1->hazm) (2024.5.15)\n",
            "Requirement already satisfied: tqdm in /usr/local/lib/python3.10/dist-packages (from nltk<4.0.0,>=3.8.1->hazm) (4.66.4)\n",
            "Requirement already satisfied: threadpoolctl>=2.0.0 in /usr/local/lib/python3.10/dist-packages (from scikit-learn<2.0.0,>=1.2.2->hazm) (3.5.0)\n",
            "Building wheels for collected packages: flashtext\n",
            "  Building wheel for flashtext (setup.py) ... \u001b[?25l\u001b[?25hdone\n",
            "  Created wheel for flashtext: filename=flashtext-2.7-py2.py3-none-any.whl size=9296 sha256=794e2f50b16a385d4368c940dbe9bd5e0905e637d645c6f3910142db1cf6336c\n",
            "  Stored in directory: /root/.cache/pip/wheels/bc/be/39/c37ad168eb2ff644c9685f52554440372129450f0b8ed203dd\n",
            "Successfully built flashtext\n",
            "Installing collected packages: python-crfsuite, flashtext, pybind11, numpy, emoji, fasttext-wheel, hazm\n",
            "  Attempting uninstall: numpy\n",
            "    Found existing installation: numpy 1.25.2\n",
            "    Uninstalling numpy-1.25.2:\n",
            "      Successfully uninstalled numpy-1.25.2\n",
            "\u001b[31mERROR: pip's dependency resolver does not currently take into account all the packages that are installed. This behaviour is the source of the following dependency conflicts.\n",
            "pandas-stubs 2.0.3.230814 requires numpy>=1.25.0; python_version >= \"3.9\", but you have numpy 1.24.3 which is incompatible.\u001b[0m\u001b[31m\n",
            "\u001b[0mSuccessfully installed emoji-2.12.1 fasttext-wheel-0.9.2 flashtext-2.7 hazm-0.10.0 numpy-1.24.3 pybind11-2.12.0 python-crfsuite-0.9.10\n"
          ]
        },
        {
          "output_type": "display_data",
          "data": {
            "application/vnd.colab-display-data+json": {
              "pip_warning": {
                "packages": [
                  "numpy"
                ]
              },
              "id": "9d7a577adbba41cca97ae3b50398f7b7"
            }
          },
          "metadata": {}
        }
      ],
      "source": [
        "!pip install hazm emoji"
      ]
    },
    {
      "cell_type": "code",
      "source": [
        "import torch\n",
        "import torch.nn as nn\n",
        "import torch.optim as optim\n",
        "import os\n",
        "import pandas as pd\n",
        "import glob\n",
        "import numpy as np\n",
        "from matplotlib import pyplot as plt\n",
        "\n",
        "import re\n",
        "import hazm\n",
        "from hazm import Normalizer, word_tokenize, stopwords_list\n",
        "import emoji"
      ],
      "metadata": {
        "id": "ftESjehFF7aT"
      },
      "execution_count": 1,
      "outputs": []
    },
    {
      "cell_type": "markdown",
      "source": [
        "## 1.1 : Loading and visualizing the data\n",
        "\n",
        "\n",
        "\n"
      ],
      "metadata": {
        "id": "m_T6H_b5GMGo"
      }
    },
    {
      "cell_type": "code",
      "source": [
        "!mkdir -p ~/.kaggle\n",
        "!cp /content/drive/MyDrive/kaggle/kaggle.json ~/.kaggle/\n",
        "!chmod 600 ~/.kaggle/kaggle.json\n",
        "\n",
        "!kaggle datasets download -d behdadkarimi/persian-tweets-emotional-dataset -p /content/datasets/persian_tweets\n",
        "\n",
        "%cd /content/datasets/persian_tweets\n",
        "\n",
        "!unzip persian-tweets-emotional-dataset.zip"
      ],
      "metadata": {
        "colab": {
          "base_uri": "https://localhost:8080/"
        },
        "id": "cy14iPyqGKOM",
        "outputId": "57787b81-514a-4cfc-b25f-8103a5d450e6"
      },
      "execution_count": 2,
      "outputs": [
        {
          "output_type": "stream",
          "name": "stdout",
          "text": [
            "cp: cannot stat '/content/drive/MyDrive/kaggle/kaggle.json': No such file or directory\n",
            "chmod: cannot access '/root/.kaggle/kaggle.json': No such file or directory\n",
            "Dataset URL: https://www.kaggle.com/datasets/behdadkarimi/persian-tweets-emotional-dataset\n",
            "License(s): copyright-authors\n",
            "Downloading persian-tweets-emotional-dataset.zip to /content/datasets/persian_tweets\n",
            " 43% 5.00M/11.6M [00:00<00:00, 47.9MB/s]\n",
            "100% 11.6M/11.6M [00:00<00:00, 86.0MB/s]\n",
            "/content/datasets/persian_tweets\n",
            "Archive:  persian-tweets-emotional-dataset.zip\n",
            "  inflating: anger.csv               \n",
            "  inflating: disgust.csv             \n",
            "  inflating: fear.csv                \n",
            "  inflating: joy.csv                 \n",
            "  inflating: sad.csv                 \n",
            "  inflating: surprise.csv            \n"
          ]
        }
      ]
    },
    {
      "cell_type": "markdown",
      "source": [
        "pandas library is used to read the csv files and then merge all of them into one dataframe."
      ],
      "metadata": {
        "id": "7fk7YYArGRQ8"
      }
    },
    {
      "cell_type": "code",
      "source": [
        "folder_path = '/content/datasets/persian_tweets'\n",
        "\n",
        "files = glob.glob(f'{folder_path}/*.csv')\n",
        "\n",
        "all_csvs = [pd.read_csv(file) for file in files]\n",
        "\n",
        "data = pd.concat(all_csvs, ignore_index=True)\n",
        "\n",
        "print(f'total count of data: {data.shape[0]}')"
      ],
      "metadata": {
        "colab": {
          "base_uri": "https://localhost:8080/"
        },
        "id": "Io4usXuyGN48",
        "outputId": "18db941e-e49d-4505-9b27-be7f4895630b"
      },
      "execution_count": 3,
      "outputs": [
        {
          "output_type": "stream",
          "name": "stdout",
          "text": [
            "total count of data: 113829\n"
          ]
        }
      ]
    },
    {
      "cell_type": "markdown",
      "source": [
        "the count of each emotion label is then visualized by a bar plot"
      ],
      "metadata": {
        "id": "nV60QcXkGTYE"
      }
    },
    {
      "cell_type": "code",
      "source": [
        "emotion_counts = data['emotion'].value_counts()\n",
        "\n",
        "emotion_counts.plot(kind='bar', color='grey')\n",
        "\n",
        "plt.xlabel('Emotion')\n",
        "plt.ylabel('Count')\n",
        "plt.title('Count of Each Emotion')\n",
        "plt.grid(True)\n",
        "\n",
        "plt.show()"
      ],
      "metadata": {
        "colab": {
          "base_uri": "https://localhost:8080/",
          "height": 513
        },
        "id": "ldPr7RGhGPps",
        "outputId": "f4fc7d66-20ab-4704-b6fc-b8935243f247"
      },
      "execution_count": 4,
      "outputs": [
        {
          "output_type": "display_data",
          "data": {
            "text/plain": [
              "<Figure size 640x480 with 1 Axes>"
            ],
            "image/png": "[encoded data removed]"
          },
          "metadata": {}
        }
      ]
    },
    {
      "cell_type": "markdown",
      "source": [
        "## 1.2 : Data preprocessing"
      ],
      "metadata": {
        "id": "QlKAmA-gGWlQ"
      }
    },
    {
      "cell_type": "markdown",
      "source": [
        "there are 6 steps taken in the original paper to preprocess and clean the data.\n",
        "\n",
        "\n",
        "1.   Removing all the HTMLs and URLs\n",
        "2.   Removing repetitive characters in a word\n",
        "3.   Removing the stop-words.\n",
        "4.   Replacing emojis with their equivalent textual representation\n",
        "5.   Applying stemming\n",
        "6.   Correcting the incorrect spellings\n",
        "\n"
      ],
      "metadata": {
        "id": "LRsObmYeGZFS"
      }
    },
    {
      "cell_type": "code",
      "source": [
        "# Load Persian stopwords\n",
        "stop_words = set(stopwords_list())\n",
        "\n",
        "def clean_text(text, url=True, html=True, repetitive=True, stopwords=True, replace_emoji=True):\n",
        "\n",
        "    # 1. Remove URLs\n",
        "    if url:\n",
        "      text = re.sub(r'http\\S+|www.\\S+', '', text)\n",
        "\n",
        "    # 1. Remove HTMLs\n",
        "    if html:\n",
        "      text = re.sub(r'<.*?>', '', text)\n",
        "\n",
        "    # 2. Removing repetitive characters\n",
        "    if repetitive:\n",
        "      text = re.sub(r'(.)\\1+', r'\\1', text)\n",
        "\n",
        "    if stopwords:\n",
        "      # we use tokenizer to detect stop-words in the text\n",
        "      words = word_tokenize(text)\n",
        "      # Detecting stopwords using the persian stop-words sets which we earlier loaded\n",
        "      # 3. excluding stop words\n",
        "      words = [word for word in words if word not in stop_words]\n",
        "\n",
        "      # Join remaining words\n",
        "      text = ' '.join(words)\n",
        "\n",
        "    # 4. replacing emojis with their textual equivalent\n",
        "    if replace_emoji:\n",
        "      text = emoji.demojize(text, language='alias', delimiters=(\"\", \" \"))\n",
        "\n",
        "    return text\n",
        "\n",
        "# the uncleaned tweets are also saved in case they are needed later\n",
        "data['uncleaned_tweet'] = data['tweet'].copy()\n",
        "# applying the function on the 'tweet' column\n",
        "data['tweet'] = data['tweet'].apply(clean_text)"
      ],
      "metadata": {
        "id": "S3IBhWd6GU1P"
      },
      "execution_count": 5,
      "outputs": []
    },
    {
      "cell_type": "markdown",
      "source": [
        "Showing examples of each of the preprocessing acts"
      ],
      "metadata": {
        "id": "pqEUBuinGeUH"
      }
    },
    {
      "cell_type": "code",
      "source": [
        "print('URL example:')\n",
        "example = 'مطالب در سایت www.wikipedia.com موجود است'\n",
        "cleaned = clean_text(example, url=True, html=False, repetitive=False, stopwords=False, replace_emoji=False)\n",
        "print(f'original:\\n{(example)}\\npreprocessed:\\n{cleaned}\\n')\n",
        "\n",
        "print('HTML example:')\n",
        "example = 'یک مثال برای <html>'\n",
        "cleaned = clean_text(example, url=False, html=True, repetitive=False, stopwords=False, replace_emoji=False)\n",
        "print(f'original:\\n{(example)}\\npreprocessed:\\n{cleaned}\\n')\n",
        "\n",
        "print('Repetitive characters example:')\n",
        "example = 'سلام بر شما امروز حال من خیلی خوووووب است'\n",
        "cleaned = clean_text(example, url=False, html=False, repetitive=True, stopwords=False, replace_emoji=False)\n",
        "print(f'original:\\n{(example)}\\npreprocessed:\\n{cleaned}\\n')\n",
        "\n",
        "print('Stop words example:')\n",
        "example = 'سلام بر شما امروز حال من خیلی خوووووب است'\n",
        "cleaned = clean_text(example, url=False, html=False, repetitive=False, stopwords=True, replace_emoji=False)\n",
        "print(f'original:\\n{(example)}\\npreprocessed:\\n{cleaned}\\n')\n",
        "\n",
        "print('Emoji example:')\n",
        "example = 'چه قدر جالب 😂😂😂'\n",
        "cleaned = clean_text(example, url=False, html=False, repetitive=False, stopwords=False, replace_emoji=True)\n",
        "print(f'original:\\n{(example)}\\npreprocessed:\\n{cleaned}\\n')\n"
      ],
      "metadata": {
        "colab": {
          "base_uri": "https://localhost:8080/"
        },
        "id": "M5WlroBVGYDq",
        "outputId": "fa54b4fd-f8c0-4f6e-a3ba-cc5dcf84b22d"
      },
      "execution_count": 6,
      "outputs": [
        {
          "output_type": "stream",
          "name": "stdout",
          "text": [
            "URL example:\n",
            "original:\n",
            "مطالب در سایت www.wikipedia.com موجود است\n",
            "preprocessed:\n",
            "مطالب در سایت  موجود است\n",
            "\n",
            "HTML example:\n",
            "original:\n",
            "یک مثال برای <html>\n",
            "preprocessed:\n",
            "یک مثال برای \n",
            "\n",
            "Repetitive characters example:\n",
            "original:\n",
            "سلام بر شما امروز حال من خیلی خوووووب است\n",
            "preprocessed:\n",
            "سلام بر شما امروز حال من خیلی خوب است\n",
            "\n",
            "Stop words example:\n",
            "original:\n",
            "سلام بر شما امروز حال من خیلی خوووووب است\n",
            "preprocessed:\n",
            "سلام امروز خوووووب\n",
            "\n",
            "Emoji example:\n",
            "original:\n",
            "چه قدر جالب 😂😂😂\n",
            "preprocessed:\n",
            "چه قدر جالب joy joy joy \n",
            "\n"
          ]
        }
      ]
    },
    {
      "cell_type": "markdown",
      "source": [
        "## 1.3 : Feature representation"
      ],
      "metadata": {
        "id": "-9nYF_tVG5qc"
      }
    },
    {
      "cell_type": "markdown",
      "source": [
        "we first need to build ParsBERT Tokenizer and Model. we use the instructions on ParsBERT github page."
      ],
      "metadata": {
        "id": "28XJrGxIsvtK"
      }
    },
    {
      "cell_type": "code",
      "source": [
        "# Loading up FarsBert tokenizer\n",
        "from transformers import AutoConfig, AutoTokenizer, AutoModel, TFAutoModel\n",
        "\n",
        "# v3.0\n",
        "model_name_or_path = \"HooshvareLab/bert-fa-zwnj-base\"\n",
        "config = AutoConfig.from_pretrained(model_name_or_path)\n",
        "tokenizer = AutoTokenizer.from_pretrained(model_name_or_path)\n",
        "\n",
        "model = AutoModel.from_pretrained(model_name_or_path)"
      ],
      "metadata": {
        "colab": {
          "base_uri": "https://localhost:8080/",
          "height": 403,
          "referenced_widgets": [
            "e6ee78aa5e4947e6a37e273d7978c5ff",
            "81119d70526f4feabe2d2e0df49e80a6",
            "163268daace444a0927018f725869aaa",
            "074349bdb96e48c68ce6116e0469e9d2",
            "4e3c71eb03574852948e6de2aecc928c",
            "6fd30dcbedab46d3b271cb55f7186f29",
            "1209f0afe17f4d178e5bb14349a9bc99",
            "16f3114a956847b4972f503c9154fbe3",
            "316d500782aa417fba01d52f234b1785",
            "879c9346c929467bb2452492519fbf09",
            "c0b82d20a24b454d9bbecd81ae0c8bfe",
            "1ae0d398f21f48eaa38cd6d3f0392df1",
            "24c8c90b8aed44e1a0105b66249d1550",
            "90384e7189364ac3897ffded9ff06393",
            "90240cb1dc6b4effa1c956862b77ae47",
            "6642e1498cf5435b906010e8c877cc93",
            "b0c994fa073f41308c5f93a6eb37795a",
            "0ef3efc5da7a4997a1aaaf6e9c100290",
            "4c91ae2b46e7449f887c8be6d4ee602a",
            "1806ea5b90e5486d8d57b9fb275aec63",
            "b9537c3785904435b2e3ee8bfc9a2994",
            "c1d18ace4855460c9a33c29de581ca9b",
            "1e45c991fe1c42649f57e14907141f06",
            "7c00dd67e8a64390b69567430cc9b5c3",
            "2d790cf739bf447a87d0ff414ea400bd",
            "1c90c9f8109a4c5a87e523eaadba7bf5",
            "96db2ac1c85f46bdb554cfad9140cee8",
            "e8d0c853d4954fbea6f14284c9fe7c88",
            "11590a0051e9408c8be63d0413380a1f",
            "06d7fa2ee35f49e0ba3498293b9fb924",
            "95cdd177734e4cb4a149c46e9ef9e464",
            "44804887470e4a3d978cd228e98a0d18",
            "dacaffb9064c47ce96f0ca7a9fdf1278",
            "0b3dcebafaea48ada02cb749fa2583df",
            "0e744b34e16342c6a739bbf58c84a643",
            "94beba5c801d4bd0b6409e822afa4ead",
            "58877675791f4e6c89a9f967c8dfd8c9",
            "fb0a7a17ae7740f58c31e5da47af669e",
            "7c5368b0199c4774a887b549711c3335",
            "9ca18182fde84267b3c00660b1ba855c",
            "34b0b85c2aba49de95be8af46dff7e69",
            "b6ca1b82ed7a4a3d929131b47afd4d92",
            "ea489f318a314108b7954f926bc3e472",
            "6729ffe6587d440fbce4886cc9bc8c57",
            "9f8bd3ad4cef47b2b8a53b9275a79f4a",
            "8f485489018a48319ed64d65dae28b8a",
            "75c9d0e06c20476ea72657e8fd02d0ab",
            "fd967b5be15a4b05a86ba63eaa23f5c2",
            "b08e604f41f04920bca6d5b07f0c11aa",
            "cfc53a882979486881439be9cb5e776f",
            "c86015546eb54a869ee1edfe81c71860",
            "1c3b42fbfda04d3ea18f21b9dbe99371",
            "c1fc491447a146ed9492c697fe1a96eb",
            "4b2130809a044228a982e283dec2a281",
            "bc96789879ec443392ccfc5f33a3cc05",
            "8c6efa86bf8d4a689ddd9420077b7bee",
            "1127bcf51e5040e989c4ff32c0cef899",
            "210816e1f6074d228b5c6116d75858b9",
            "d014a9b171c041bc9bed2c0f9983ef40",
            "b0ec5b0159c546a09baa658c5758fe7a",
            "1cafb2ecc1bc491c9109f58909a46186",
            "ced9d632697948b2b5731d7f14aca7ac",
            "2dfce17e444245adb14d8cfb7f2d1769",
            "c0e86b0795d1453a9188cc2cb9e95e33",
            "74363baf8ff64270b4c839fd9384e848",
            "618084d8ba3e42c8a19c56da786eeb50"
          ]
        },
        "id": "8TUV925Qn1aY",
        "outputId": "e480665d-6266-4ae7-eaed-2afc84810736"
      },
      "execution_count": 7,
      "outputs": [
        {
          "output_type": "stream",
          "name": "stderr",
          "text": [
            "/usr/local/lib/python3.10/dist-packages/huggingface_hub/file_download.py:1132: FutureWarning: `resume_download` is deprecated and will be removed in version 1.0.0. Downloads always resume when possible. If you want to force a new download, use `force_download=True`.\n",
            "  warnings.warn(\n",
            "/usr/local/lib/python3.10/dist-packages/huggingface_hub/utils/_token.py:89: UserWarning: \n",
            "The secret `HF_TOKEN` does not exist in your Colab secrets.\n",
            "To authenticate with the Hugging Face Hub, create a token in your settings tab (https://huggingface.co/settings/tokens), set it as secret in your Google Colab and restart your session.\n",
            "You will be able to reuse this secret in all of your notebooks.\n",
            "Please note that authentication is recommended but still optional to access public models or datasets.\n",
            "  warnings.warn(\n"
          ]
        },
        {
          "output_type": "display_data",
          "data": {
            "text/plain": [
              "config.json:   0%|          | 0.00/565 [00:00<?, ?B/s]"
            ],
            "application/vnd.jupyter.widget-view+json": {
              "version_major": 2,
              "version_minor": 0,
              "model_id": "e6ee78aa5e4947e6a37e273d7978c5ff"
            }
          },
          "metadata": {}
        },
        {
          "output_type": "display_data",
          "data": {
            "text/plain": [
              "tokenizer_config.json:   0%|          | 0.00/292 [00:00<?, ?B/s]"
            ],
            "application/vnd.jupyter.widget-view+json": {
              "version_major": 2,
              "version_minor": 0,
              "model_id": "1ae0d398f21f48eaa38cd6d3f0392df1"
            }
          },
          "metadata": {}
        },
        {
          "output_type": "display_data",
          "data": {
            "text/plain": [
              "vocab.txt:   0%|          | 0.00/426k [00:00<?, ?B/s]"
            ],
            "application/vnd.jupyter.widget-view+json": {
              "version_major": 2,
              "version_minor": 0,
              "model_id": "1e45c991fe1c42649f57e14907141f06"
            }
          },
          "metadata": {}
        },
        {
          "output_type": "display_data",
          "data": {
            "text/plain": [
              "tokenizer.json:   0%|          | 0.00/1.11M [00:00<?, ?B/s]"
            ],
            "application/vnd.jupyter.widget-view+json": {
              "version_major": 2,
              "version_minor": 0,
              "model_id": "0b3dcebafaea48ada02cb749fa2583df"
            }
          },
          "metadata": {}
        },
        {
          "output_type": "display_data",
          "data": {
            "text/plain": [
              "special_tokens_map.json:   0%|          | 0.00/134 [00:00<?, ?B/s]"
            ],
            "application/vnd.jupyter.widget-view+json": {
              "version_major": 2,
              "version_minor": 0,
              "model_id": "9f8bd3ad4cef47b2b8a53b9275a79f4a"
            }
          },
          "metadata": {}
        },
        {
          "output_type": "display_data",
          "data": {
            "text/plain": [
              "pytorch_model.bin:   0%|          | 0.00/473M [00:00<?, ?B/s]"
            ],
            "application/vnd.jupyter.widget-view+json": {
              "version_major": 2,
              "version_minor": 0,
              "model_id": "8c6efa86bf8d4a689ddd9420077b7bee"
            }
          },
          "metadata": {}
        },
        {
          "output_type": "stream",
          "name": "stderr",
          "text": [
            "Some weights of BertModel were not initialized from the model checkpoint at HooshvareLab/bert-fa-zwnj-base and are newly initialized: ['bert.pooler.dense.bias', 'bert.pooler.dense.weight']\n",
            "You should probably TRAIN this model on a down-stream task to be able to use it for predictions and inference.\n"
          ]
        }
      ]
    },
    {
      "cell_type": "markdown",
      "source": [
        "we need to tokenize the texts and also pad them if necessary. max_length=32 is used as instructed in the question description."
      ],
      "metadata": {
        "id": "CN5_LRQSs-jC"
      }
    },
    {
      "cell_type": "code",
      "source": [
        "def tokenize_and_pad(text):\n",
        "    encoded = tokenizer.encode_plus(\n",
        "        text,\n",
        "        add_special_tokens=True,\n",
        "        max_length=32,\n",
        "        padding='max_length',\n",
        "        truncation=True,\n",
        "        return_tensors='pt'\n",
        "    )\n",
        "    return encoded['input_ids'][0], encoded['attention_mask'][0]"
      ],
      "metadata": {
        "id": "rAT62oe_n1TN"
      },
      "execution_count": 8,
      "outputs": []
    },
    {
      "cell_type": "code",
      "source": [
        "data[['input_ids', 'attention_mask']] = data['tweet'].apply(\n",
        "    lambda x: pd.Series(tokenize_and_pad(x))\n",
        ")"
      ],
      "metadata": {
        "id": "QaD9g-ein1JH"
      },
      "execution_count": 9,
      "outputs": []
    },
    {
      "cell_type": "markdown",
      "source": [
        "## 1.4 : Model Creation and Evaluation"
      ],
      "metadata": {
        "id": "Rml8ox3xvWD0"
      }
    },
    {
      "cell_type": "markdown",
      "source": [
        "we then will use 'input_ids' column as the features"
      ],
      "metadata": {
        "id": "cacaeFK6tPpp"
      }
    },
    {
      "cell_type": "code",
      "source": [
        "X = data['input_ids']\n",
        "y = pd.get_dummies(data['emotion']).values\n",
        "num_classes = data['emotion'].nunique()"
      ],
      "metadata": {
        "id": "HIBaBtCxn1DV"
      },
      "execution_count": 10,
      "outputs": []
    },
    {
      "cell_type": "markdown",
      "source": [
        "we then split the data into train and test.(0.7 , 0.3)\n",
        "\n",
        "\n",
        "and then split the train data into train and validation.(0.8 , 0.2)"
      ],
      "metadata": {
        "id": "JzqKMEDitYCb"
      }
    },
    {
      "cell_type": "code",
      "source": [
        "seed = 101\n",
        "np.random.seed(seed)"
      ],
      "metadata": {
        "id": "yZbgyFrdKuH9"
      },
      "execution_count": 11,
      "outputs": []
    },
    {
      "cell_type": "code",
      "source": [
        "from sklearn.model_selection import train_test_split\n",
        "X_train, X_test, y_train, y_test = train_test_split(X, y, test_size=0.3, stratify=y, random_state=seed)\n",
        "X_train, X_valid, y_train, y_valid = train_test_split(X_train, y_train, test_size=0.2, stratify=y_train, random_state=seed)"
      ],
      "metadata": {
        "id": "OkhuyzDJtuyi"
      },
      "execution_count": 12,
      "outputs": []
    },
    {
      "cell_type": "code",
      "source": [
        "print('shapes:')\n",
        "print(f'X_train:\\t{X_train.shape}\\ty_train:\\t{y_train.shape}')\n",
        "print(f'X_valid:\\t{X_valid.shape}\\ty_valid:\\t{y_valid.shape}')\n",
        "print(f'X_test:\\t\\t{X_test.shape}\\ty_test:\\t\\t{y_test.shape}')"
      ],
      "metadata": {
        "colab": {
          "base_uri": "https://localhost:8080/"
        },
        "id": "PuV7sDOhuIJ4",
        "outputId": "27b9a540-677f-4ac4-c5fd-a45ec7a46f4d"
      },
      "execution_count": 13,
      "outputs": [
        {
          "output_type": "stream",
          "name": "stdout",
          "text": [
            "shapes:\n",
            "X_train:\t(63744,)\ty_train:\t(63744, 6)\n",
            "X_valid:\t(15936,)\ty_valid:\t(15936, 6)\n",
            "X_test:\t\t(34149,)\ty_test:\t\t(34149, 6)\n"
          ]
        }
      ]
    },
    {
      "cell_type": "markdown",
      "source": [
        "making shapes ready for tensorflow training"
      ],
      "metadata": {
        "id": "6VbpQx3wu0lt"
      }
    },
    {
      "cell_type": "code",
      "source": [
        "from keras.preprocessing import sequence\n",
        "\n",
        "max_words = 32\n",
        "X_train = sequence.pad_sequences(X_train, maxlen=max_words)\n",
        "X_test = sequence.pad_sequences(X_test, maxlen=max_words)\n",
        "X_valid = sequence.pad_sequences(X_valid, maxlen=max_words)"
      ],
      "metadata": {
        "id": "ZoInF_bHuf86"
      },
      "execution_count": 14,
      "outputs": []
    },
    {
      "cell_type": "code",
      "source": [
        "print('shapes:')\n",
        "print(f'X_train:\\t{X_train.shape}\\ty_train:\\t{y_train.shape}')\n",
        "print(f'X_valid:\\t{X_valid.shape}\\ty_valid:\\t{y_valid.shape}')\n",
        "print(f'X_test:\\t\\t{X_test.shape}\\ty_test:\\t\\t{y_test.shape}')"
      ],
      "metadata": {
        "colab": {
          "base_uri": "https://localhost:8080/"
        },
        "id": "bH9vi-P_u_Wr",
        "outputId": "7796f84c-0abf-4aec-872d-3da3d4a44dd3"
      },
      "execution_count": 15,
      "outputs": [
        {
          "output_type": "stream",
          "name": "stdout",
          "text": [
            "shapes:\n",
            "X_train:\t(63744, 32)\ty_train:\t(63744, 6)\n",
            "X_valid:\t(15936, 32)\ty_valid:\t(15936, 6)\n",
            "X_test:\t\t(34149, 32)\ty_test:\t\t(34149, 6)\n"
          ]
        }
      ]
    },
    {
      "cell_type": "markdown",
      "source": [
        "Hyper Parameters"
      ],
      "metadata": {
        "id": "yehtwWHUvagd"
      }
    },
    {
      "cell_type": "code",
      "source": [
        "import tensorflow as tf\n",
        "import keras.backend as K\n",
        "from keras.models import Sequential\n",
        "from keras.layers import Dense,Embedding,Conv1D,MaxPooling1D,LSTM\n",
        "from sklearn.metrics import accuracy_score,confusion_matrix,classification_report\n",
        "\n",
        "batch_size = 64\n",
        "epochs = 3\n",
        "learning_rate = 0.0001\n",
        "embed_dim = 120\n"
      ],
      "metadata": {
        "id": "cL3c2FGivGjl"
      },
      "execution_count": 16,
      "outputs": []
    },
    {
      "cell_type": "markdown",
      "source": [
        "Model Creation function (CNN_LSTM)"
      ],
      "metadata": {
        "id": "LdtlWBBVvNj7"
      }
    },
    {
      "cell_type": "code",
      "source": [
        "from keras.models import Sequential\n",
        "from keras.layers import Embedding, Conv1D, MaxPooling1D, Flatten, Dense, LSTM\n",
        "from keras import backend as K\n",
        "import numpy as np"
      ],
      "metadata": {
        "id": "3vGgQVOqwBa3"
      },
      "execution_count": 17,
      "outputs": []
    },
    {
      "cell_type": "code",
      "source": [
        "def get_model(embed_dim=embed_dim, max_features=50000, optimizer='adam'):\n",
        "    np.random.seed(seed)\n",
        "    K.clear_session()\n",
        "    model = Sequential()\n",
        "    model.add(Embedding(max_features, embed_dim, input_length=X_train.shape[1]))\n",
        "    model.add(Conv1D(filters=32, kernel_size=3, padding='same', activation='relu'))\n",
        "    model.add(MaxPooling1D(pool_size=2))\n",
        "    model.add(LSTM(100, dropout=0.2, recurrent_dropout=0.2))\n",
        "    model.add(Dense(num_classes, activation='softmax'))\n",
        "    model.compile(loss='categorical_crossentropy', optimizer='adam', metrics=['accuracy'])\n",
        "    print(model.summary())\n",
        "    return model"
      ],
      "metadata": {
        "id": "8oJ8StYUvNRg"
      },
      "execution_count": 18,
      "outputs": []
    },
    {
      "cell_type": "markdown",
      "source": [
        "training function"
      ],
      "metadata": {
        "id": "5qIPQ4MEwHHl"
      }
    },
    {
      "cell_type": "code",
      "source": [
        "def model_train(model, epochs=3, batch_size=64, learning_rate=0.001):\n",
        "    K.set_value(model.optimizer.learning_rate, 0.001)\n",
        "    model_history = model.fit(X_train, y_train, validation_data=(X_valid, y_valid),\n",
        "                          epochs=epochs, batch_size=batch_size, verbose=2)\n",
        "    return model_history"
      ],
      "metadata": {
        "id": "DOyFqaB1wF4w"
      },
      "execution_count": 20,
      "outputs": []
    },
    {
      "cell_type": "markdown",
      "source": [
        "evaluation function"
      ],
      "metadata": {
        "id": "4OOnmsEqwQXZ"
      }
    },
    {
      "cell_type": "code",
      "source": [
        "def model_evaluate(model):\n",
        "    # predict class with test set\n",
        "    y_pred_test =  np.argmax(model.predict(X_test), axis=1)\n",
        "    print('Accuracy:\\t{:0.1f}%'.format(accuracy_score(np.argmax(y_test,axis=1),y_pred_test)*100))\n",
        "\n",
        "    #classification report\n",
        "    print('\\n')\n",
        "    print(classification_report(np.argmax(y_test,axis=1), y_pred_test))\n",
        "\n",
        "    #confusion matrix\n",
        "    confmat = confusion_matrix(np.argmax(y_test,axis=1), y_pred_test)\n",
        "\n",
        "    fig, ax = plt.subplots(figsize=(4, 4))\n",
        "    ax.matshow(confmat, cmap=plt.cm.Blues, alpha=0.3)\n",
        "    for i in range(confmat.shape[0]):\n",
        "        for j in range(confmat.shape[1]):\n",
        "            ax.text(x=j, y=i, s=confmat[i, j], va='center', ha='center')\n",
        "    plt.xlabel('Predicted label')\n",
        "    plt.ylabel('True label')\n",
        "    plt.tight_layout()"
      ],
      "metadata": {
        "id": "nEp-dKs8wNla"
      },
      "execution_count": 21,
      "outputs": []
    },
    {
      "cell_type": "markdown",
      "source": [
        "model initializing and training"
      ],
      "metadata": {
        "id": "Ah-rKpVGy2dA"
      }
    },
    {
      "cell_type": "markdown",
      "source": [
        "*First. learning_rate=0.001, batch_size=64 : COMPARING 'ADAM' and\n",
        "'SGD'*\n",
        "\n",
        "\n"
      ],
      "metadata": {
        "id": "jSjTgTYdy-BH"
      }
    },
    {
      "cell_type": "code",
      "source": [
        "learning_rate=0.001\n",
        "batch_size=64"
      ],
      "metadata": {
        "id": "YFDNk-2fz5Ah"
      },
      "execution_count": 22,
      "outputs": []
    },
    {
      "cell_type": "markdown",
      "source": [
        "#### adam"
      ],
      "metadata": {
        "id": "hzT-iRRI0bHu"
      }
    },
    {
      "cell_type": "code",
      "source": [
        "model_adam = get_model(optimizer='adam')\n",
        "model_train(model_adam, learning_rate=0.001, batch_size=64)"
      ],
      "metadata": {
        "colab": {
          "base_uri": "https://localhost:8080/"
        },
        "id": "hWvODDd8y84m",
        "outputId": "710168ee-bba2-49fd-9a36-23900f82aacc"
      },
      "execution_count": null,
      "outputs": [
        {
          "output_type": "stream",
          "name": "stderr",
          "text": [
            "WARNING:tensorflow:Layer lstm will not use cuDNN kernels since it doesn't meet the criteria. It will use a generic GPU kernel as fallback when running on GPU.\n"
          ]
        },
        {
          "output_type": "stream",
          "name": "stdout",
          "text": [
            "Model: \"sequential\"\n",
            "_________________________________________________________________\n",
            " Layer (type)                Output Shape              Param #   \n",
            "=================================================================\n",
            " embedding (Embedding)       (None, 32, 120)           6000000   \n",
            "                                                                 \n",
            " conv1d (Conv1D)             (None, 32, 32)            11552     \n",
            "                                                                 \n",
            " max_pooling1d (MaxPooling1  (None, 16, 32)            0         \n",
            " D)                                                              \n",
            "                                                                 \n",
            " lstm (LSTM)                 (None, 100)               53200     \n",
            "                                                                 \n",
            " dense (Dense)               (None, 6)                 606       \n",
            "                                                                 \n",
            "=================================================================\n",
            "Total params: 6065358 (23.14 MB)\n",
            "Trainable params: 6065358 (23.14 MB)\n",
            "Non-trainable params: 0 (0.00 Byte)\n",
            "_________________________________________________________________\n",
            "None\n",
            "Epoch 1/3\n",
            "996/996 - 72s - loss: 0.6481 - accuracy: 0.7576 - val_loss: 0.3805 - val_accuracy: 0.8646 - 72s/epoch - 72ms/step\n",
            "Epoch 2/3\n",
            "996/996 - 40s - loss: 0.3222 - accuracy: 0.8894 - val_loss: 0.3822 - val_accuracy: 0.8672 - 40s/epoch - 40ms/step\n",
            "Epoch 3/3\n",
            "996/996 - 44s - loss: 0.2407 - accuracy: 0.9182 - val_loss: 0.4108 - val_accuracy: 0.8676 - 44s/epoch - 44ms/step\n"
          ]
        }
      ]
    },
    {
      "cell_type": "code",
      "source": [
        "model_evaluate(model_adam)"
      ],
      "metadata": {
        "colab": {
          "base_uri": "https://localhost:8080/",
          "height": 702
        },
        "id": "3OAWnd_R2D65",
        "outputId": "0a08c7f6-6553-4d9b-acfd-ee92df464741"
      },
      "execution_count": null,
      "outputs": [
        {
          "output_type": "stream",
          "name": "stdout",
          "text": [
            "1068/1068 [==============================] - 15s 13ms/step\n",
            "Accuracy:\t86.2%\n",
            "\n",
            "\n",
            "              precision    recall  f1-score   support\n",
            "\n",
            "           0       0.89      0.83      0.86      6021\n",
            "           1       0.97      0.83      0.90       278\n",
            "           2       0.86      0.89      0.88      5287\n",
            "           3       0.81      0.90      0.85      8407\n",
            "           4       0.87      0.85      0.86     10298\n",
            "           5       0.93      0.84      0.88      3858\n",
            "\n",
            "    accuracy                           0.86     34149\n",
            "   macro avg       0.89      0.86      0.87     34149\n",
            "weighted avg       0.86      0.86      0.86     34149\n",
            "\n"
          ]
        },
        {
          "output_type": "display_data",
          "data": {
            "text/plain": [
              "<Figure size 400x400 with 1 Axes>"
            ],
            "image/png": "[encoded data removed]"
          },
          "metadata": {}
        }
      ]
    },
    {
      "cell_type": "markdown",
      "source": [
        "#### SGD"
      ],
      "metadata": {
        "id": "wvw7PXaI2Fok"
      }
    },
    {
      "cell_type": "code",
      "source": [
        "model_sgd = get_model(optimizer='SGD')\n",
        "model_train(model_sgd, learning_rate=0.001, batch_size=64)"
      ],
      "metadata": {
        "colab": {
          "base_uri": "https://localhost:8080/"
        },
        "id": "u2RPGuo10EpJ",
        "outputId": "48f3edbb-dd44-4d78-a648-1fbaf7df8abd"
      },
      "execution_count": null,
      "outputs": [
        {
          "output_type": "stream",
          "name": "stderr",
          "text": [
            "WARNING:tensorflow:Layer lstm will not use cuDNN kernels since it doesn't meet the criteria. It will use a generic GPU kernel as fallback when running on GPU.\n"
          ]
        },
        {
          "output_type": "stream",
          "name": "stdout",
          "text": [
            "Model: \"sequential\"\n",
            "_________________________________________________________________\n",
            " Layer (type)                Output Shape              Param #   \n",
            "=================================================================\n",
            " embedding (Embedding)       (None, 32, 120)           6000000   \n",
            "                                                                 \n",
            " conv1d (Conv1D)             (None, 32, 32)            11552     \n",
            "                                                                 \n",
            " max_pooling1d (MaxPooling1  (None, 16, 32)            0         \n",
            " D)                                                              \n",
            "                                                                 \n",
            " lstm (LSTM)                 (None, 100)               53200     \n",
            "                                                                 \n",
            " dense (Dense)               (None, 6)                 606       \n",
            "                                                                 \n",
            "=================================================================\n",
            "Total params: 6065358 (23.14 MB)\n",
            "Trainable params: 6065358 (23.14 MB)\n",
            "Non-trainable params: 0 (0.00 Byte)\n",
            "_________________________________________________________________\n",
            "None\n",
            "Epoch 1/3\n",
            "996/996 - 68s - loss: 0.6983 - accuracy: 0.7316 - val_loss: 0.4080 - val_accuracy: 0.8606 - 68s/epoch - 68ms/step\n",
            "Epoch 2/3\n",
            "996/996 - 37s - loss: 0.3301 - accuracy: 0.8873 - val_loss: 0.3730 - val_accuracy: 0.8675 - 37s/epoch - 38ms/step\n",
            "Epoch 3/3\n",
            "996/996 - 38s - loss: 0.2405 - accuracy: 0.9196 - val_loss: 0.3978 - val_accuracy: 0.8672 - 38s/epoch - 39ms/step\n"
          ]
        }
      ]
    },
    {
      "cell_type": "code",
      "source": [
        "model_evaluate(model_sgd)"
      ],
      "metadata": {
        "colab": {
          "base_uri": "https://localhost:8080/",
          "height": 702
        },
        "id": "GFWdSrSZ22HO",
        "outputId": "527ddfa7-0f31-4480-d590-0bba9cd00cfc"
      },
      "execution_count": null,
      "outputs": [
        {
          "output_type": "stream",
          "name": "stdout",
          "text": [
            "1068/1068 [==============================] - 9s 8ms/step\n",
            "Accuracy:\t86.3%\n",
            "\n",
            "\n",
            "              precision    recall  f1-score   support\n",
            "\n",
            "           0       0.88      0.84      0.86      6021\n",
            "           1       0.99      0.83      0.90       278\n",
            "           2       0.91      0.87      0.89      5287\n",
            "           3       0.88      0.84      0.86      8407\n",
            "           4       0.82      0.88      0.85     10298\n",
            "           5       0.85      0.87      0.86      3858\n",
            "\n",
            "    accuracy                           0.86     34149\n",
            "   macro avg       0.89      0.86      0.87     34149\n",
            "weighted avg       0.86      0.86      0.86     34149\n",
            "\n"
          ]
        },
        {
          "output_type": "display_data",
          "data": {
            "text/plain": [
              "<Figure size 400x400 with 1 Axes>"
            ],
            "image/png": "[encoded data removed]"
          },
          "metadata": {}
        }
      ]
    },
    {
      "cell_type": "markdown",
      "source": [
        "adam wins."
      ],
      "metadata": {
        "id": "1XIm6Fgf4rup"
      }
    },
    {
      "cell_type": "markdown",
      "source": [
        "*Second. learning_rate=0.001, OPTIMIZER='ADAM' : COMPARING batch_size=64 vs batch_size=8*\n",
        "\n",
        "\n"
      ],
      "metadata": {
        "id": "6vLBg_i241nn"
      }
    },
    {
      "cell_type": "code",
      "source": [
        "model_8 = get_model(optimizer='adam')\n",
        "model_train(model_8, learning_rate=0.001, batch_size=8)"
      ],
      "metadata": {
        "colab": {
          "base_uri": "https://localhost:8080/"
        },
        "id": "tt0Qf9iq27m2",
        "outputId": "2d7e91c8-12a7-4a29-dac8-0d996c1c6ff3"
      },
      "execution_count": 23,
      "outputs": [
        {
          "output_type": "stream",
          "name": "stderr",
          "text": [
            "WARNING:tensorflow:Layer lstm will not use cuDNN kernels since it doesn't meet the criteria. It will use a generic GPU kernel as fallback when running on GPU.\n"
          ]
        },
        {
          "output_type": "stream",
          "name": "stdout",
          "text": [
            "Model: \"sequential\"\n",
            "_________________________________________________________________\n",
            " Layer (type)                Output Shape              Param #   \n",
            "=================================================================\n",
            " embedding (Embedding)       (None, 32, 120)           6000000   \n",
            "                                                                 \n",
            " conv1d (Conv1D)             (None, 32, 32)            11552     \n",
            "                                                                 \n",
            " max_pooling1d (MaxPooling1  (None, 16, 32)            0         \n",
            " D)                                                              \n",
            "                                                                 \n",
            " lstm (LSTM)                 (None, 100)               53200     \n",
            "                                                                 \n",
            " dense (Dense)               (None, 6)                 606       \n",
            "                                                                 \n",
            "=================================================================\n",
            "Total params: 6065358 (23.14 MB)\n",
            "Trainable params: 6065358 (23.14 MB)\n",
            "Non-trainable params: 0 (0.00 Byte)\n",
            "_________________________________________________________________\n",
            "None\n",
            "Epoch 1/3\n",
            "7968/7968 - 305s - loss: 0.5357 - accuracy: 0.8032 - val_loss: 0.3707 - val_accuracy: 0.8647 - 305s/epoch - 38ms/step\n",
            "Epoch 2/3\n",
            "7968/7968 - 286s - loss: 0.3276 - accuracy: 0.8860 - val_loss: 0.3641 - val_accuracy: 0.8723 - 286s/epoch - 36ms/step\n",
            "Epoch 3/3\n",
            "7968/7968 - 301s - loss: 0.2494 - accuracy: 0.9154 - val_loss: 0.3880 - val_accuracy: 0.8717 - 301s/epoch - 38ms/step\n"
          ]
        },
        {
          "output_type": "execute_result",
          "data": {
            "text/plain": [
              "<keras.src.callbacks.History at 0x7a3809ae0790>"
            ]
          },
          "metadata": {},
          "execution_count": 23
        }
      ]
    },
    {
      "cell_type": "code",
      "source": [
        "model_evaluate(model_8)"
      ],
      "metadata": {
        "colab": {
          "base_uri": "https://localhost:8080/",
          "height": 702
        },
        "id": "k0XuZ2UA-8at",
        "outputId": "9bafa360-6384-42ac-ae17-f55c0f406b1c"
      },
      "execution_count": 24,
      "outputs": [
        {
          "output_type": "stream",
          "name": "stdout",
          "text": [
            "1068/1068 [==============================] - 9s 8ms/step\n",
            "Accuracy:\t86.3%\n",
            "\n",
            "\n",
            "              precision    recall  f1-score   support\n",
            "\n",
            "           0       0.84      0.86      0.85      6021\n",
            "           1       0.98      0.85      0.91       278\n",
            "           2       0.85      0.89      0.87      5287\n",
            "           3       0.89      0.84      0.87      8407\n",
            "           4       0.83      0.88      0.86     10298\n",
            "           5       0.94      0.82      0.88      3858\n",
            "\n",
            "    accuracy                           0.86     34149\n",
            "   macro avg       0.89      0.86      0.87     34149\n",
            "weighted avg       0.87      0.86      0.86     34149\n",
            "\n"
          ]
        },
        {
          "output_type": "display_data",
          "data": {
            "text/plain": [
              "<Figure size 400x400 with 1 Axes>"
            ],
            "image/png": "[encoded data removed]"
          },
          "metadata": {}
        }
      ]
    },
    {
      "cell_type": "markdown",
      "source": [
        "*Third. BATCH_SIZE=64, OPTIMIZER='ADAM' : COMPARING learning_rate = 0.001 vs 0.0001*\n",
        "\n"
      ],
      "metadata": {
        "id": "V9XX-atK9Y7X"
      }
    },
    {
      "cell_type": "code",
      "source": [
        "model_adam = get_model(optimizer='adam')\n",
        "model_train(model_adam, learning_rate=0.0001, batch_size=64)"
      ],
      "metadata": {
        "colab": {
          "base_uri": "https://localhost:8080/"
        },
        "id": "iv78QOXe9oyx",
        "outputId": "e34ecda4-f0dd-42a4-b8ab-1bb18dfee0d0"
      },
      "execution_count": null,
      "outputs": [
        {
          "output_type": "stream",
          "name": "stderr",
          "text": [
            "WARNING:tensorflow:Layer lstm will not use cuDNN kernels since it doesn't meet the criteria. It will use a generic GPU kernel as fallback when running on GPU.\n"
          ]
        },
        {
          "output_type": "stream",
          "name": "stdout",
          "text": [
            "Model: \"sequential\"\n",
            "_________________________________________________________________\n",
            " Layer (type)                Output Shape              Param #   \n",
            "=================================================================\n",
            " embedding (Embedding)       (None, 32, 120)           6000000   \n",
            "                                                                 \n",
            " conv1d (Conv1D)             (None, 32, 32)            11552     \n",
            "                                                                 \n",
            " max_pooling1d (MaxPooling1  (None, 16, 32)            0         \n",
            " D)                                                              \n",
            "                                                                 \n",
            " lstm (LSTM)                 (None, 100)               53200     \n",
            "                                                                 \n",
            " dense (Dense)               (None, 6)                 606       \n",
            "                                                                 \n",
            "=================================================================\n",
            "Total params: 6065358 (23.14 MB)\n",
            "Trainable params: 6065358 (23.14 MB)\n",
            "Non-trainable params: 0 (0.00 Byte)\n",
            "_________________________________________________________________\n",
            "None\n",
            "Epoch 1/3\n",
            "996/996 - 65s - loss: 0.6772 - accuracy: 0.7478 - val_loss: 0.3928 - val_accuracy: 0.8604 - 65s/epoch - 66ms/step\n",
            "Epoch 2/3\n",
            "996/996 - 38s - loss: 0.3425 - accuracy: 0.8841 - val_loss: 0.3754 - val_accuracy: 0.8689 - 38s/epoch - 38ms/step\n",
            "Epoch 3/3\n",
            "996/996 - 39s - loss: 0.2569 - accuracy: 0.9126 - val_loss: 0.4190 - val_accuracy: 0.8639 - 39s/epoch - 39ms/step\n"
          ]
        }
      ]
    },
    {
      "cell_type": "code",
      "source": [
        "model_evaluate(model_adam)"
      ],
      "metadata": {
        "colab": {
          "base_uri": "https://localhost:8080/",
          "height": 702
        },
        "id": "nsGX-VOw95a8",
        "outputId": "2e115b41-6f87-4f3d-e82d-ed8f41d5cff4"
      },
      "execution_count": null,
      "outputs": [
        {
          "output_type": "stream",
          "name": "stdout",
          "text": [
            "1068/1068 [==============================] - 14s 12ms/step\n",
            "Accuracy:\t86.3%\n",
            "\n",
            "\n",
            "              precision    recall  f1-score   support\n",
            "\n",
            "           0       0.90      0.83      0.87      6021\n",
            "           1       0.98      0.83      0.90       278\n",
            "           2       0.84      0.89      0.86      5287\n",
            "           3       0.85      0.87      0.86      8407\n",
            "           4       0.86      0.86      0.86     10298\n",
            "           5       0.88      0.87      0.88      3858\n",
            "\n",
            "    accuracy                           0.86     34149\n",
            "   macro avg       0.88      0.86      0.87     34149\n",
            "weighted avg       0.86      0.86      0.86     34149\n",
            "\n"
          ]
        },
        {
          "output_type": "display_data",
          "data": {
            "text/plain": [
              "<Figure size 400x400 with 1 Axes>"
            ],
            "image/png": "[encoded data removed]"
          },
          "metadata": {}
        }
      ]
    },
    {
      "cell_type": "markdown",
      "source": [
        "*BATCH_SIZE=8, OPTIMIZER='ADAM' : COMPARING learning_rate = 0.001 vs 0.0001*\n"
      ],
      "metadata": {
        "id": "XUVapq-5_F6t"
      }
    },
    {
      "cell_type": "code",
      "source": [
        "model_8 = get_model(optimizer='adam')\n",
        "model_train(model_8, learning_rate=0.0001, batch_size=8)"
      ],
      "metadata": {
        "colab": {
          "base_uri": "https://localhost:8080/"
        },
        "id": "FfLCT7x4_E3p",
        "outputId": "89823b7c-fe90-4b97-b439-5d4b6fda11fe"
      },
      "execution_count": null,
      "outputs": [
        {
          "output_type": "stream",
          "name": "stderr",
          "text": [
            "WARNING:tensorflow:Layer lstm will not use cuDNN kernels since it doesn't meet the criteria. It will use a generic GPU kernel as fallback when running on GPU.\n"
          ]
        },
        {
          "output_type": "stream",
          "name": "stdout",
          "text": [
            "Model: \"sequential\"\n",
            "_________________________________________________________________\n",
            " Layer (type)                Output Shape              Param #   \n",
            "=================================================================\n",
            " embedding (Embedding)       (None, 32, 120)           6000000   \n",
            "                                                                 \n",
            " conv1d (Conv1D)             (None, 32, 32)            11552     \n",
            "                                                                 \n",
            " max_pooling1d (MaxPooling1  (None, 16, 32)            0         \n",
            " D)                                                              \n",
            "                                                                 \n",
            " lstm (LSTM)                 (None, 100)               53200     \n",
            "                                                                 \n",
            " dense (Dense)               (None, 6)                 606       \n",
            "                                                                 \n",
            "=================================================================\n",
            "Total params: 6065358 (23.14 MB)\n",
            "Trainable params: 6065358 (23.14 MB)\n",
            "Non-trainable params: 0 (0.00 Byte)\n",
            "_________________________________________________________________\n",
            "None\n",
            "Epoch 1/3\n",
            "7968/7968 - 311s - loss: 0.5198 - accuracy: 0.8107 - val_loss: 0.3749 - val_accuracy: 0.8672 - 311s/epoch - 39ms/step\n",
            "Epoch 2/3\n",
            "7968/7968 - 290s - loss: 0.3320 - accuracy: 0.8827 - val_loss: 0.3681 - val_accuracy: 0.8707 - 290s/epoch - 36ms/step\n",
            "Epoch 3/3\n",
            "7968/7968 - 291s - loss: 0.2565 - accuracy: 0.9114 - val_loss: 0.3784 - val_accuracy: 0.8699 - 291s/epoch - 36ms/step\n"
          ]
        }
      ]
    },
    {
      "cell_type": "code",
      "source": [
        "model_evaluate(model_8)"
      ],
      "metadata": {
        "colab": {
          "base_uri": "https://localhost:8080/",
          "height": 702
        },
        "id": "oXqz2Vti_P9j",
        "outputId": "49dd7d9b-6e63-40a9-ce54-e0609bf57a73"
      },
      "execution_count": null,
      "outputs": [
        {
          "output_type": "stream",
          "name": "stdout",
          "text": [
            "1068/1068 [==============================] - 14s 12ms/step\n",
            "Accuracy:\t86.6%\n",
            "\n",
            "\n",
            "              precision    recall  f1-score   support\n",
            "\n",
            "           0       0.86      0.85      0.86      6021\n",
            "           1       1.00      0.83      0.91       278\n",
            "           2       0.85      0.90      0.87      5287\n",
            "           3       0.85      0.87      0.86      8407\n",
            "           4       0.87      0.86      0.87     10298\n",
            "           5       0.90      0.86      0.88      3858\n",
            "\n",
            "    accuracy                           0.87     34149\n",
            "   macro avg       0.89      0.86      0.87     34149\n",
            "weighted avg       0.87      0.87      0.87     34149\n",
            "\n"
          ]
        },
        {
          "output_type": "display_data",
          "data": {
            "text/plain": [
              "<Figure size 400x400 with 1 Axes>"
            ],
            "image/png": "[encoded data removed]"
          },
          "metadata": {}
        }
      ]
    },
    {
      "cell_type": "markdown",
      "source": [
        "ONLY CNN"
      ],
      "metadata": {
        "id": "g3my5eGoDi-4"
      }
    },
    {
      "cell_type": "code",
      "source": [
        "def get_cnn_model(embed_dim=embed_dim, max_features=50000, optimizer='adam'):\n",
        "    np.random.seed(seed)\n",
        "    K.clear_session()\n",
        "    model = Sequential()\n",
        "    model.add(Embedding(max_features, embed_dim, input_length=X_train.shape[1]))\n",
        "    model.add(Conv1D(filters=32, kernel_size=3, padding='same', activation='relu'))\n",
        "    model.add(MaxPooling1D(pool_size=2))\n",
        "    model.add(Flatten())\n",
        "    model.add(Dense(num_classes, activation='softmax'))\n",
        "    model.compile(loss='categorical_crossentropy', optimizer='adam', metrics=['accuracy'])\n",
        "    print(model.summary())\n",
        "    return model"
      ],
      "metadata": {
        "id": "RbuOSRV7CyMs"
      },
      "execution_count": null,
      "outputs": []
    },
    {
      "cell_type": "code",
      "source": [
        "cnn_model = get_cnn_model(optimizer='adam')\n",
        "model_train(cnn_model, learning_rate=0.0001, batch_size=8)"
      ],
      "metadata": {
        "colab": {
          "base_uri": "https://localhost:8080/"
        },
        "id": "pwOBpThaD4qZ",
        "outputId": "b5464260-7775-4b6a-894a-924e6ddc3925"
      },
      "execution_count": null,
      "outputs": [
        {
          "output_type": "stream",
          "name": "stdout",
          "text": [
            "Model: \"sequential\"\n",
            "_________________________________________________________________\n",
            " Layer (type)                Output Shape              Param #   \n",
            "=================================================================\n",
            " embedding (Embedding)       (None, 32, 120)           6000000   \n",
            "                                                                 \n",
            " conv1d (Conv1D)             (None, 32, 32)            11552     \n",
            "                                                                 \n",
            " max_pooling1d (MaxPooling1  (None, 16, 32)            0         \n",
            " D)                                                              \n",
            "                                                                 \n",
            " flatten (Flatten)           (None, 512)               0         \n",
            "                                                                 \n",
            " dense (Dense)               (None, 6)                 3078      \n",
            "                                                                 \n",
            "=================================================================\n",
            "Total params: 6014630 (22.94 MB)\n",
            "Trainable params: 6014630 (22.94 MB)\n",
            "Non-trainable params: 0 (0.00 Byte)\n",
            "_________________________________________________________________\n",
            "None\n",
            "Epoch 1/3\n",
            "7968/7968 - 52s - loss: 0.5393 - accuracy: 0.8130 - val_loss: 0.4236 - val_accuracy: 0.8608 - 52s/epoch - 7ms/step\n",
            "Epoch 2/3\n",
            "7968/7968 - 45s - loss: 0.3275 - accuracy: 0.8945 - val_loss: 0.4316 - val_accuracy: 0.8631 - 45s/epoch - 6ms/step\n",
            "Epoch 3/3\n",
            "7968/7968 - 36s - loss: 0.2071 - accuracy: 0.9404 - val_loss: 0.5214 - val_accuracy: 0.8567 - 36s/epoch - 5ms/step\n"
          ]
        }
      ]
    },
    {
      "cell_type": "code",
      "source": [
        "model_evaluate(cnn_model)"
      ],
      "metadata": {
        "colab": {
          "base_uri": "https://localhost:8080/",
          "height": 702
        },
        "id": "fgropOJTEB2o",
        "outputId": "84b05fc5-333f-41cc-e8ee-dca7b9aa81f1"
      },
      "execution_count": null,
      "outputs": [
        {
          "output_type": "stream",
          "name": "stdout",
          "text": [
            "1068/1068 [==============================] - 4s 4ms/step\n",
            "Accuracy:\t85.1%\n",
            "\n",
            "\n",
            "              precision    recall  f1-score   support\n",
            "\n",
            "           0       0.87      0.83      0.85      6021\n",
            "           1       0.94      0.80      0.87       278\n",
            "           2       0.90      0.84      0.87      5287\n",
            "           3       0.85      0.84      0.85      8407\n",
            "           4       0.81      0.88      0.84     10298\n",
            "           5       0.86      0.85      0.85      3858\n",
            "\n",
            "    accuracy                           0.85     34149\n",
            "   macro avg       0.87      0.84      0.85     34149\n",
            "weighted avg       0.85      0.85      0.85     34149\n",
            "\n"
          ]
        },
        {
          "output_type": "display_data",
          "data": {
            "text/plain": [
              "<Figure size 400x400 with 1 Axes>"
            ],
            "image/png": "[encoded data removed]"
          },
          "metadata": {}
        }
      ]
    },
    {
      "cell_type": "markdown",
      "source": [
        "ONLY LSTM"
      ],
      "metadata": {
        "id": "yVtrklS3Fxyu"
      }
    },
    {
      "cell_type": "code",
      "source": [
        "def get_lstm_model(embed_dim=embed_dim, max_features=50000, optimizer='adam'):\n",
        "    np.random.seed(seed)\n",
        "    K.clear_session()\n",
        "    model = Sequential()\n",
        "    model.add(Embedding(max_features, embed_dim, input_length=X_train.shape[1]))\n",
        "    model.add(LSTM(100, dropout=0.2))\n",
        "    model.add(Dense(num_classes, activation='softmax'))\n",
        "    model.compile(loss='categorical_crossentropy', optimizer='adam', metrics=['accuracy'])\n",
        "    print(model.summary())\n",
        "    return model"
      ],
      "metadata": {
        "id": "RJYosRT3Fxhx"
      },
      "execution_count": null,
      "outputs": []
    },
    {
      "cell_type": "code",
      "source": [
        "lstm_model = get_lstm_model(optimizer='adam')\n",
        "model_train(lstm_model, learning_rate=0.0001, batch_size=8)"
      ],
      "metadata": {
        "colab": {
          "base_uri": "https://localhost:8080/"
        },
        "id": "_zTdXk1vFnJv",
        "outputId": "735315cd-70bb-49cf-da43-b23cce7a2025"
      },
      "execution_count": null,
      "outputs": [
        {
          "output_type": "stream",
          "name": "stderr",
          "text": [
            "WARNING:tensorflow:Layer lstm will not use cuDNN kernels since it doesn't meet the criteria. It will use a generic GPU kernel as fallback when running on GPU.\n"
          ]
        },
        {
          "output_type": "stream",
          "name": "stdout",
          "text": [
            "Model: \"sequential\"\n",
            "_________________________________________________________________\n",
            " Layer (type)                Output Shape              Param #   \n",
            "=================================================================\n",
            " embedding (Embedding)       (None, 32, 120)           6000000   \n",
            "                                                                 \n",
            " lstm (LSTM)                 (None, 100)               88400     \n",
            "                                                                 \n",
            " dense (Dense)               (None, 6)                 606       \n",
            "                                                                 \n",
            "=================================================================\n",
            "Total params: 6089006 (23.23 MB)\n",
            "Trainable params: 6089006 (23.23 MB)\n",
            "Non-trainable params: 0 (0.00 Byte)\n",
            "_________________________________________________________________\n",
            "None\n",
            "Epoch 1/3\n",
            "7968/7968 - 310s - loss: 0.5548 - accuracy: 0.7958 - val_loss: 0.3676 - val_accuracy: 0.8658 - 310s/epoch - 39ms/step\n",
            "Epoch 2/3\n",
            "7968/7968 - 292s - loss: 0.3287 - accuracy: 0.8847 - val_loss: 0.3576 - val_accuracy: 0.8741 - 292s/epoch - 37ms/step\n",
            "Epoch 3/3\n",
            "7968/7968 - 291s - loss: 0.2462 - accuracy: 0.9156 - val_loss: 0.3984 - val_accuracy: 0.8727 - 291s/epoch - 36ms/step\n"
          ]
        }
      ]
    },
    {
      "cell_type": "code",
      "source": [
        "model_evaluate(lstm_model)"
      ],
      "metadata": {
        "colab": {
          "base_uri": "https://localhost:8080/",
          "height": 702
        },
        "id": "Xc8qP4aaGfMH",
        "outputId": "c93ac543-9aa9-47f8-dc0f-012dc37e8454"
      },
      "execution_count": null,
      "outputs": [
        {
          "output_type": "stream",
          "name": "stdout",
          "text": [
            "1068/1068 [==============================] - 17s 15ms/step\n",
            "Accuracy:\t86.4%\n",
            "\n",
            "\n",
            "              precision    recall  f1-score   support\n",
            "\n",
            "           0       0.88      0.82      0.85      6021\n",
            "           1       0.96      0.85      0.90       278\n",
            "           2       0.87      0.88      0.87      5287\n",
            "           3       0.87      0.86      0.86      8407\n",
            "           4       0.84      0.88      0.86     10298\n",
            "           5       0.89      0.85      0.87      3858\n",
            "\n",
            "    accuracy                           0.86     34149\n",
            "   macro avg       0.88      0.86      0.87     34149\n",
            "weighted avg       0.86      0.86      0.86     34149\n",
            "\n"
          ]
        },
        {
          "output_type": "display_data",
          "data": {
            "text/plain": [
              "<Figure size 400x400 with 1 Axes>"
            ],
            "image/png": "[encoded data removed]"
          },
          "metadata": {}
        }
      ]
    },
    {
      "cell_type": "markdown",
      "source": [
        "lstm 64 batch"
      ],
      "metadata": {
        "id": "qbywdQbtLU19"
      }
    },
    {
      "cell_type": "code",
      "source": [
        "lstm_model = get_lstm_model(optimizer='adam')\n",
        "model_train(lstm_model, learning_rate=0.0001, batch_size=64)"
      ],
      "metadata": {
        "colab": {
          "base_uri": "https://localhost:8080/"
        },
        "id": "vn4XBjU1LSWj",
        "outputId": "8001d796-10dd-4ee7-8c1b-9e37f1d1e676"
      },
      "execution_count": null,
      "outputs": [
        {
          "output_type": "stream",
          "name": "stderr",
          "text": [
            "WARNING:tensorflow:Layer lstm will not use cuDNN kernels since it doesn't meet the criteria. It will use a generic GPU kernel as fallback when running on GPU.\n"
          ]
        },
        {
          "output_type": "stream",
          "name": "stdout",
          "text": [
            "Model: \"sequential\"\n",
            "_________________________________________________________________\n",
            " Layer (type)                Output Shape              Param #   \n",
            "=================================================================\n",
            " embedding (Embedding)       (None, 32, 120)           6000000   \n",
            "                                                                 \n",
            " lstm (LSTM)                 (None, 100)               88400     \n",
            "                                                                 \n",
            " dense (Dense)               (None, 6)                 606       \n",
            "                                                                 \n",
            "=================================================================\n",
            "Total params: 6089006 (23.23 MB)\n",
            "Trainable params: 6089006 (23.23 MB)\n",
            "Non-trainable params: 0 (0.00 Byte)\n",
            "_________________________________________________________________\n",
            "None\n",
            "Epoch 1/3\n",
            "996/996 - 62s - loss: 0.7036 - accuracy: 0.7334 - val_loss: 0.3860 - val_accuracy: 0.8646 - 62s/epoch - 62ms/step\n",
            "Epoch 2/3\n",
            "996/996 - 40s - loss: 0.3222 - accuracy: 0.8900 - val_loss: 0.3838 - val_accuracy: 0.8690 - 40s/epoch - 40ms/step\n",
            "Epoch 3/3\n",
            "996/996 - 36s - loss: 0.2408 - accuracy: 0.9182 - val_loss: 0.4097 - val_accuracy: 0.8678 - 36s/epoch - 36ms/step\n"
          ]
        }
      ]
    },
    {
      "cell_type": "code",
      "source": [],
      "metadata": {
        "id": "HlPP798tLY8k"
      },
      "execution_count": null,
      "outputs": []
    }
  ]
}
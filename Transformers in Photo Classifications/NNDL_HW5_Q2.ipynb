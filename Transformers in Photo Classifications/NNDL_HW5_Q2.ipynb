{
  "nbformat": 4,
  "nbformat_minor": 0,
  "metadata": {
    "colab": {
      "provenance": [],
      "gpuType": "T4"
    },
    "kernelspec": {
      "name": "python3",
      "display_name": "Python 3"
    },
    "language_info": {
      "name": "python"
    },
    "accelerator": "GPU",
    "widgets": {
      "application/vnd.jupyter.widget-state+json": {
        "48f02f4d69bf4d35a373236e7ed22d1f": {
          "model_module": "@jupyter-widgets/controls",
          "model_name": "HBoxModel",
          "model_module_version": "1.5.0",
          "state": {
            "_dom_classes": [],
            "_model_module": "@jupyter-widgets/controls",
            "_model_module_version": "1.5.0",
            "_model_name": "HBoxModel",
            "_view_count": null,
            "_view_module": "@jupyter-widgets/controls",
            "_view_module_version": "1.5.0",
            "_view_name": "HBoxView",
            "box_style": "",
            "children": [
              "IPY_MODEL_0ee438e7813945c1a0472e32a81ad200",
              "IPY_MODEL_bb14d434bb5145aa8a051e9f054b7ed2",
              "IPY_MODEL_8e4ec544758f45dd941ca05c53d1d624"
            ],
            "layout": "IPY_MODEL_1c1d7d6b93704e29863806ec6b8ec6ff"
          }
        },
        "0ee438e7813945c1a0472e32a81ad200": {
          "model_module": "@jupyter-widgets/controls",
          "model_name": "HTMLModel",
          "model_module_version": "1.5.0",
          "state": {
            "_dom_classes": [],
            "_model_module": "@jupyter-widgets/controls",
            "_model_module_version": "1.5.0",
            "_model_name": "HTMLModel",
            "_view_count": null,
            "_view_module": "@jupyter-widgets/controls",
            "_view_module_version": "1.5.0",
            "_view_name": "HTMLView",
            "description": "",
            "description_tooltip": null,
            "layout": "IPY_MODEL_feb8bb74c1524dffb950c08cf5d93594",
            "placeholder": "​",
            "style": "IPY_MODEL_63cc0ee66f3d4fccb95031d7cd2bbbce",
            "value": "model.safetensors: 100%"
          }
        },
        "bb14d434bb5145aa8a051e9f054b7ed2": {
          "model_module": "@jupyter-widgets/controls",
          "model_name": "FloatProgressModel",
          "model_module_version": "1.5.0",
          "state": {
            "_dom_classes": [],
            "_model_module": "@jupyter-widgets/controls",
            "_model_module_version": "1.5.0",
            "_model_name": "FloatProgressModel",
            "_view_count": null,
            "_view_module": "@jupyter-widgets/controls",
            "_view_module_version": "1.5.0",
            "_view_name": "ProgressView",
            "bar_style": "success",
            "description": "",
            "description_tooltip": null,
            "layout": "IPY_MODEL_3e3f2ad84bcc42bf8317bd755faa5b53",
            "max": 349367122,
            "min": 0,
            "orientation": "horizontal",
            "style": "IPY_MODEL_d58731b56608407b81f10519e8582227",
            "value": 349367122
          }
        },
        "8e4ec544758f45dd941ca05c53d1d624": {
          "model_module": "@jupyter-widgets/controls",
          "model_name": "HTMLModel",
          "model_module_version": "1.5.0",
          "state": {
            "_dom_classes": [],
            "_model_module": "@jupyter-widgets/controls",
            "_model_module_version": "1.5.0",
            "_model_name": "HTMLModel",
            "_view_count": null,
            "_view_module": "@jupyter-widgets/controls",
            "_view_module_version": "1.5.0",
            "_view_name": "HTMLView",
            "description": "",
            "description_tooltip": null,
            "layout": "IPY_MODEL_8069867ca0ce45cca9b92d6a56fe3433",
            "placeholder": "​",
            "style": "IPY_MODEL_8cf678e267c74f38aa44dad96a3df18a",
            "value": " 349M/349M [00:02&lt;00:00, 146MB/s]"
          }
        },
        "1c1d7d6b93704e29863806ec6b8ec6ff": {
          "model_module": "@jupyter-widgets/base",
          "model_name": "LayoutModel",
          "model_module_version": "1.2.0",
          "state": {
            "_model_module": "@jupyter-widgets/base",
            "_model_module_version": "1.2.0",
            "_model_name": "LayoutModel",
            "_view_count": null,
            "_view_module": "@jupyter-widgets/base",
            "_view_module_version": "1.2.0",
            "_view_name": "LayoutView",
            "align_content": null,
            "align_items": null,
            "align_self": null,
            "border": null,
            "bottom": null,
            "display": null,
            "flex": null,
            "flex_flow": null,
            "grid_area": null,
            "grid_auto_columns": null,
            "grid_auto_flow": null,
            "grid_auto_rows": null,
            "grid_column": null,
            "grid_gap": null,
            "grid_row": null,
            "grid_template_areas": null,
            "grid_template_columns": null,
            "grid_template_rows": null,
            "height": null,
            "justify_content": null,
            "justify_items": null,
            "left": null,
            "margin": null,
            "max_height": null,
            "max_width": null,
            "min_height": null,
            "min_width": null,
            "object_fit": null,
            "object_position": null,
            "order": null,
            "overflow": null,
            "overflow_x": null,
            "overflow_y": null,
            "padding": null,
            "right": null,
            "top": null,
            "visibility": null,
            "width": null
          }
        },
        "feb8bb74c1524dffb950c08cf5d93594": {
          "model_module": "@jupyter-widgets/base",
          "model_name": "LayoutModel",
          "model_module_version": "1.2.0",
          "state": {
            "_model_module": "@jupyter-widgets/base",
            "_model_module_version": "1.2.0",
            "_model_name": "LayoutModel",
            "_view_count": null,
            "_view_module": "@jupyter-widgets/base",
            "_view_module_version": "1.2.0",
            "_view_name": "LayoutView",
            "align_content": null,
            "align_items": null,
            "align_self": null,
            "border": null,
            "bottom": null,
            "display": null,
            "flex": null,
            "flex_flow": null,
            "grid_area": null,
            "grid_auto_columns": null,
            "grid_auto_flow": null,
            "grid_auto_rows": null,
            "grid_column": null,
            "grid_gap": null,
            "grid_row": null,
            "grid_template_areas": null,
            "grid_template_columns": null,
            "grid_template_rows": null,
            "height": null,
            "justify_content": null,
            "justify_items": null,
            "left": null,
            "margin": null,
            "max_height": null,
            "max_width": null,
            "min_height": null,
            "min_width": null,
            "object_fit": null,
            "object_position": null,
            "order": null,
            "overflow": null,
            "overflow_x": null,
            "overflow_y": null,
            "padding": null,
            "right": null,
            "top": null,
            "visibility": null,
            "width": null
          }
        },
        "63cc0ee66f3d4fccb95031d7cd2bbbce": {
          "model_module": "@jupyter-widgets/controls",
          "model_name": "DescriptionStyleModel",
          "model_module_version": "1.5.0",
          "state": {
            "_model_module": "@jupyter-widgets/controls",
            "_model_module_version": "1.5.0",
            "_model_name": "DescriptionStyleModel",
            "_view_count": null,
            "_view_module": "@jupyter-widgets/base",
            "_view_module_version": "1.2.0",
            "_view_name": "StyleView",
            "description_width": ""
          }
        },
        "3e3f2ad84bcc42bf8317bd755faa5b53": {
          "model_module": "@jupyter-widgets/base",
          "model_name": "LayoutModel",
          "model_module_version": "1.2.0",
          "state": {
            "_model_module": "@jupyter-widgets/base",
            "_model_module_version": "1.2.0",
            "_model_name": "LayoutModel",
            "_view_count": null,
            "_view_module": "@jupyter-widgets/base",
            "_view_module_version": "1.2.0",
            "_view_name": "LayoutView",
            "align_content": null,
            "align_items": null,
            "align_self": null,
            "border": null,
            "bottom": null,
            "display": null,
            "flex": null,
            "flex_flow": null,
            "grid_area": null,
            "grid_auto_columns": null,
            "grid_auto_flow": null,
            "grid_auto_rows": null,
            "grid_column": null,
            "grid_gap": null,
            "grid_row": null,
            "grid_template_areas": null,
            "grid_template_columns": null,
            "grid_template_rows": null,
            "height": null,
            "justify_content": null,
            "justify_items": null,
            "left": null,
            "margin": null,
            "max_height": null,
            "max_width": null,
            "min_height": null,
            "min_width": null,
            "object_fit": null,
            "object_position": null,
            "order": null,
            "overflow": null,
            "overflow_x": null,
            "overflow_y": null,
            "padding": null,
            "right": null,
            "top": null,
            "visibility": null,
            "width": null
          }
        },
        "d58731b56608407b81f10519e8582227": {
          "model_module": "@jupyter-widgets/controls",
          "model_name": "ProgressStyleModel",
          "model_module_version": "1.5.0",
          "state": {
            "_model_module": "@jupyter-widgets/controls",
            "_model_module_version": "1.5.0",
            "_model_name": "ProgressStyleModel",
            "_view_count": null,
            "_view_module": "@jupyter-widgets/base",
            "_view_module_version": "1.2.0",
            "_view_name": "StyleView",
            "bar_color": null,
            "description_width": ""
          }
        },
        "8069867ca0ce45cca9b92d6a56fe3433": {
          "model_module": "@jupyter-widgets/base",
          "model_name": "LayoutModel",
          "model_module_version": "1.2.0",
          "state": {
            "_model_module": "@jupyter-widgets/base",
            "_model_module_version": "1.2.0",
            "_model_name": "LayoutModel",
            "_view_count": null,
            "_view_module": "@jupyter-widgets/base",
            "_view_module_version": "1.2.0",
            "_view_name": "LayoutView",
            "align_content": null,
            "align_items": null,
            "align_self": null,
            "border": null,
            "bottom": null,
            "display": null,
            "flex": null,
            "flex_flow": null,
            "grid_area": null,
            "grid_auto_columns": null,
            "grid_auto_flow": null,
            "grid_auto_rows": null,
            "grid_column": null,
            "grid_gap": null,
            "grid_row": null,
            "grid_template_areas": null,
            "grid_template_columns": null,
            "grid_template_rows": null,
            "height": null,
            "justify_content": null,
            "justify_items": null,
            "left": null,
            "margin": null,
            "max_height": null,
            "max_width": null,
            "min_height": null,
            "min_width": null,
            "object_fit": null,
            "object_position": null,
            "order": null,
            "overflow": null,
            "overflow_x": null,
            "overflow_y": null,
            "padding": null,
            "right": null,
            "top": null,
            "visibility": null,
            "width": null
          }
        },
        "8cf678e267c74f38aa44dad96a3df18a": {
          "model_module": "@jupyter-widgets/controls",
          "model_name": "DescriptionStyleModel",
          "model_module_version": "1.5.0",
          "state": {
            "_model_module": "@jupyter-widgets/controls",
            "_model_module_version": "1.5.0",
            "_model_name": "DescriptionStyleModel",
            "_view_count": null,
            "_view_module": "@jupyter-widgets/base",
            "_view_module_version": "1.2.0",
            "_view_name": "StyleView",
            "description_width": ""
          }
        }
      }
    }
  },
  "cells": [
    {
      "cell_type": "markdown",
      "source": [
        "# Importations"
      ],
      "metadata": {
        "id": "HyrXJYVJCAvT"
      }
    },
    {
      "cell_type": "code",
      "source": [
        "!pip install timm"
      ],
      "metadata": {
        "colab": {
          "base_uri": "https://localhost:8080/"
        },
        "id": "l4XmRsTsLIdf",
        "outputId": "5042e1f0-1907-47ed-b326-92c3203813dd"
      },
      "execution_count": 11,
      "outputs": [
        {
          "output_type": "stream",
          "name": "stdout",
          "text": [
            "Collecting timm\n",
            "  Downloading timm-1.0.3-py3-none-any.whl (2.3 MB)\n",
            "\u001b[2K     \u001b[90m━━━━━━━━━━━━━━━━━━━━━━━━━━━━━━━━━━━━━━━━\u001b[0m \u001b[32m2.3/2.3 MB\u001b[0m \u001b[31m16.5 MB/s\u001b[0m eta \u001b[36m0:00:00\u001b[0m\n",
            "\u001b[?25hRequirement already satisfied: torch in /usr/local/lib/python3.10/dist-packages (from timm) (2.3.0+cu121)\n",
            "Requirement already satisfied: torchvision in /usr/local/lib/python3.10/dist-packages (from timm) (0.18.0+cu121)\n",
            "Requirement already satisfied: pyyaml in /usr/local/lib/python3.10/dist-packages (from timm) (6.0.1)\n",
            "Requirement already satisfied: huggingface_hub in /usr/local/lib/python3.10/dist-packages (from timm) (0.23.3)\n",
            "Requirement already satisfied: safetensors in /usr/local/lib/python3.10/dist-packages (from timm) (0.4.3)\n",
            "Requirement already satisfied: filelock in /usr/local/lib/python3.10/dist-packages (from huggingface_hub->timm) (3.14.0)\n",
            "Requirement already satisfied: fsspec>=2023.5.0 in /usr/local/lib/python3.10/dist-packages (from huggingface_hub->timm) (2023.6.0)\n",
            "Requirement already satisfied: packaging>=20.9 in /usr/local/lib/python3.10/dist-packages (from huggingface_hub->timm) (24.1)\n",
            "Requirement already satisfied: requests in /usr/local/lib/python3.10/dist-packages (from huggingface_hub->timm) (2.31.0)\n",
            "Requirement already satisfied: tqdm>=4.42.1 in /usr/local/lib/python3.10/dist-packages (from huggingface_hub->timm) (4.66.4)\n",
            "Requirement already satisfied: typing-extensions>=3.7.4.3 in /usr/local/lib/python3.10/dist-packages (from huggingface_hub->timm) (4.12.2)\n",
            "Requirement already satisfied: sympy in /usr/local/lib/python3.10/dist-packages (from torch->timm) (1.12.1)\n",
            "Requirement already satisfied: networkx in /usr/local/lib/python3.10/dist-packages (from torch->timm) (3.3)\n",
            "Requirement already satisfied: jinja2 in /usr/local/lib/python3.10/dist-packages (from torch->timm) (3.1.4)\n",
            "Collecting nvidia-cuda-nvrtc-cu12==12.1.105 (from torch->timm)\n",
            "  Using cached nvidia_cuda_nvrtc_cu12-12.1.105-py3-none-manylinux1_x86_64.whl (23.7 MB)\n",
            "Collecting nvidia-cuda-runtime-cu12==12.1.105 (from torch->timm)\n",
            "  Using cached nvidia_cuda_runtime_cu12-12.1.105-py3-none-manylinux1_x86_64.whl (823 kB)\n",
            "Collecting nvidia-cuda-cupti-cu12==12.1.105 (from torch->timm)\n",
            "  Using cached nvidia_cuda_cupti_cu12-12.1.105-py3-none-manylinux1_x86_64.whl (14.1 MB)\n",
            "Collecting nvidia-cudnn-cu12==8.9.2.26 (from torch->timm)\n",
            "  Using cached nvidia_cudnn_cu12-8.9.2.26-py3-none-manylinux1_x86_64.whl (731.7 MB)\n",
            "Collecting nvidia-cublas-cu12==12.1.3.1 (from torch->timm)\n",
            "  Using cached nvidia_cublas_cu12-12.1.3.1-py3-none-manylinux1_x86_64.whl (410.6 MB)\n",
            "Collecting nvidia-cufft-cu12==11.0.2.54 (from torch->timm)\n",
            "  Using cached nvidia_cufft_cu12-11.0.2.54-py3-none-manylinux1_x86_64.whl (121.6 MB)\n",
            "Collecting nvidia-curand-cu12==10.3.2.106 (from torch->timm)\n",
            "  Using cached nvidia_curand_cu12-10.3.2.106-py3-none-manylinux1_x86_64.whl (56.5 MB)\n",
            "Collecting nvidia-cusolver-cu12==11.4.5.107 (from torch->timm)\n",
            "  Using cached nvidia_cusolver_cu12-11.4.5.107-py3-none-manylinux1_x86_64.whl (124.2 MB)\n",
            "Collecting nvidia-cusparse-cu12==12.1.0.106 (from torch->timm)\n",
            "  Using cached nvidia_cusparse_cu12-12.1.0.106-py3-none-manylinux1_x86_64.whl (196.0 MB)\n",
            "Collecting nvidia-nccl-cu12==2.20.5 (from torch->timm)\n",
            "  Using cached nvidia_nccl_cu12-2.20.5-py3-none-manylinux2014_x86_64.whl (176.2 MB)\n",
            "Collecting nvidia-nvtx-cu12==12.1.105 (from torch->timm)\n",
            "  Using cached nvidia_nvtx_cu12-12.1.105-py3-none-manylinux1_x86_64.whl (99 kB)\n",
            "Requirement already satisfied: triton==2.3.0 in /usr/local/lib/python3.10/dist-packages (from torch->timm) (2.3.0)\n",
            "Collecting nvidia-nvjitlink-cu12 (from nvidia-cusolver-cu12==11.4.5.107->torch->timm)\n",
            "  Downloading nvidia_nvjitlink_cu12-12.5.40-py3-none-manylinux2014_x86_64.whl (21.3 MB)\n",
            "\u001b[2K     \u001b[90m━━━━━━━━━━━━━━━━━━━━━━━━━━━━━━━━━━━━━━━━\u001b[0m \u001b[32m21.3/21.3 MB\u001b[0m \u001b[31m43.8 MB/s\u001b[0m eta \u001b[36m0:00:00\u001b[0m\n",
            "\u001b[?25hRequirement already satisfied: numpy in /usr/local/lib/python3.10/dist-packages (from torchvision->timm) (1.25.2)\n",
            "Requirement already satisfied: pillow!=8.3.*,>=5.3.0 in /usr/local/lib/python3.10/dist-packages (from torchvision->timm) (9.4.0)\n",
            "Requirement already satisfied: MarkupSafe>=2.0 in /usr/local/lib/python3.10/dist-packages (from jinja2->torch->timm) (2.1.5)\n",
            "Requirement already satisfied: charset-normalizer<4,>=2 in /usr/local/lib/python3.10/dist-packages (from requests->huggingface_hub->timm) (3.3.2)\n",
            "Requirement already satisfied: idna<4,>=2.5 in /usr/local/lib/python3.10/dist-packages (from requests->huggingface_hub->timm) (3.7)\n",
            "Requirement already satisfied: urllib3<3,>=1.21.1 in /usr/local/lib/python3.10/dist-packages (from requests->huggingface_hub->timm) (2.0.7)\n",
            "Requirement already satisfied: certifi>=2017.4.17 in /usr/local/lib/python3.10/dist-packages (from requests->huggingface_hub->timm) (2024.6.2)\n",
            "Requirement already satisfied: mpmath<1.4.0,>=1.1.0 in /usr/local/lib/python3.10/dist-packages (from sympy->torch->timm) (1.3.0)\n",
            "Installing collected packages: nvidia-nvtx-cu12, nvidia-nvjitlink-cu12, nvidia-nccl-cu12, nvidia-curand-cu12, nvidia-cufft-cu12, nvidia-cuda-runtime-cu12, nvidia-cuda-nvrtc-cu12, nvidia-cuda-cupti-cu12, nvidia-cublas-cu12, nvidia-cusparse-cu12, nvidia-cudnn-cu12, nvidia-cusolver-cu12, timm\n",
            "Successfully installed nvidia-cublas-cu12-12.1.3.1 nvidia-cuda-cupti-cu12-12.1.105 nvidia-cuda-nvrtc-cu12-12.1.105 nvidia-cuda-runtime-cu12-12.1.105 nvidia-cudnn-cu12-8.9.2.26 nvidia-cufft-cu12-11.0.2.54 nvidia-curand-cu12-10.3.2.106 nvidia-cusolver-cu12-11.4.5.107 nvidia-cusparse-cu12-12.1.0.106 nvidia-nccl-cu12-2.20.5 nvidia-nvjitlink-cu12-12.5.40 nvidia-nvtx-cu12-12.1.105 timm-1.0.3\n"
          ]
        }
      ]
    },
    {
      "cell_type": "code",
      "source": [
        "import torch\n",
        "import torchvision.models as models\n",
        "import torchvision\n",
        "import torchvision.transforms as transforms\n",
        "import torch.nn as nn\n",
        "import torch.optim as optim\n",
        "import time\n",
        "import timm\n",
        "import numpy as np\n",
        "from matplotlib import pyplot as plt"
      ],
      "metadata": {
        "id": "ojbsJaOoBzYH"
      },
      "execution_count": 12,
      "outputs": []
    },
    {
      "cell_type": "markdown",
      "source": [
        "# DataLoading"
      ],
      "metadata": {
        "id": "NWRWz3KFDDzr"
      }
    },
    {
      "cell_type": "code",
      "source": [
        "transform = transforms.Compose([\n",
        "    transforms.Resize(224),\n",
        "    transforms.ToTensor(),\n",
        "    transforms.Normalize((0.5, 0.5, 0.5), (0.5, 0.5, 0.5))\n",
        "])\n",
        "\n",
        "trainset = torchvision.datasets.CIFAR10(root='./data', train=True, download=True, transform=transform)\n",
        "trainloader = torch.utils.data.DataLoader(trainset, batch_size=4, shuffle=True)\n",
        "\n",
        "testset = torchvision.datasets.CIFAR10(root='./data', train=False, download=True, transform=transform)\n",
        "testloader = torch.utils.data.DataLoader(testset, batch_size=4, shuffle=False)\n"
      ],
      "metadata": {
        "colab": {
          "base_uri": "https://localhost:8080/"
        },
        "id": "n0gg0EVIDFxk",
        "outputId": "6fc73ba8-f2f4-40ea-b2df-82b2f1319859"
      },
      "execution_count": 3,
      "outputs": [
        {
          "output_type": "stream",
          "name": "stdout",
          "text": [
            "Downloading https://www.cs.toronto.edu/~kriz/cifar-10-python.tar.gz to ./data/cifar-10-python.tar.gz\n"
          ]
        },
        {
          "output_type": "stream",
          "name": "stderr",
          "text": [
            "100%|██████████| 170498071/170498071 [00:02<00:00, 59461440.25it/s]\n"
          ]
        },
        {
          "output_type": "stream",
          "name": "stdout",
          "text": [
            "Extracting ./data/cifar-10-python.tar.gz to ./data\n",
            "Files already downloaded and verified\n"
          ]
        }
      ]
    },
    {
      "cell_type": "markdown",
      "source": [
        "# VGG19 model"
      ],
      "metadata": {
        "id": "C0zTdrAeXWzu"
      }
    },
    {
      "cell_type": "code",
      "execution_count": 4,
      "metadata": {
        "colab": {
          "base_uri": "https://localhost:8080/"
        },
        "id": "rt-Fhwip2hXO",
        "outputId": "c6627a36-2bf4-4af0-fa91-64fb4cbd505c"
      },
      "outputs": [
        {
          "output_type": "stream",
          "name": "stderr",
          "text": [
            "/usr/local/lib/python3.10/dist-packages/torchvision/models/_utils.py:208: UserWarning: The parameter 'pretrained' is deprecated since 0.13 and may be removed in the future, please use 'weights' instead.\n",
            "  warnings.warn(\n",
            "/usr/local/lib/python3.10/dist-packages/torchvision/models/_utils.py:223: UserWarning: Arguments other than a weight enum or `None` for 'weights' are deprecated since 0.13 and may be removed in the future. The current behavior is equivalent to passing `weights=VGG19_Weights.IMAGENET1K_V1`. You can also use `weights=VGG19_Weights.DEFAULT` to get the most up-to-date weights.\n",
            "  warnings.warn(msg)\n",
            "Downloading: \"https://download.pytorch.org/models/vgg19-dcbb9e9d.pth\" to /root/.cache/torch/hub/checkpoints/vgg19-dcbb9e9d.pth\n",
            "100%|██████████| 548M/548M [00:07<00:00, 75.3MB/s]\n"
          ]
        }
      ],
      "source": [
        "model = models.vgg19(pretrained=True)\n",
        "\n",
        "for param in model.parameters():\n",
        "    param.requires_grad = False"
      ]
    },
    {
      "cell_type": "code",
      "source": [
        "model.features"
      ],
      "metadata": {
        "colab": {
          "base_uri": "https://localhost:8080/"
        },
        "id": "CBIUne3l2qDi",
        "outputId": "04b3ad67-e802-4196-c9be-b27bb806aa7e"
      },
      "execution_count": 5,
      "outputs": [
        {
          "output_type": "execute_result",
          "data": {
            "text/plain": [
              "Sequential(\n",
              "  (0): Conv2d(3, 64, kernel_size=(3, 3), stride=(1, 1), padding=(1, 1))\n",
              "  (1): ReLU(inplace=True)\n",
              "  (2): Conv2d(64, 64, kernel_size=(3, 3), stride=(1, 1), padding=(1, 1))\n",
              "  (3): ReLU(inplace=True)\n",
              "  (4): MaxPool2d(kernel_size=2, stride=2, padding=0, dilation=1, ceil_mode=False)\n",
              "  (5): Conv2d(64, 128, kernel_size=(3, 3), stride=(1, 1), padding=(1, 1))\n",
              "  (6): ReLU(inplace=True)\n",
              "  (7): Conv2d(128, 128, kernel_size=(3, 3), stride=(1, 1), padding=(1, 1))\n",
              "  (8): ReLU(inplace=True)\n",
              "  (9): MaxPool2d(kernel_size=2, stride=2, padding=0, dilation=1, ceil_mode=False)\n",
              "  (10): Conv2d(128, 256, kernel_size=(3, 3), stride=(1, 1), padding=(1, 1))\n",
              "  (11): ReLU(inplace=True)\n",
              "  (12): Conv2d(256, 256, kernel_size=(3, 3), stride=(1, 1), padding=(1, 1))\n",
              "  (13): ReLU(inplace=True)\n",
              "  (14): Conv2d(256, 256, kernel_size=(3, 3), stride=(1, 1), padding=(1, 1))\n",
              "  (15): ReLU(inplace=True)\n",
              "  (16): Conv2d(256, 256, kernel_size=(3, 3), stride=(1, 1), padding=(1, 1))\n",
              "  (17): ReLU(inplace=True)\n",
              "  (18): MaxPool2d(kernel_size=2, stride=2, padding=0, dilation=1, ceil_mode=False)\n",
              "  (19): Conv2d(256, 512, kernel_size=(3, 3), stride=(1, 1), padding=(1, 1))\n",
              "  (20): ReLU(inplace=True)\n",
              "  (21): Conv2d(512, 512, kernel_size=(3, 3), stride=(1, 1), padding=(1, 1))\n",
              "  (22): ReLU(inplace=True)\n",
              "  (23): Conv2d(512, 512, kernel_size=(3, 3), stride=(1, 1), padding=(1, 1))\n",
              "  (24): ReLU(inplace=True)\n",
              "  (25): Conv2d(512, 512, kernel_size=(3, 3), stride=(1, 1), padding=(1, 1))\n",
              "  (26): ReLU(inplace=True)\n",
              "  (27): MaxPool2d(kernel_size=2, stride=2, padding=0, dilation=1, ceil_mode=False)\n",
              "  (28): Conv2d(512, 512, kernel_size=(3, 3), stride=(1, 1), padding=(1, 1))\n",
              "  (29): ReLU(inplace=True)\n",
              "  (30): Conv2d(512, 512, kernel_size=(3, 3), stride=(1, 1), padding=(1, 1))\n",
              "  (31): ReLU(inplace=True)\n",
              "  (32): Conv2d(512, 512, kernel_size=(3, 3), stride=(1, 1), padding=(1, 1))\n",
              "  (33): ReLU(inplace=True)\n",
              "  (34): Conv2d(512, 512, kernel_size=(3, 3), stride=(1, 1), padding=(1, 1))\n",
              "  (35): ReLU(inplace=True)\n",
              "  (36): MaxPool2d(kernel_size=2, stride=2, padding=0, dilation=1, ceil_mode=False)\n",
              ")"
            ]
          },
          "metadata": {},
          "execution_count": 5
        }
      ]
    },
    {
      "cell_type": "markdown",
      "source": [
        "block 5 conv1 is at index 28."
      ],
      "metadata": {
        "id": "hh8D-QI55NRO"
      }
    },
    {
      "cell_type": "code",
      "source": [
        "conv_indices = [28, 30, 32, 34]\n",
        "\n",
        "for i in conv_indices:\n",
        "    model.features[i].weight.requires_grad = True\n",
        "    model.features[i].bias.requires_grad = True\n",
        "\n",
        "print('trainable layers:')\n",
        "for name, param in model.named_parameters():\n",
        "    if param.requires_grad:\n",
        "        print(name, param.requires_grad)\n"
      ],
      "metadata": {
        "colab": {
          "base_uri": "https://localhost:8080/"
        },
        "id": "4Q4aZDsq2tOR",
        "outputId": "09ae568d-5885-4519-8d5f-aaf640cd777b"
      },
      "execution_count": 6,
      "outputs": [
        {
          "output_type": "stream",
          "name": "stdout",
          "text": [
            "trainable layers:\n",
            "features.28.weight True\n",
            "features.28.bias True\n",
            "features.30.weight True\n",
            "features.30.bias True\n",
            "features.32.weight True\n",
            "features.32.bias True\n",
            "features.34.weight True\n",
            "features.34.bias True\n"
          ]
        }
      ]
    },
    {
      "cell_type": "code",
      "source": [
        "trainable_params = sum(p.numel() for p in model.parameters() if p.requires_grad)\n",
        "\n",
        "print(f\"Total trainable parameters: {trainable_params}\")"
      ],
      "metadata": {
        "colab": {
          "base_uri": "https://localhost:8080/"
        },
        "id": "F2OeN9215cVZ",
        "outputId": "17bc1958-6aaf-4fef-d791-49e1c7322cd4"
      },
      "execution_count": 7,
      "outputs": [
        {
          "output_type": "stream",
          "name": "stdout",
          "text": [
            "Total trainable parameters: 9439232\n"
          ]
        }
      ]
    },
    {
      "cell_type": "code",
      "source": [
        "model.classifier"
      ],
      "metadata": {
        "id": "ClqhobzG5q8B",
        "colab": {
          "base_uri": "https://localhost:8080/"
        },
        "outputId": "48f4c5cb-0032-464a-9398-50dac2c7be68"
      },
      "execution_count": 8,
      "outputs": [
        {
          "output_type": "execute_result",
          "data": {
            "text/plain": [
              "Sequential(\n",
              "  (0): Linear(in_features=25088, out_features=4096, bias=True)\n",
              "  (1): ReLU(inplace=True)\n",
              "  (2): Dropout(p=0.5, inplace=False)\n",
              "  (3): Linear(in_features=4096, out_features=4096, bias=True)\n",
              "  (4): ReLU(inplace=True)\n",
              "  (5): Dropout(p=0.5, inplace=False)\n",
              "  (6): Linear(in_features=4096, out_features=1000, bias=True)\n",
              ")"
            ]
          },
          "metadata": {},
          "execution_count": 8
        }
      ]
    },
    {
      "cell_type": "code",
      "source": [
        "model.classifier = nn.Sequential(\n",
        "    nn.Flatten(),\n",
        "    nn.Linear(25088, 256),\n",
        "    nn.ELU(),\n",
        "    nn.Dropout(0.5),\n",
        "    nn.Linear(256, 10)\n",
        ")"
      ],
      "metadata": {
        "id": "ZxyuO_O6Gc5J"
      },
      "execution_count": 9,
      "outputs": []
    },
    {
      "cell_type": "code",
      "source": [
        "# model.classifier[6] = nn.Linear(model.classifier[6].in_features, 10)  # CIFAR-10 has 10 classes\n",
        "\n",
        "device = torch.device(\"cuda:0\" if torch.cuda.is_available() else \"cpu\")\n",
        "model.to(device)"
      ],
      "metadata": {
        "colab": {
          "base_uri": "https://localhost:8080/"
        },
        "id": "pJiPdUU-59OI",
        "outputId": "ece5b932-389b-47a2-ab38-4c4f5e38bb3c"
      },
      "execution_count": 10,
      "outputs": [
        {
          "output_type": "execute_result",
          "data": {
            "text/plain": [
              "VGG(\n",
              "  (features): Sequential(\n",
              "    (0): Conv2d(3, 64, kernel_size=(3, 3), stride=(1, 1), padding=(1, 1))\n",
              "    (1): ReLU(inplace=True)\n",
              "    (2): Conv2d(64, 64, kernel_size=(3, 3), stride=(1, 1), padding=(1, 1))\n",
              "    (3): ReLU(inplace=True)\n",
              "    (4): MaxPool2d(kernel_size=2, stride=2, padding=0, dilation=1, ceil_mode=False)\n",
              "    (5): Conv2d(64, 128, kernel_size=(3, 3), stride=(1, 1), padding=(1, 1))\n",
              "    (6): ReLU(inplace=True)\n",
              "    (7): Conv2d(128, 128, kernel_size=(3, 3), stride=(1, 1), padding=(1, 1))\n",
              "    (8): ReLU(inplace=True)\n",
              "    (9): MaxPool2d(kernel_size=2, stride=2, padding=0, dilation=1, ceil_mode=False)\n",
              "    (10): Conv2d(128, 256, kernel_size=(3, 3), stride=(1, 1), padding=(1, 1))\n",
              "    (11): ReLU(inplace=True)\n",
              "    (12): Conv2d(256, 256, kernel_size=(3, 3), stride=(1, 1), padding=(1, 1))\n",
              "    (13): ReLU(inplace=True)\n",
              "    (14): Conv2d(256, 256, kernel_size=(3, 3), stride=(1, 1), padding=(1, 1))\n",
              "    (15): ReLU(inplace=True)\n",
              "    (16): Conv2d(256, 256, kernel_size=(3, 3), stride=(1, 1), padding=(1, 1))\n",
              "    (17): ReLU(inplace=True)\n",
              "    (18): MaxPool2d(kernel_size=2, stride=2, padding=0, dilation=1, ceil_mode=False)\n",
              "    (19): Conv2d(256, 512, kernel_size=(3, 3), stride=(1, 1), padding=(1, 1))\n",
              "    (20): ReLU(inplace=True)\n",
              "    (21): Conv2d(512, 512, kernel_size=(3, 3), stride=(1, 1), padding=(1, 1))\n",
              "    (22): ReLU(inplace=True)\n",
              "    (23): Conv2d(512, 512, kernel_size=(3, 3), stride=(1, 1), padding=(1, 1))\n",
              "    (24): ReLU(inplace=True)\n",
              "    (25): Conv2d(512, 512, kernel_size=(3, 3), stride=(1, 1), padding=(1, 1))\n",
              "    (26): ReLU(inplace=True)\n",
              "    (27): MaxPool2d(kernel_size=2, stride=2, padding=0, dilation=1, ceil_mode=False)\n",
              "    (28): Conv2d(512, 512, kernel_size=(3, 3), stride=(1, 1), padding=(1, 1))\n",
              "    (29): ReLU(inplace=True)\n",
              "    (30): Conv2d(512, 512, kernel_size=(3, 3), stride=(1, 1), padding=(1, 1))\n",
              "    (31): ReLU(inplace=True)\n",
              "    (32): Conv2d(512, 512, kernel_size=(3, 3), stride=(1, 1), padding=(1, 1))\n",
              "    (33): ReLU(inplace=True)\n",
              "    (34): Conv2d(512, 512, kernel_size=(3, 3), stride=(1, 1), padding=(1, 1))\n",
              "    (35): ReLU(inplace=True)\n",
              "    (36): MaxPool2d(kernel_size=2, stride=2, padding=0, dilation=1, ceil_mode=False)\n",
              "  )\n",
              "  (avgpool): AdaptiveAvgPool2d(output_size=(7, 7))\n",
              "  (classifier): Sequential(\n",
              "    (0): Flatten(start_dim=1, end_dim=-1)\n",
              "    (1): Linear(in_features=25088, out_features=256, bias=True)\n",
              "    (2): ELU(alpha=1.0)\n",
              "    (3): Dropout(p=0.5, inplace=False)\n",
              "    (4): Linear(in_features=256, out_features=10, bias=True)\n",
              "  )\n",
              ")"
            ]
          },
          "metadata": {},
          "execution_count": 10
        }
      ]
    },
    {
      "cell_type": "code",
      "source": [
        "#hyperparamethers\n",
        "learning_rate = 0.0001\n",
        "num_epochs = 10\n",
        "criterion = nn.CrossEntropyLoss()\n",
        "optimizer = optim.Adam(model.parameters(), lr=learning_rate)"
      ],
      "metadata": {
        "id": "MLKArvXf6Bnt"
      },
      "execution_count": null,
      "outputs": []
    },
    {
      "cell_type": "code",
      "source": [
        "all_train_loss = []\n",
        "all_valid_loss = []\n",
        "all_train_acc = []\n",
        "all_valid_acc = []\n",
        "\n",
        "epoch_train_loss = []\n",
        "epoch_valid_loss = []\n",
        "epoch_train_acc = []\n",
        "epoch_valid_acc = []\n",
        "epoch_train_time = []\n",
        "epoch_valid_time = []\n",
        "\n",
        "\n",
        "for epoch in range(num_epochs):\n",
        "\n",
        "    # train\n",
        "    t = time.time()\n",
        "    epoch_loss = 0.0\n",
        "    running_loss = 0.0\n",
        "    total_count = 0\n",
        "    correct_count = 0\n",
        "    for i, data in enumerate(trainloader, 0):\n",
        "        inputs, labels = data[0].to(device), data[1].to(device)\n",
        "        optimizer.zero_grad()\n",
        "\n",
        "        outputs = model(inputs)\n",
        "        loss = criterion(outputs, labels)\n",
        "        loss.backward()\n",
        "        optimizer.step()\n",
        "\n",
        "        running_loss += loss.item()\n",
        "        epoch_loss += loss.item()\n",
        "\n",
        "        _, pred = torch.max(outputs.data, 1)\n",
        "        total_count += labels.size(0)\n",
        "        corrects = (pred==labels).sum().item()\n",
        "        correct_count += corrects\n",
        "        if (i+1) % 1000 == 0:\n",
        "            print(f'Epoch {epoch + 1}, Batch {i + 1}: Batch Loss {running_loss / 1000:.3f}')\n",
        "            all_train_loss.append(running_loss)\n",
        "            running_loss = 0.0\n",
        "\n",
        "    # end of train\n",
        "\n",
        "\n",
        "    duration = time.time() - t\n",
        "    epoch_train_time.append(duration)\n",
        "    epoch_train_loss.append(epoch_loss/len(trainloader))\n",
        "    epoch_train_acc.append(correct_count/total_count)\n",
        "    print(50*'= ')\n",
        "    print(f'Epoch {epoch + 1}/{num_epochs}')\n",
        "    print(f'Train Loss: {epoch_loss/len(trainloader)}, Train Accuracy: {correct_count/total_count}, Train Duration: {duration}')\n",
        "\n",
        "\n",
        "    # validation\n",
        "    model.eval()\n",
        "    t = time.time()\n",
        "    running_loss = 0.0\n",
        "    total_count = 0\n",
        "    correct_count = 0\n",
        "    with torch.no_grad():\n",
        "        for i, data in enumerate(testloader, 0):\n",
        "            inputs, labels = data[0].to(device), data[1].to(device)\n",
        "            outputs = model(inputs)\n",
        "            loss = criterion(outputs, labels)\n",
        "            running_loss += loss.item()\n",
        "            _, pred = torch.max(outputs.data, 1)\n",
        "            total_count += labels.size(0)\n",
        "            corrects = (pred==labels).sum().item()\n",
        "            correct_count += corrects\n",
        "\n",
        "    # end of validation\n",
        "    duration = time.time() - t\n",
        "    epoch_valid_time.append(duration)\n",
        "    epoch_valid_loss.append(running_loss/len(testloader))\n",
        "    epoch_valid_acc.append(correct_count/total_count)\n",
        "    print(f'Valid Loss: {running_loss/len(testloader)}, Valid Accuracy: {correct_count/total_count}, Valid Duration: {duration}')\n",
        "    print(f'END of Epoch {epoch + 1}/{num_epochs}')\n",
        "    print(50*'= ')\n",
        "    print('\\n\\n')\n",
        "\n",
        "print('Finished Training')\n"
      ],
      "metadata": {
        "colab": {
          "base_uri": "https://localhost:8080/"
        },
        "id": "YF5_iEfcHeUT",
        "outputId": "9d93c714-4604-4b6f-a787-be54502c4b76"
      },
      "execution_count": null,
      "outputs": [
        {
          "output_type": "stream",
          "name": "stdout",
          "text": [
            "Epoch 1, Batch 1000: Batch Loss 1.062\n",
            "Epoch 1, Batch 2000: Batch Loss 0.695\n",
            "Epoch 1, Batch 3000: Batch Loss 0.595\n",
            "Epoch 1, Batch 4000: Batch Loss 0.580\n",
            "Epoch 1, Batch 5000: Batch Loss 0.525\n",
            "Epoch 1, Batch 6000: Batch Loss 0.569\n",
            "Epoch 1, Batch 7000: Batch Loss 0.524\n",
            "Epoch 1, Batch 8000: Batch Loss 0.472\n",
            "Epoch 1, Batch 9000: Batch Loss 0.468\n",
            "Epoch 1, Batch 10000: Batch Loss 0.463\n",
            "Epoch 1, Batch 11000: Batch Loss 0.443\n",
            "Epoch 1, Batch 12000: Batch Loss 0.461\n",
            "= = = = = = = = = = = = = = = = = = = = = = = = = = = = = = = = = = = = = = = = = = = = = = = = = = \n",
            "Epoch 1/10\n",
            "Train Loss: 0.5663457383490746, Train Accuracy: 0.8138, Train Duration: 601.4307994842529\n",
            "Valid Loss: 0.3674661717307734, Valid Accuracy: 0.8765, Valid Duration: 93.85558032989502\n",
            "END of Epoch 1/10\n",
            "= = = = = = = = = = = = = = = = = = = = = = = = = = = = = = = = = = = = = = = = = = = = = = = = = = \n",
            "\n",
            "\n",
            "\n",
            "Epoch 2, Batch 1000: Batch Loss 0.265\n",
            "Epoch 2, Batch 2000: Batch Loss 0.291\n",
            "Epoch 2, Batch 3000: Batch Loss 0.299\n",
            "Epoch 2, Batch 4000: Batch Loss 0.311\n",
            "Epoch 2, Batch 5000: Batch Loss 0.287\n",
            "Epoch 2, Batch 6000: Batch Loss 0.288\n",
            "Epoch 2, Batch 7000: Batch Loss 0.283\n",
            "Epoch 2, Batch 8000: Batch Loss 0.299\n",
            "Epoch 2, Batch 9000: Batch Loss 0.292\n",
            "Epoch 2, Batch 10000: Batch Loss 0.283\n",
            "Epoch 2, Batch 11000: Batch Loss 0.292\n",
            "Epoch 2, Batch 12000: Batch Loss 0.284\n",
            "= = = = = = = = = = = = = = = = = = = = = = = = = = = = = = = = = = = = = = = = = = = = = = = = = = \n",
            "Epoch 2/10\n",
            "Train Loss: 0.2881056251076218, Train Accuracy: 0.90444, Train Duration: 597.9575660228729\n",
            "Valid Loss: 0.3793086061544007, Valid Accuracy: 0.8771, Valid Duration: 93.85007119178772\n",
            "END of Epoch 2/10\n",
            "= = = = = = = = = = = = = = = = = = = = = = = = = = = = = = = = = = = = = = = = = = = = = = = = = = \n",
            "\n",
            "\n",
            "\n",
            "Epoch 3, Batch 1000: Batch Loss 0.151\n",
            "Epoch 3, Batch 2000: Batch Loss 0.161\n",
            "Epoch 3, Batch 3000: Batch Loss 0.183\n",
            "Epoch 3, Batch 4000: Batch Loss 0.194\n",
            "Epoch 3, Batch 5000: Batch Loss 0.179\n",
            "Epoch 3, Batch 6000: Batch Loss 0.191\n",
            "Epoch 3, Batch 7000: Batch Loss 0.209\n",
            "Epoch 3, Batch 8000: Batch Loss 0.212\n",
            "Epoch 3, Batch 9000: Batch Loss 0.193\n",
            "Epoch 3, Batch 10000: Batch Loss 0.215\n",
            "Epoch 3, Batch 11000: Batch Loss 0.191\n",
            "Epoch 3, Batch 12000: Batch Loss 0.191\n",
            "= = = = = = = = = = = = = = = = = = = = = = = = = = = = = = = = = = = = = = = = = = = = = = = = = = \n",
            "Epoch 3/10\n",
            "Train Loss: 0.18942516667215367, Train Accuracy: 0.9381, Train Duration: 597.139803647995\n",
            "Valid Loss: 0.35037882855446706, Valid Accuracy: 0.8994, Valid Duration: 93.5238709449768\n",
            "END of Epoch 3/10\n",
            "= = = = = = = = = = = = = = = = = = = = = = = = = = = = = = = = = = = = = = = = = = = = = = = = = = \n",
            "\n",
            "\n",
            "\n",
            "Epoch 4, Batch 1000: Batch Loss 0.113\n",
            "Epoch 4, Batch 2000: Batch Loss 0.117\n",
            "Epoch 4, Batch 3000: Batch Loss 0.136\n",
            "Epoch 4, Batch 4000: Batch Loss 0.135\n",
            "Epoch 4, Batch 5000: Batch Loss 0.152\n",
            "Epoch 4, Batch 6000: Batch Loss 0.140\n",
            "Epoch 4, Batch 7000: Batch Loss 0.140\n",
            "Epoch 4, Batch 8000: Batch Loss 0.135\n",
            "Epoch 4, Batch 9000: Batch Loss 0.151\n",
            "Epoch 4, Batch 10000: Batch Loss 0.146\n",
            "Epoch 4, Batch 11000: Batch Loss 0.146\n",
            "Epoch 4, Batch 12000: Batch Loss 0.144\n",
            "= = = = = = = = = = = = = = = = = = = = = = = = = = = = = = = = = = = = = = = = = = = = = = = = = = \n",
            "Epoch 4/10\n",
            "Train Loss: 0.1374386212166445, Train Accuracy: 0.95512, Train Duration: 598.4449541568756\n",
            "Valid Loss: 0.4337242060184215, Valid Accuracy: 0.8941, Valid Duration: 93.40284848213196\n",
            "END of Epoch 4/10\n",
            "= = = = = = = = = = = = = = = = = = = = = = = = = = = = = = = = = = = = = = = = = = = = = = = = = = \n",
            "\n",
            "\n",
            "\n",
            "Epoch 5, Batch 1000: Batch Loss 0.099\n",
            "Epoch 5, Batch 2000: Batch Loss 0.085\n",
            "Epoch 5, Batch 3000: Batch Loss 0.127\n",
            "Epoch 5, Batch 4000: Batch Loss 0.108\n",
            "Epoch 5, Batch 5000: Batch Loss 0.131\n",
            "Epoch 5, Batch 6000: Batch Loss 0.103\n",
            "Epoch 5, Batch 7000: Batch Loss 0.116\n",
            "Epoch 5, Batch 8000: Batch Loss 0.115\n",
            "Epoch 5, Batch 9000: Batch Loss 0.124\n",
            "Epoch 5, Batch 10000: Batch Loss 0.127\n",
            "Epoch 5, Batch 11000: Batch Loss 0.121\n",
            "Epoch 5, Batch 12000: Batch Loss 0.125\n",
            "= = = = = = = = = = = = = = = = = = = = = = = = = = = = = = = = = = = = = = = = = = = = = = = = = = \n",
            "Epoch 5/10\n",
            "Train Loss: 0.11586660063094766, Train Accuracy: 0.96372, Train Duration: 595.9690279960632\n",
            "Valid Loss: 0.48754971095878735, Valid Accuracy: 0.8793, Valid Duration: 93.9759111404419\n",
            "END of Epoch 5/10\n",
            "= = = = = = = = = = = = = = = = = = = = = = = = = = = = = = = = = = = = = = = = = = = = = = = = = = \n",
            "\n",
            "\n",
            "\n",
            "Epoch 6, Batch 1000: Batch Loss 0.092\n",
            "Epoch 6, Batch 2000: Batch Loss 0.095\n",
            "Epoch 6, Batch 3000: Batch Loss 0.090\n",
            "Epoch 6, Batch 4000: Batch Loss 0.101\n",
            "Epoch 6, Batch 5000: Batch Loss 0.103\n",
            "Epoch 6, Batch 6000: Batch Loss 0.101\n",
            "Epoch 6, Batch 7000: Batch Loss 0.112\n",
            "Epoch 6, Batch 8000: Batch Loss 0.137\n",
            "Epoch 6, Batch 9000: Batch Loss 0.107\n",
            "Epoch 6, Batch 10000: Batch Loss 0.095\n",
            "Epoch 6, Batch 11000: Batch Loss 0.135\n",
            "Epoch 6, Batch 12000: Batch Loss 0.094\n",
            "= = = = = = = = = = = = = = = = = = = = = = = = = = = = = = = = = = = = = = = = = = = = = = = = = = \n",
            "Epoch 6/10\n",
            "Train Loss: 0.10728855403337102, Train Accuracy: 0.96888, Train Duration: 597.4860446453094\n",
            "Valid Loss: 0.6203948702011162, Valid Accuracy: 0.8906, Valid Duration: 94.89921450614929\n",
            "END of Epoch 6/10\n",
            "= = = = = = = = = = = = = = = = = = = = = = = = = = = = = = = = = = = = = = = = = = = = = = = = = = \n",
            "\n",
            "\n",
            "\n",
            "Epoch 7, Batch 1000: Batch Loss 0.079\n",
            "Epoch 7, Batch 2000: Batch Loss 0.102\n",
            "Epoch 7, Batch 3000: Batch Loss 0.084\n",
            "Epoch 7, Batch 4000: Batch Loss 0.089\n",
            "Epoch 7, Batch 5000: Batch Loss 0.145\n",
            "Epoch 7, Batch 6000: Batch Loss 0.080\n",
            "Epoch 7, Batch 7000: Batch Loss 0.099\n",
            "Epoch 7, Batch 8000: Batch Loss 0.117\n",
            "Epoch 7, Batch 9000: Batch Loss 0.103\n",
            "Epoch 7, Batch 10000: Batch Loss 0.117\n",
            "Epoch 7, Batch 11000: Batch Loss 0.103\n",
            "Epoch 7, Batch 12000: Batch Loss 0.124\n",
            "= = = = = = = = = = = = = = = = = = = = = = = = = = = = = = = = = = = = = = = = = = = = = = = = = = \n",
            "Epoch 7/10\n",
            "Train Loss: 0.10353841238309779, Train Accuracy: 0.97078, Train Duration: 598.7735316753387\n",
            "Valid Loss: 0.6021779277441309, Valid Accuracy: 0.8972, Valid Duration: 93.76414060592651\n",
            "END of Epoch 7/10\n",
            "= = = = = = = = = = = = = = = = = = = = = = = = = = = = = = = = = = = = = = = = = = = = = = = = = = \n",
            "\n",
            "\n",
            "\n",
            "Epoch 8, Batch 1000: Batch Loss 0.079\n",
            "Epoch 8, Batch 2000: Batch Loss 0.095\n",
            "Epoch 8, Batch 3000: Batch Loss 0.110\n",
            "Epoch 8, Batch 4000: Batch Loss 0.082\n",
            "Epoch 8, Batch 5000: Batch Loss 0.125\n",
            "Epoch 8, Batch 6000: Batch Loss 0.115\n",
            "Epoch 8, Batch 7000: Batch Loss 0.102\n",
            "Epoch 8, Batch 8000: Batch Loss 0.112\n",
            "Epoch 8, Batch 9000: Batch Loss 0.085\n",
            "Epoch 8, Batch 10000: Batch Loss 0.137\n",
            "Epoch 8, Batch 11000: Batch Loss 0.111\n",
            "Epoch 8, Batch 12000: Batch Loss 0.101\n",
            "= = = = = = = = = = = = = = = = = = = = = = = = = = = = = = = = = = = = = = = = = = = = = = = = = = \n",
            "Epoch 8/10\n",
            "Train Loss: 0.10622648670661912, Train Accuracy: 0.97138, Train Duration: 597.3936491012573\n",
            "Valid Loss: 0.6018477382217848, Valid Accuracy: 0.8974, Valid Duration: 93.63293600082397\n",
            "END of Epoch 8/10\n",
            "= = = = = = = = = = = = = = = = = = = = = = = = = = = = = = = = = = = = = = = = = = = = = = = = = = \n",
            "\n",
            "\n",
            "\n",
            "Epoch 9, Batch 1000: Batch Loss 0.080\n",
            "Epoch 9, Batch 2000: Batch Loss 0.066\n",
            "Epoch 9, Batch 3000: Batch Loss 0.110\n",
            "Epoch 9, Batch 4000: Batch Loss 0.070\n",
            "Epoch 9, Batch 5000: Batch Loss 0.101\n",
            "Epoch 9, Batch 6000: Batch Loss 0.088\n",
            "Epoch 9, Batch 7000: Batch Loss 0.089\n",
            "Epoch 9, Batch 8000: Batch Loss 0.088\n",
            "Epoch 9, Batch 9000: Batch Loss 0.082\n",
            "Epoch 9, Batch 10000: Batch Loss 0.101\n",
            "Epoch 9, Batch 11000: Batch Loss 0.122\n",
            "Epoch 9, Batch 12000: Batch Loss 0.140\n",
            "= = = = = = = = = = = = = = = = = = = = = = = = = = = = = = = = = = = = = = = = = = = = = = = = = = \n",
            "Epoch 9/10\n",
            "Train Loss: 0.09639179453024393, Train Accuracy: 0.97498, Train Duration: 596.8611047267914\n",
            "Valid Loss: 0.7213436279152942, Valid Accuracy: 0.8868, Valid Duration: 93.53479242324829\n",
            "END of Epoch 9/10\n",
            "= = = = = = = = = = = = = = = = = = = = = = = = = = = = = = = = = = = = = = = = = = = = = = = = = = \n",
            "\n",
            "\n",
            "\n",
            "Epoch 10, Batch 1000: Batch Loss 0.085\n",
            "Epoch 10, Batch 2000: Batch Loss 0.088\n",
            "Epoch 10, Batch 3000: Batch Loss 0.098\n",
            "Epoch 10, Batch 4000: Batch Loss 0.089\n",
            "Epoch 10, Batch 5000: Batch Loss 0.109\n",
            "Epoch 10, Batch 6000: Batch Loss 0.084\n",
            "Epoch 10, Batch 7000: Batch Loss 0.104\n",
            "Epoch 10, Batch 8000: Batch Loss 0.095\n",
            "Epoch 10, Batch 9000: Batch Loss 0.102\n",
            "Epoch 10, Batch 10000: Batch Loss 0.102\n",
            "Epoch 10, Batch 11000: Batch Loss 0.097\n",
            "Epoch 10, Batch 12000: Batch Loss 0.093\n",
            "= = = = = = = = = = = = = = = = = = = = = = = = = = = = = = = = = = = = = = = = = = = = = = = = = = \n",
            "Epoch 10/10\n",
            "Train Loss: 0.09603800637474585, Train Accuracy: 0.97594, Train Duration: 602.8752207756042\n",
            "Valid Loss: 0.7324725100372113, Valid Accuracy: 0.8768, Valid Duration: 94.15888619422913\n",
            "END of Epoch 10/10\n",
            "= = = = = = = = = = = = = = = = = = = = = = = = = = = = = = = = = = = = = = = = = = = = = = = = = = \n",
            "\n",
            "\n",
            "\n",
            "Finished Training\n"
          ]
        }
      ]
    },
    {
      "cell_type": "code",
      "source": [
        "import numpy as np\n",
        "# duration\n",
        "average_dur_train = np.mean(np.array(epoch_train_time))\n",
        "average_dur_valid = np.mean(np.array(epoch_valid_time))\n",
        "\n",
        "print(f'train average epoch time: {average_dur_train}')\n",
        "print(f'valid average epoch time: {average_dur_valid}')"
      ],
      "metadata": {
        "colab": {
          "base_uri": "https://localhost:8080/"
        },
        "id": "EBy7bBfQXbN0",
        "outputId": "3ae4286a-a25b-421c-e04d-66615e4b4c2f"
      },
      "execution_count": null,
      "outputs": [
        {
          "output_type": "stream",
          "name": "stdout",
          "text": [
            "train average epoch time: 598.4331702232361\n",
            "valid average epoch time: 93.85982518196106\n"
          ]
        }
      ]
    },
    {
      "cell_type": "code",
      "source": [
        "# loss\n",
        "epochs = range(1, num_epochs+1)\n",
        "plt.plot(epochs, epoch_train_loss, label='Training Loss', color='blue')\n",
        "plt.plot(epochs, epoch_valid_loss, label='Validation Loss', color='red')\n",
        "plt.xlabel('Epoch')\n",
        "plt.ylabel('Loss')\n",
        "plt.title('Training and Validation Loss')\n",
        "plt.legend()\n"
      ],
      "metadata": {
        "colab": {
          "base_uri": "https://localhost:8080/",
          "height": 489
        },
        "id": "zeGQEys8YMfr",
        "outputId": "c2bcb431-bd34-4fcd-d056-c152a4ccbf32"
      },
      "execution_count": null,
      "outputs": [
        {
          "output_type": "execute_result",
          "data": {
            "text/plain": [
              "<matplotlib.legend.Legend at 0x7e6295685d50>"
            ]
          },
          "metadata": {},
          "execution_count": 14
        },
        {
          "output_type": "display_data",
          "data": {
            "text/plain": [
              "<Figure size 640x480 with 1 Axes>"
            ],
            "image/png": "[encoded data removed]"
          },
          "metadata": {}
        }
      ]
    },
    {
      "cell_type": "code",
      "source": [
        "from matplotlib import pyplot as plt\n",
        "\n",
        "# loss\n",
        "batches = range(1, len(all_train_loss)+1)\n",
        "plt.plot(batches, all_train_loss, label='Training Loss', color='blue')\n",
        "plt.xlabel('Batch')\n",
        "plt.ylabel('Loss')\n",
        "plt.title('All Batches Training Loss')\n",
        "plt.legend()\n"
      ],
      "metadata": {
        "colab": {
          "base_uri": "https://localhost:8080/",
          "height": 489
        },
        "id": "Ut5WxDBd1lOo",
        "outputId": "14b34c68-0ae1-4ce1-b302-68d5ca68e2f6"
      },
      "execution_count": null,
      "outputs": [
        {
          "output_type": "execute_result",
          "data": {
            "text/plain": [
              "<matplotlib.legend.Legend at 0x7e62692eb970>"
            ]
          },
          "metadata": {},
          "execution_count": 16
        },
        {
          "output_type": "display_data",
          "data": {
            "text/plain": [
              "<Figure size 640x480 with 1 Axes>"
            ],
            "image/png": "[encoded data removed]"
          },
          "metadata": {}
        }
      ]
    },
    {
      "cell_type": "code",
      "source": [
        "# accuracy\n",
        "epochs = range(1, num_epochs+1)\n",
        "plt.plot(epochs, epoch_train_acc, label='Training Accuracy', color='blue')\n",
        "plt.plot(epochs, epoch_valid_acc, label='Validation Acuuracy', color='red')\n",
        "plt.xlabel('Epoch')\n",
        "plt.ylabel('Accuracy')\n",
        "plt.title('Training and Validation Accuracy')\n",
        "plt.legend()\n"
      ],
      "metadata": {
        "colab": {
          "base_uri": "https://localhost:8080/",
          "height": 489
        },
        "id": "LrzDkxYkY46I",
        "outputId": "c67f0a45-ea65-4f38-96d3-0cf1a2ca9bb6"
      },
      "execution_count": null,
      "outputs": [
        {
          "output_type": "execute_result",
          "data": {
            "text/plain": [
              "<matplotlib.legend.Legend at 0x7e62955abbe0>"
            ]
          },
          "metadata": {},
          "execution_count": 15
        },
        {
          "output_type": "display_data",
          "data": {
            "text/plain": [
              "<Figure size 640x480 with 1 Axes>"
            ],
            "image/png": "[encoded data removed]"
          },
          "metadata": {}
        }
      ]
    },
    {
      "cell_type": "markdown",
      "source": [
        "# deit_base_distilled model"
      ],
      "metadata": {
        "id": "ZAfM9ZEYXayD"
      }
    },
    {
      "cell_type": "code",
      "source": [
        "model = timm.create_model('deit_base_distilled_patch16_224', pretrained=True)\n"
      ],
      "metadata": {
        "id": "Xt4g3LDnLDC6",
        "colab": {
          "base_uri": "https://localhost:8080/",
          "height": 173,
          "referenced_widgets": [
            "48f02f4d69bf4d35a373236e7ed22d1f",
            "0ee438e7813945c1a0472e32a81ad200",
            "bb14d434bb5145aa8a051e9f054b7ed2",
            "8e4ec544758f45dd941ca05c53d1d624",
            "1c1d7d6b93704e29863806ec6b8ec6ff",
            "feb8bb74c1524dffb950c08cf5d93594",
            "63cc0ee66f3d4fccb95031d7cd2bbbce",
            "3e3f2ad84bcc42bf8317bd755faa5b53",
            "d58731b56608407b81f10519e8582227",
            "8069867ca0ce45cca9b92d6a56fe3433",
            "8cf678e267c74f38aa44dad96a3df18a"
          ]
        },
        "outputId": "5c9759f0-3da0-4107-da59-72ad71c6bc57"
      },
      "execution_count": 13,
      "outputs": [
        {
          "output_type": "stream",
          "name": "stderr",
          "text": [
            "/usr/local/lib/python3.10/dist-packages/huggingface_hub/utils/_token.py:89: UserWarning: \n",
            "The secret `HF_TOKEN` does not exist in your Colab secrets.\n",
            "To authenticate with the Hugging Face Hub, create a token in your settings tab (https://huggingface.co/settings/tokens), set it as secret in your Google Colab and restart your session.\n",
            "You will be able to reuse this secret in all of your notebooks.\n",
            "Please note that authentication is recommended but still optional to access public models or datasets.\n",
            "  warnings.warn(\n"
          ]
        },
        {
          "output_type": "display_data",
          "data": {
            "text/plain": [
              "model.safetensors:   0%|          | 0.00/349M [00:00<?, ?B/s]"
            ],
            "application/vnd.jupyter.widget-view+json": {
              "version_major": 2,
              "version_minor": 0,
              "model_id": "48f02f4d69bf4d35a373236e7ed22d1f"
            }
          },
          "metadata": {}
        }
      ]
    },
    {
      "cell_type": "code",
      "source": [
        "model.blocks"
      ],
      "metadata": {
        "colab": {
          "base_uri": "https://localhost:8080/"
        },
        "id": "PIqtov14LC8Z",
        "outputId": "aebf1192-015f-43a1-e06a-985812067408"
      },
      "execution_count": 14,
      "outputs": [
        {
          "output_type": "execute_result",
          "data": {
            "text/plain": [
              "Sequential(\n",
              "  (0): Block(\n",
              "    (norm1): LayerNorm((768,), eps=1e-06, elementwise_affine=True)\n",
              "    (attn): Attention(\n",
              "      (qkv): Linear(in_features=768, out_features=2304, bias=True)\n",
              "      (q_norm): Identity()\n",
              "      (k_norm): Identity()\n",
              "      (attn_drop): Dropout(p=0.0, inplace=False)\n",
              "      (proj): Linear(in_features=768, out_features=768, bias=True)\n",
              "      (proj_drop): Dropout(p=0.0, inplace=False)\n",
              "    )\n",
              "    (ls1): Identity()\n",
              "    (drop_path1): Identity()\n",
              "    (norm2): LayerNorm((768,), eps=1e-06, elementwise_affine=True)\n",
              "    (mlp): Mlp(\n",
              "      (fc1): Linear(in_features=768, out_features=3072, bias=True)\n",
              "      (act): GELU(approximate='none')\n",
              "      (drop1): Dropout(p=0.0, inplace=False)\n",
              "      (norm): Identity()\n",
              "      (fc2): Linear(in_features=3072, out_features=768, bias=True)\n",
              "      (drop2): Dropout(p=0.0, inplace=False)\n",
              "    )\n",
              "    (ls2): Identity()\n",
              "    (drop_path2): Identity()\n",
              "  )\n",
              "  (1): Block(\n",
              "    (norm1): LayerNorm((768,), eps=1e-06, elementwise_affine=True)\n",
              "    (attn): Attention(\n",
              "      (qkv): Linear(in_features=768, out_features=2304, bias=True)\n",
              "      (q_norm): Identity()\n",
              "      (k_norm): Identity()\n",
              "      (attn_drop): Dropout(p=0.0, inplace=False)\n",
              "      (proj): Linear(in_features=768, out_features=768, bias=True)\n",
              "      (proj_drop): Dropout(p=0.0, inplace=False)\n",
              "    )\n",
              "    (ls1): Identity()\n",
              "    (drop_path1): Identity()\n",
              "    (norm2): LayerNorm((768,), eps=1e-06, elementwise_affine=True)\n",
              "    (mlp): Mlp(\n",
              "      (fc1): Linear(in_features=768, out_features=3072, bias=True)\n",
              "      (act): GELU(approximate='none')\n",
              "      (drop1): Dropout(p=0.0, inplace=False)\n",
              "      (norm): Identity()\n",
              "      (fc2): Linear(in_features=3072, out_features=768, bias=True)\n",
              "      (drop2): Dropout(p=0.0, inplace=False)\n",
              "    )\n",
              "    (ls2): Identity()\n",
              "    (drop_path2): Identity()\n",
              "  )\n",
              "  (2): Block(\n",
              "    (norm1): LayerNorm((768,), eps=1e-06, elementwise_affine=True)\n",
              "    (attn): Attention(\n",
              "      (qkv): Linear(in_features=768, out_features=2304, bias=True)\n",
              "      (q_norm): Identity()\n",
              "      (k_norm): Identity()\n",
              "      (attn_drop): Dropout(p=0.0, inplace=False)\n",
              "      (proj): Linear(in_features=768, out_features=768, bias=True)\n",
              "      (proj_drop): Dropout(p=0.0, inplace=False)\n",
              "    )\n",
              "    (ls1): Identity()\n",
              "    (drop_path1): Identity()\n",
              "    (norm2): LayerNorm((768,), eps=1e-06, elementwise_affine=True)\n",
              "    (mlp): Mlp(\n",
              "      (fc1): Linear(in_features=768, out_features=3072, bias=True)\n",
              "      (act): GELU(approximate='none')\n",
              "      (drop1): Dropout(p=0.0, inplace=False)\n",
              "      (norm): Identity()\n",
              "      (fc2): Linear(in_features=3072, out_features=768, bias=True)\n",
              "      (drop2): Dropout(p=0.0, inplace=False)\n",
              "    )\n",
              "    (ls2): Identity()\n",
              "    (drop_path2): Identity()\n",
              "  )\n",
              "  (3): Block(\n",
              "    (norm1): LayerNorm((768,), eps=1e-06, elementwise_affine=True)\n",
              "    (attn): Attention(\n",
              "      (qkv): Linear(in_features=768, out_features=2304, bias=True)\n",
              "      (q_norm): Identity()\n",
              "      (k_norm): Identity()\n",
              "      (attn_drop): Dropout(p=0.0, inplace=False)\n",
              "      (proj): Linear(in_features=768, out_features=768, bias=True)\n",
              "      (proj_drop): Dropout(p=0.0, inplace=False)\n",
              "    )\n",
              "    (ls1): Identity()\n",
              "    (drop_path1): Identity()\n",
              "    (norm2): LayerNorm((768,), eps=1e-06, elementwise_affine=True)\n",
              "    (mlp): Mlp(\n",
              "      (fc1): Linear(in_features=768, out_features=3072, bias=True)\n",
              "      (act): GELU(approximate='none')\n",
              "      (drop1): Dropout(p=0.0, inplace=False)\n",
              "      (norm): Identity()\n",
              "      (fc2): Linear(in_features=3072, out_features=768, bias=True)\n",
              "      (drop2): Dropout(p=0.0, inplace=False)\n",
              "    )\n",
              "    (ls2): Identity()\n",
              "    (drop_path2): Identity()\n",
              "  )\n",
              "  (4): Block(\n",
              "    (norm1): LayerNorm((768,), eps=1e-06, elementwise_affine=True)\n",
              "    (attn): Attention(\n",
              "      (qkv): Linear(in_features=768, out_features=2304, bias=True)\n",
              "      (q_norm): Identity()\n",
              "      (k_norm): Identity()\n",
              "      (attn_drop): Dropout(p=0.0, inplace=False)\n",
              "      (proj): Linear(in_features=768, out_features=768, bias=True)\n",
              "      (proj_drop): Dropout(p=0.0, inplace=False)\n",
              "    )\n",
              "    (ls1): Identity()\n",
              "    (drop_path1): Identity()\n",
              "    (norm2): LayerNorm((768,), eps=1e-06, elementwise_affine=True)\n",
              "    (mlp): Mlp(\n",
              "      (fc1): Linear(in_features=768, out_features=3072, bias=True)\n",
              "      (act): GELU(approximate='none')\n",
              "      (drop1): Dropout(p=0.0, inplace=False)\n",
              "      (norm): Identity()\n",
              "      (fc2): Linear(in_features=3072, out_features=768, bias=True)\n",
              "      (drop2): Dropout(p=0.0, inplace=False)\n",
              "    )\n",
              "    (ls2): Identity()\n",
              "    (drop_path2): Identity()\n",
              "  )\n",
              "  (5): Block(\n",
              "    (norm1): LayerNorm((768,), eps=1e-06, elementwise_affine=True)\n",
              "    (attn): Attention(\n",
              "      (qkv): Linear(in_features=768, out_features=2304, bias=True)\n",
              "      (q_norm): Identity()\n",
              "      (k_norm): Identity()\n",
              "      (attn_drop): Dropout(p=0.0, inplace=False)\n",
              "      (proj): Linear(in_features=768, out_features=768, bias=True)\n",
              "      (proj_drop): Dropout(p=0.0, inplace=False)\n",
              "    )\n",
              "    (ls1): Identity()\n",
              "    (drop_path1): Identity()\n",
              "    (norm2): LayerNorm((768,), eps=1e-06, elementwise_affine=True)\n",
              "    (mlp): Mlp(\n",
              "      (fc1): Linear(in_features=768, out_features=3072, bias=True)\n",
              "      (act): GELU(approximate='none')\n",
              "      (drop1): Dropout(p=0.0, inplace=False)\n",
              "      (norm): Identity()\n",
              "      (fc2): Linear(in_features=3072, out_features=768, bias=True)\n",
              "      (drop2): Dropout(p=0.0, inplace=False)\n",
              "    )\n",
              "    (ls2): Identity()\n",
              "    (drop_path2): Identity()\n",
              "  )\n",
              "  (6): Block(\n",
              "    (norm1): LayerNorm((768,), eps=1e-06, elementwise_affine=True)\n",
              "    (attn): Attention(\n",
              "      (qkv): Linear(in_features=768, out_features=2304, bias=True)\n",
              "      (q_norm): Identity()\n",
              "      (k_norm): Identity()\n",
              "      (attn_drop): Dropout(p=0.0, inplace=False)\n",
              "      (proj): Linear(in_features=768, out_features=768, bias=True)\n",
              "      (proj_drop): Dropout(p=0.0, inplace=False)\n",
              "    )\n",
              "    (ls1): Identity()\n",
              "    (drop_path1): Identity()\n",
              "    (norm2): LayerNorm((768,), eps=1e-06, elementwise_affine=True)\n",
              "    (mlp): Mlp(\n",
              "      (fc1): Linear(in_features=768, out_features=3072, bias=True)\n",
              "      (act): GELU(approximate='none')\n",
              "      (drop1): Dropout(p=0.0, inplace=False)\n",
              "      (norm): Identity()\n",
              "      (fc2): Linear(in_features=3072, out_features=768, bias=True)\n",
              "      (drop2): Dropout(p=0.0, inplace=False)\n",
              "    )\n",
              "    (ls2): Identity()\n",
              "    (drop_path2): Identity()\n",
              "  )\n",
              "  (7): Block(\n",
              "    (norm1): LayerNorm((768,), eps=1e-06, elementwise_affine=True)\n",
              "    (attn): Attention(\n",
              "      (qkv): Linear(in_features=768, out_features=2304, bias=True)\n",
              "      (q_norm): Identity()\n",
              "      (k_norm): Identity()\n",
              "      (attn_drop): Dropout(p=0.0, inplace=False)\n",
              "      (proj): Linear(in_features=768, out_features=768, bias=True)\n",
              "      (proj_drop): Dropout(p=0.0, inplace=False)\n",
              "    )\n",
              "    (ls1): Identity()\n",
              "    (drop_path1): Identity()\n",
              "    (norm2): LayerNorm((768,), eps=1e-06, elementwise_affine=True)\n",
              "    (mlp): Mlp(\n",
              "      (fc1): Linear(in_features=768, out_features=3072, bias=True)\n",
              "      (act): GELU(approximate='none')\n",
              "      (drop1): Dropout(p=0.0, inplace=False)\n",
              "      (norm): Identity()\n",
              "      (fc2): Linear(in_features=3072, out_features=768, bias=True)\n",
              "      (drop2): Dropout(p=0.0, inplace=False)\n",
              "    )\n",
              "    (ls2): Identity()\n",
              "    (drop_path2): Identity()\n",
              "  )\n",
              "  (8): Block(\n",
              "    (norm1): LayerNorm((768,), eps=1e-06, elementwise_affine=True)\n",
              "    (attn): Attention(\n",
              "      (qkv): Linear(in_features=768, out_features=2304, bias=True)\n",
              "      (q_norm): Identity()\n",
              "      (k_norm): Identity()\n",
              "      (attn_drop): Dropout(p=0.0, inplace=False)\n",
              "      (proj): Linear(in_features=768, out_features=768, bias=True)\n",
              "      (proj_drop): Dropout(p=0.0, inplace=False)\n",
              "    )\n",
              "    (ls1): Identity()\n",
              "    (drop_path1): Identity()\n",
              "    (norm2): LayerNorm((768,), eps=1e-06, elementwise_affine=True)\n",
              "    (mlp): Mlp(\n",
              "      (fc1): Linear(in_features=768, out_features=3072, bias=True)\n",
              "      (act): GELU(approximate='none')\n",
              "      (drop1): Dropout(p=0.0, inplace=False)\n",
              "      (norm): Identity()\n",
              "      (fc2): Linear(in_features=3072, out_features=768, bias=True)\n",
              "      (drop2): Dropout(p=0.0, inplace=False)\n",
              "    )\n",
              "    (ls2): Identity()\n",
              "    (drop_path2): Identity()\n",
              "  )\n",
              "  (9): Block(\n",
              "    (norm1): LayerNorm((768,), eps=1e-06, elementwise_affine=True)\n",
              "    (attn): Attention(\n",
              "      (qkv): Linear(in_features=768, out_features=2304, bias=True)\n",
              "      (q_norm): Identity()\n",
              "      (k_norm): Identity()\n",
              "      (attn_drop): Dropout(p=0.0, inplace=False)\n",
              "      (proj): Linear(in_features=768, out_features=768, bias=True)\n",
              "      (proj_drop): Dropout(p=0.0, inplace=False)\n",
              "    )\n",
              "    (ls1): Identity()\n",
              "    (drop_path1): Identity()\n",
              "    (norm2): LayerNorm((768,), eps=1e-06, elementwise_affine=True)\n",
              "    (mlp): Mlp(\n",
              "      (fc1): Linear(in_features=768, out_features=3072, bias=True)\n",
              "      (act): GELU(approximate='none')\n",
              "      (drop1): Dropout(p=0.0, inplace=False)\n",
              "      (norm): Identity()\n",
              "      (fc2): Linear(in_features=3072, out_features=768, bias=True)\n",
              "      (drop2): Dropout(p=0.0, inplace=False)\n",
              "    )\n",
              "    (ls2): Identity()\n",
              "    (drop_path2): Identity()\n",
              "  )\n",
              "  (10): Block(\n",
              "    (norm1): LayerNorm((768,), eps=1e-06, elementwise_affine=True)\n",
              "    (attn): Attention(\n",
              "      (qkv): Linear(in_features=768, out_features=2304, bias=True)\n",
              "      (q_norm): Identity()\n",
              "      (k_norm): Identity()\n",
              "      (attn_drop): Dropout(p=0.0, inplace=False)\n",
              "      (proj): Linear(in_features=768, out_features=768, bias=True)\n",
              "      (proj_drop): Dropout(p=0.0, inplace=False)\n",
              "    )\n",
              "    (ls1): Identity()\n",
              "    (drop_path1): Identity()\n",
              "    (norm2): LayerNorm((768,), eps=1e-06, elementwise_affine=True)\n",
              "    (mlp): Mlp(\n",
              "      (fc1): Linear(in_features=768, out_features=3072, bias=True)\n",
              "      (act): GELU(approximate='none')\n",
              "      (drop1): Dropout(p=0.0, inplace=False)\n",
              "      (norm): Identity()\n",
              "      (fc2): Linear(in_features=3072, out_features=768, bias=True)\n",
              "      (drop2): Dropout(p=0.0, inplace=False)\n",
              "    )\n",
              "    (ls2): Identity()\n",
              "    (drop_path2): Identity()\n",
              "  )\n",
              "  (11): Block(\n",
              "    (norm1): LayerNorm((768,), eps=1e-06, elementwise_affine=True)\n",
              "    (attn): Attention(\n",
              "      (qkv): Linear(in_features=768, out_features=2304, bias=True)\n",
              "      (q_norm): Identity()\n",
              "      (k_norm): Identity()\n",
              "      (attn_drop): Dropout(p=0.0, inplace=False)\n",
              "      (proj): Linear(in_features=768, out_features=768, bias=True)\n",
              "      (proj_drop): Dropout(p=0.0, inplace=False)\n",
              "    )\n",
              "    (ls1): Identity()\n",
              "    (drop_path1): Identity()\n",
              "    (norm2): LayerNorm((768,), eps=1e-06, elementwise_affine=True)\n",
              "    (mlp): Mlp(\n",
              "      (fc1): Linear(in_features=768, out_features=3072, bias=True)\n",
              "      (act): GELU(approximate='none')\n",
              "      (drop1): Dropout(p=0.0, inplace=False)\n",
              "      (norm): Identity()\n",
              "      (fc2): Linear(in_features=3072, out_features=768, bias=True)\n",
              "      (drop2): Dropout(p=0.0, inplace=False)\n",
              "    )\n",
              "    (ls2): Identity()\n",
              "    (drop_path2): Identity()\n",
              "  )\n",
              ")"
            ]
          },
          "metadata": {},
          "execution_count": 14
        }
      ]
    },
    {
      "cell_type": "code",
      "source": [
        "for param in model.parameters():\n",
        "    param.requires_grad = False\n",
        "\n",
        "for param in model.blocks[11].parameters():\n",
        "    param.requires_grad = True\n",
        "\n",
        "trainable_params = sum(p.numel() for p in model.parameters() if p.requires_grad)\n",
        "\n",
        "print(f\"Total trainable parameters: {trainable_params}\")"
      ],
      "metadata": {
        "id": "pPXC4gBWLPDa",
        "colab": {
          "base_uri": "https://localhost:8080/"
        },
        "outputId": "6ccae723-7b16-4ce8-c92a-24fc0e601ea3"
      },
      "execution_count": 15,
      "outputs": [
        {
          "output_type": "stream",
          "name": "stdout",
          "text": [
            "Total trainable parameters: 7087872\n"
          ]
        }
      ]
    },
    {
      "cell_type": "code",
      "source": [
        "model.head = nn.Linear(model.head.in_features, 10)\n",
        "model.head_dist = nn.Linear(model.head_dist.in_features, 10)\n",
        "\n",
        "model.classifier = nn.Sequential(\n",
        "    nn.Linear(25088, 256),\n",
        "    nn.ELU(),\n",
        "    nn.Dropout(0.5),\n",
        "    nn.Linear(256, 10)\n",
        ")\n",
        "\n",
        "device = torch.device(\"cuda\" if torch.cuda.is_available() else \"cpu\")\n",
        "model.to(device)"
      ],
      "metadata": {
        "colab": {
          "base_uri": "https://localhost:8080/"
        },
        "id": "ASfo4B0ULUxM",
        "outputId": "87f46912-a09e-4720-a5e7-25cda548331c"
      },
      "execution_count": null,
      "outputs": [
        {
          "output_type": "execute_result",
          "data": {
            "text/plain": [
              "VisionTransformerDistilled(\n",
              "  (patch_embed): PatchEmbed(\n",
              "    (proj): Conv2d(3, 768, kernel_size=(16, 16), stride=(16, 16))\n",
              "    (norm): Identity()\n",
              "  )\n",
              "  (pos_drop): Dropout(p=0.0, inplace=False)\n",
              "  (patch_drop): Identity()\n",
              "  (norm_pre): Identity()\n",
              "  (blocks): Sequential(\n",
              "    (0): Block(\n",
              "      (norm1): LayerNorm((768,), eps=1e-06, elementwise_affine=True)\n",
              "      (attn): Attention(\n",
              "        (qkv): Linear(in_features=768, out_features=2304, bias=True)\n",
              "        (q_norm): Identity()\n",
              "        (k_norm): Identity()\n",
              "        (attn_drop): Dropout(p=0.0, inplace=False)\n",
              "        (proj): Linear(in_features=768, out_features=768, bias=True)\n",
              "        (proj_drop): Dropout(p=0.0, inplace=False)\n",
              "      )\n",
              "      (ls1): Identity()\n",
              "      (drop_path1): Identity()\n",
              "      (norm2): LayerNorm((768,), eps=1e-06, elementwise_affine=True)\n",
              "      (mlp): Mlp(\n",
              "        (fc1): Linear(in_features=768, out_features=3072, bias=True)\n",
              "        (act): GELU(approximate='none')\n",
              "        (drop1): Dropout(p=0.0, inplace=False)\n",
              "        (norm): Identity()\n",
              "        (fc2): Linear(in_features=3072, out_features=768, bias=True)\n",
              "        (drop2): Dropout(p=0.0, inplace=False)\n",
              "      )\n",
              "      (ls2): Identity()\n",
              "      (drop_path2): Identity()\n",
              "    )\n",
              "    (1): Block(\n",
              "      (norm1): LayerNorm((768,), eps=1e-06, elementwise_affine=True)\n",
              "      (attn): Attention(\n",
              "        (qkv): Linear(in_features=768, out_features=2304, bias=True)\n",
              "        (q_norm): Identity()\n",
              "        (k_norm): Identity()\n",
              "        (attn_drop): Dropout(p=0.0, inplace=False)\n",
              "        (proj): Linear(in_features=768, out_features=768, bias=True)\n",
              "        (proj_drop): Dropout(p=0.0, inplace=False)\n",
              "      )\n",
              "      (ls1): Identity()\n",
              "      (drop_path1): Identity()\n",
              "      (norm2): LayerNorm((768,), eps=1e-06, elementwise_affine=True)\n",
              "      (mlp): Mlp(\n",
              "        (fc1): Linear(in_features=768, out_features=3072, bias=True)\n",
              "        (act): GELU(approximate='none')\n",
              "        (drop1): Dropout(p=0.0, inplace=False)\n",
              "        (norm): Identity()\n",
              "        (fc2): Linear(in_features=3072, out_features=768, bias=True)\n",
              "        (drop2): Dropout(p=0.0, inplace=False)\n",
              "      )\n",
              "      (ls2): Identity()\n",
              "      (drop_path2): Identity()\n",
              "    )\n",
              "    (2): Block(\n",
              "      (norm1): LayerNorm((768,), eps=1e-06, elementwise_affine=True)\n",
              "      (attn): Attention(\n",
              "        (qkv): Linear(in_features=768, out_features=2304, bias=True)\n",
              "        (q_norm): Identity()\n",
              "        (k_norm): Identity()\n",
              "        (attn_drop): Dropout(p=0.0, inplace=False)\n",
              "        (proj): Linear(in_features=768, out_features=768, bias=True)\n",
              "        (proj_drop): Dropout(p=0.0, inplace=False)\n",
              "      )\n",
              "      (ls1): Identity()\n",
              "      (drop_path1): Identity()\n",
              "      (norm2): LayerNorm((768,), eps=1e-06, elementwise_affine=True)\n",
              "      (mlp): Mlp(\n",
              "        (fc1): Linear(in_features=768, out_features=3072, bias=True)\n",
              "        (act): GELU(approximate='none')\n",
              "        (drop1): Dropout(p=0.0, inplace=False)\n",
              "        (norm): Identity()\n",
              "        (fc2): Linear(in_features=3072, out_features=768, bias=True)\n",
              "        (drop2): Dropout(p=0.0, inplace=False)\n",
              "      )\n",
              "      (ls2): Identity()\n",
              "      (drop_path2): Identity()\n",
              "    )\n",
              "    (3): Block(\n",
              "      (norm1): LayerNorm((768,), eps=1e-06, elementwise_affine=True)\n",
              "      (attn): Attention(\n",
              "        (qkv): Linear(in_features=768, out_features=2304, bias=True)\n",
              "        (q_norm): Identity()\n",
              "        (k_norm): Identity()\n",
              "        (attn_drop): Dropout(p=0.0, inplace=False)\n",
              "        (proj): Linear(in_features=768, out_features=768, bias=True)\n",
              "        (proj_drop): Dropout(p=0.0, inplace=False)\n",
              "      )\n",
              "      (ls1): Identity()\n",
              "      (drop_path1): Identity()\n",
              "      (norm2): LayerNorm((768,), eps=1e-06, elementwise_affine=True)\n",
              "      (mlp): Mlp(\n",
              "        (fc1): Linear(in_features=768, out_features=3072, bias=True)\n",
              "        (act): GELU(approximate='none')\n",
              "        (drop1): Dropout(p=0.0, inplace=False)\n",
              "        (norm): Identity()\n",
              "        (fc2): Linear(in_features=3072, out_features=768, bias=True)\n",
              "        (drop2): Dropout(p=0.0, inplace=False)\n",
              "      )\n",
              "      (ls2): Identity()\n",
              "      (drop_path2): Identity()\n",
              "    )\n",
              "    (4): Block(\n",
              "      (norm1): LayerNorm((768,), eps=1e-06, elementwise_affine=True)\n",
              "      (attn): Attention(\n",
              "        (qkv): Linear(in_features=768, out_features=2304, bias=True)\n",
              "        (q_norm): Identity()\n",
              "        (k_norm): Identity()\n",
              "        (attn_drop): Dropout(p=0.0, inplace=False)\n",
              "        (proj): Linear(in_features=768, out_features=768, bias=True)\n",
              "        (proj_drop): Dropout(p=0.0, inplace=False)\n",
              "      )\n",
              "      (ls1): Identity()\n",
              "      (drop_path1): Identity()\n",
              "      (norm2): LayerNorm((768,), eps=1e-06, elementwise_affine=True)\n",
              "      (mlp): Mlp(\n",
              "        (fc1): Linear(in_features=768, out_features=3072, bias=True)\n",
              "        (act): GELU(approximate='none')\n",
              "        (drop1): Dropout(p=0.0, inplace=False)\n",
              "        (norm): Identity()\n",
              "        (fc2): Linear(in_features=3072, out_features=768, bias=True)\n",
              "        (drop2): Dropout(p=0.0, inplace=False)\n",
              "      )\n",
              "      (ls2): Identity()\n",
              "      (drop_path2): Identity()\n",
              "    )\n",
              "    (5): Block(\n",
              "      (norm1): LayerNorm((768,), eps=1e-06, elementwise_affine=True)\n",
              "      (attn): Attention(\n",
              "        (qkv): Linear(in_features=768, out_features=2304, bias=True)\n",
              "        (q_norm): Identity()\n",
              "        (k_norm): Identity()\n",
              "        (attn_drop): Dropout(p=0.0, inplace=False)\n",
              "        (proj): Linear(in_features=768, out_features=768, bias=True)\n",
              "        (proj_drop): Dropout(p=0.0, inplace=False)\n",
              "      )\n",
              "      (ls1): Identity()\n",
              "      (drop_path1): Identity()\n",
              "      (norm2): LayerNorm((768,), eps=1e-06, elementwise_affine=True)\n",
              "      (mlp): Mlp(\n",
              "        (fc1): Linear(in_features=768, out_features=3072, bias=True)\n",
              "        (act): GELU(approximate='none')\n",
              "        (drop1): Dropout(p=0.0, inplace=False)\n",
              "        (norm): Identity()\n",
              "        (fc2): Linear(in_features=3072, out_features=768, bias=True)\n",
              "        (drop2): Dropout(p=0.0, inplace=False)\n",
              "      )\n",
              "      (ls2): Identity()\n",
              "      (drop_path2): Identity()\n",
              "    )\n",
              "    (6): Block(\n",
              "      (norm1): LayerNorm((768,), eps=1e-06, elementwise_affine=True)\n",
              "      (attn): Attention(\n",
              "        (qkv): Linear(in_features=768, out_features=2304, bias=True)\n",
              "        (q_norm): Identity()\n",
              "        (k_norm): Identity()\n",
              "        (attn_drop): Dropout(p=0.0, inplace=False)\n",
              "        (proj): Linear(in_features=768, out_features=768, bias=True)\n",
              "        (proj_drop): Dropout(p=0.0, inplace=False)\n",
              "      )\n",
              "      (ls1): Identity()\n",
              "      (drop_path1): Identity()\n",
              "      (norm2): LayerNorm((768,), eps=1e-06, elementwise_affine=True)\n",
              "      (mlp): Mlp(\n",
              "        (fc1): Linear(in_features=768, out_features=3072, bias=True)\n",
              "        (act): GELU(approximate='none')\n",
              "        (drop1): Dropout(p=0.0, inplace=False)\n",
              "        (norm): Identity()\n",
              "        (fc2): Linear(in_features=3072, out_features=768, bias=True)\n",
              "        (drop2): Dropout(p=0.0, inplace=False)\n",
              "      )\n",
              "      (ls2): Identity()\n",
              "      (drop_path2): Identity()\n",
              "    )\n",
              "    (7): Block(\n",
              "      (norm1): LayerNorm((768,), eps=1e-06, elementwise_affine=True)\n",
              "      (attn): Attention(\n",
              "        (qkv): Linear(in_features=768, out_features=2304, bias=True)\n",
              "        (q_norm): Identity()\n",
              "        (k_norm): Identity()\n",
              "        (attn_drop): Dropout(p=0.0, inplace=False)\n",
              "        (proj): Linear(in_features=768, out_features=768, bias=True)\n",
              "        (proj_drop): Dropout(p=0.0, inplace=False)\n",
              "      )\n",
              "      (ls1): Identity()\n",
              "      (drop_path1): Identity()\n",
              "      (norm2): LayerNorm((768,), eps=1e-06, elementwise_affine=True)\n",
              "      (mlp): Mlp(\n",
              "        (fc1): Linear(in_features=768, out_features=3072, bias=True)\n",
              "        (act): GELU(approximate='none')\n",
              "        (drop1): Dropout(p=0.0, inplace=False)\n",
              "        (norm): Identity()\n",
              "        (fc2): Linear(in_features=3072, out_features=768, bias=True)\n",
              "        (drop2): Dropout(p=0.0, inplace=False)\n",
              "      )\n",
              "      (ls2): Identity()\n",
              "      (drop_path2): Identity()\n",
              "    )\n",
              "    (8): Block(\n",
              "      (norm1): LayerNorm((768,), eps=1e-06, elementwise_affine=True)\n",
              "      (attn): Attention(\n",
              "        (qkv): Linear(in_features=768, out_features=2304, bias=True)\n",
              "        (q_norm): Identity()\n",
              "        (k_norm): Identity()\n",
              "        (attn_drop): Dropout(p=0.0, inplace=False)\n",
              "        (proj): Linear(in_features=768, out_features=768, bias=True)\n",
              "        (proj_drop): Dropout(p=0.0, inplace=False)\n",
              "      )\n",
              "      (ls1): Identity()\n",
              "      (drop_path1): Identity()\n",
              "      (norm2): LayerNorm((768,), eps=1e-06, elementwise_affine=True)\n",
              "      (mlp): Mlp(\n",
              "        (fc1): Linear(in_features=768, out_features=3072, bias=True)\n",
              "        (act): GELU(approximate='none')\n",
              "        (drop1): Dropout(p=0.0, inplace=False)\n",
              "        (norm): Identity()\n",
              "        (fc2): Linear(in_features=3072, out_features=768, bias=True)\n",
              "        (drop2): Dropout(p=0.0, inplace=False)\n",
              "      )\n",
              "      (ls2): Identity()\n",
              "      (drop_path2): Identity()\n",
              "    )\n",
              "    (9): Block(\n",
              "      (norm1): LayerNorm((768,), eps=1e-06, elementwise_affine=True)\n",
              "      (attn): Attention(\n",
              "        (qkv): Linear(in_features=768, out_features=2304, bias=True)\n",
              "        (q_norm): Identity()\n",
              "        (k_norm): Identity()\n",
              "        (attn_drop): Dropout(p=0.0, inplace=False)\n",
              "        (proj): Linear(in_features=768, out_features=768, bias=True)\n",
              "        (proj_drop): Dropout(p=0.0, inplace=False)\n",
              "      )\n",
              "      (ls1): Identity()\n",
              "      (drop_path1): Identity()\n",
              "      (norm2): LayerNorm((768,), eps=1e-06, elementwise_affine=True)\n",
              "      (mlp): Mlp(\n",
              "        (fc1): Linear(in_features=768, out_features=3072, bias=True)\n",
              "        (act): GELU(approximate='none')\n",
              "        (drop1): Dropout(p=0.0, inplace=False)\n",
              "        (norm): Identity()\n",
              "        (fc2): Linear(in_features=3072, out_features=768, bias=True)\n",
              "        (drop2): Dropout(p=0.0, inplace=False)\n",
              "      )\n",
              "      (ls2): Identity()\n",
              "      (drop_path2): Identity()\n",
              "    )\n",
              "    (10): Block(\n",
              "      (norm1): LayerNorm((768,), eps=1e-06, elementwise_affine=True)\n",
              "      (attn): Attention(\n",
              "        (qkv): Linear(in_features=768, out_features=2304, bias=True)\n",
              "        (q_norm): Identity()\n",
              "        (k_norm): Identity()\n",
              "        (attn_drop): Dropout(p=0.0, inplace=False)\n",
              "        (proj): Linear(in_features=768, out_features=768, bias=True)\n",
              "        (proj_drop): Dropout(p=0.0, inplace=False)\n",
              "      )\n",
              "      (ls1): Identity()\n",
              "      (drop_path1): Identity()\n",
              "      (norm2): LayerNorm((768,), eps=1e-06, elementwise_affine=True)\n",
              "      (mlp): Mlp(\n",
              "        (fc1): Linear(in_features=768, out_features=3072, bias=True)\n",
              "        (act): GELU(approximate='none')\n",
              "        (drop1): Dropout(p=0.0, inplace=False)\n",
              "        (norm): Identity()\n",
              "        (fc2): Linear(in_features=3072, out_features=768, bias=True)\n",
              "        (drop2): Dropout(p=0.0, inplace=False)\n",
              "      )\n",
              "      (ls2): Identity()\n",
              "      (drop_path2): Identity()\n",
              "    )\n",
              "    (11): Block(\n",
              "      (norm1): LayerNorm((768,), eps=1e-06, elementwise_affine=True)\n",
              "      (attn): Attention(\n",
              "        (qkv): Linear(in_features=768, out_features=2304, bias=True)\n",
              "        (q_norm): Identity()\n",
              "        (k_norm): Identity()\n",
              "        (attn_drop): Dropout(p=0.0, inplace=False)\n",
              "        (proj): Linear(in_features=768, out_features=768, bias=True)\n",
              "        (proj_drop): Dropout(p=0.0, inplace=False)\n",
              "      )\n",
              "      (ls1): Identity()\n",
              "      (drop_path1): Identity()\n",
              "      (norm2): LayerNorm((768,), eps=1e-06, elementwise_affine=True)\n",
              "      (mlp): Mlp(\n",
              "        (fc1): Linear(in_features=768, out_features=3072, bias=True)\n",
              "        (act): GELU(approximate='none')\n",
              "        (drop1): Dropout(p=0.0, inplace=False)\n",
              "        (norm): Identity()\n",
              "        (fc2): Linear(in_features=3072, out_features=768, bias=True)\n",
              "        (drop2): Dropout(p=0.0, inplace=False)\n",
              "      )\n",
              "      (ls2): Identity()\n",
              "      (drop_path2): Identity()\n",
              "    )\n",
              "  )\n",
              "  (norm): LayerNorm((768,), eps=1e-06, elementwise_affine=True)\n",
              "  (fc_norm): Identity()\n",
              "  (head_drop): Dropout(p=0.0, inplace=False)\n",
              "  (head): Linear(in_features=768, out_features=10, bias=True)\n",
              "  (head_dist): Linear(in_features=768, out_features=10, bias=True)\n",
              "  (classifier): Sequential(\n",
              "    (0): Linear(in_features=25088, out_features=256, bias=True)\n",
              "    (1): ELU(alpha=1.0)\n",
              "    (2): Dropout(p=0.5, inplace=False)\n",
              "    (3): Linear(in_features=256, out_features=10, bias=True)\n",
              "  )\n",
              ")"
            ]
          },
          "metadata": {},
          "execution_count": 7
        }
      ]
    },
    {
      "cell_type": "code",
      "source": [
        "#hyperparamethers\n",
        "learning_rate = 0.0001\n",
        "num_epochs = 10\n",
        "criterion = nn.CrossEntropyLoss()\n",
        "optimizer = optim.Adam(model.parameters(), lr=learning_rate)"
      ],
      "metadata": {
        "id": "3lc3rILTLVbP"
      },
      "execution_count": null,
      "outputs": []
    },
    {
      "cell_type": "code",
      "source": [
        "all_train_loss = []\n",
        "all_valid_loss = []\n",
        "all_train_acc = []\n",
        "all_valid_acc = []\n",
        "\n",
        "epoch_train_loss = []\n",
        "epoch_valid_loss = []\n",
        "epoch_train_acc = []\n",
        "epoch_valid_acc = []\n",
        "epoch_train_time = []\n",
        "epoch_valid_time = []\n",
        "\n",
        "\n",
        "for epoch in range(num_epochs):\n",
        "\n",
        "    # train\n",
        "    t = time.time()\n",
        "    epoch_loss = 0.0\n",
        "    running_loss = 0.0\n",
        "    total_count = 0\n",
        "    correct_count = 0\n",
        "    for i, data in enumerate(trainloader, 0):\n",
        "        inputs, labels = data[0].to(device), data[1].to(device)\n",
        "        optimizer.zero_grad()\n",
        "\n",
        "        outputs = model(inputs)\n",
        "        loss = criterion(outputs, labels)\n",
        "        loss.backward()\n",
        "        optimizer.step()\n",
        "\n",
        "        running_loss += loss.item()\n",
        "        epoch_loss += loss.item()\n",
        "\n",
        "        _, pred = torch.max(outputs.data, 1)\n",
        "        total_count += labels.size(0)\n",
        "        corrects = (pred==labels).sum().item()\n",
        "        correct_count += corrects\n",
        "        if (i+1) % 1000 == 0:\n",
        "            print(f'Epoch {epoch + 1}, Batch {i + 1}: Batch Loss {running_loss / 1000:.3f}')\n",
        "            all_train_loss.append(running_loss)\n",
        "            all_train_acc.append(correct_count/total_count)\n",
        "            running_loss = 0.0\n",
        "\n",
        "    # end of train\n",
        "\n",
        "\n",
        "    duration = time.time() - t\n",
        "    epoch_train_time.append(duration)\n",
        "    epoch_train_loss.append(epoch_loss/len(trainloader))\n",
        "    epoch_train_acc.append(correct_count/total_count)\n",
        "    print(50*'= ')\n",
        "    print(f'Epoch {epoch + 1}/{num_epochs}')\n",
        "    print(f'Train Loss: {epoch_loss/len(trainloader)}, Train Accuracy: {correct_count/total_count}, Train Duration: {duration}')\n",
        "\n",
        "\n",
        "    # validation\n",
        "    model.eval()\n",
        "    t = time.time()\n",
        "    running_loss = 0.0\n",
        "    total_count = 0\n",
        "    correct_count = 0\n",
        "    with torch.no_grad():\n",
        "        for i, data in enumerate(testloader, 0):\n",
        "            inputs, labels = data[0].to(device), data[1].to(device)\n",
        "            outputs = model(inputs)\n",
        "            loss = criterion(outputs, labels)\n",
        "            running_loss += loss.item()\n",
        "            _, pred = torch.max(outputs.data, 1)\n",
        "            total_count += labels.size(0)\n",
        "            corrects = (pred==labels).sum().item()\n",
        "            correct_count += corrects\n",
        "\n",
        "    # end of validation\n",
        "    duration = time.time() - t\n",
        "    epoch_valid_time.append(duration)\n",
        "    epoch_valid_loss.append(running_loss/len(testloader))\n",
        "    epoch_valid_acc.append(correct_count/total_count)\n",
        "    print(f'Valid Loss: {running_loss/len(testloader)}, Valid Accuracy: {correct_count/total_count}, Valid Duration: {duration}')\n",
        "    print(f'END of Epoch {epoch + 1}/{num_epochs}')\n",
        "    print(50*'= ')\n",
        "    print('\\n\\n')\n",
        "\n",
        "print('Finished Training')\n"
      ],
      "metadata": {
        "colab": {
          "base_uri": "https://localhost:8080/"
        },
        "id": "YPTQ578RLX5L",
        "outputId": "816c9145-0f72-497e-daa5-d512fbd316c2"
      },
      "execution_count": null,
      "outputs": [
        {
          "output_type": "stream",
          "name": "stdout",
          "text": [
            "Epoch 1, Batch 1000: Batch Loss 0.346\n",
            "Epoch 1, Batch 2000: Batch Loss 0.174\n",
            "Epoch 1, Batch 3000: Batch Loss 0.168\n",
            "Epoch 1, Batch 4000: Batch Loss 0.144\n",
            "Epoch 1, Batch 5000: Batch Loss 0.143\n",
            "Epoch 1, Batch 6000: Batch Loss 0.123\n",
            "Epoch 1, Batch 7000: Batch Loss 0.125\n",
            "Epoch 1, Batch 8000: Batch Loss 0.133\n",
            "Epoch 1, Batch 9000: Batch Loss 0.126\n",
            "Epoch 1, Batch 10000: Batch Loss 0.126\n",
            "Epoch 1, Batch 11000: Batch Loss 0.125\n",
            "Epoch 1, Batch 12000: Batch Loss 0.119\n",
            "= = = = = = = = = = = = = = = = = = = = = = = = = = = = = = = = = = = = = = = = = = = = = = = = = = \n",
            "Epoch 1/10\n",
            "Train Loss: 0.15297047497838023, Train Accuracy: 0.95084, Train Duration: 787.7646887302399\n",
            "Valid Loss: 0.11187357672396757, Valid Accuracy: 0.9626, Valid Duration: 138.7780363559723\n",
            "END of Epoch 1/10\n",
            "= = = = = = = = = = = = = = = = = = = = = = = = = = = = = = = = = = = = = = = = = = = = = = = = = = \n",
            "\n",
            "\n",
            "\n",
            "Epoch 2, Batch 1000: Batch Loss 0.055\n",
            "Epoch 2, Batch 2000: Batch Loss 0.056\n",
            "Epoch 2, Batch 3000: Batch Loss 0.074\n",
            "Epoch 2, Batch 4000: Batch Loss 0.067\n",
            "Epoch 2, Batch 5000: Batch Loss 0.061\n",
            "Epoch 2, Batch 6000: Batch Loss 0.061\n",
            "Epoch 2, Batch 7000: Batch Loss 0.069\n",
            "Epoch 2, Batch 8000: Batch Loss 0.058\n",
            "Epoch 2, Batch 9000: Batch Loss 0.061\n",
            "Epoch 2, Batch 10000: Batch Loss 0.062\n",
            "Epoch 2, Batch 11000: Batch Loss 0.065\n",
            "Epoch 2, Batch 12000: Batch Loss 0.056\n",
            "= = = = = = = = = = = = = = = = = = = = = = = = = = = = = = = = = = = = = = = = = = = = = = = = = = \n",
            "Epoch 2/10\n",
            "Train Loss: 0.061621778690995395, Train Accuracy: 0.97928, Train Duration: 791.6867620944977\n",
            "Valid Loss: 0.12742508028677238, Valid Accuracy: 0.9618, Valid Duration: 138.11476397514343\n",
            "END of Epoch 2/10\n",
            "= = = = = = = = = = = = = = = = = = = = = = = = = = = = = = = = = = = = = = = = = = = = = = = = = = \n",
            "\n",
            "\n",
            "\n",
            "Epoch 3, Batch 1000: Batch Loss 0.025\n",
            "Epoch 3, Batch 2000: Batch Loss 0.031\n",
            "Epoch 3, Batch 3000: Batch Loss 0.028\n",
            "Epoch 3, Batch 4000: Batch Loss 0.032\n",
            "Epoch 3, Batch 5000: Batch Loss 0.028\n",
            "Epoch 3, Batch 6000: Batch Loss 0.023\n",
            "Epoch 3, Batch 7000: Batch Loss 0.028\n",
            "Epoch 3, Batch 8000: Batch Loss 0.024\n",
            "Epoch 3, Batch 9000: Batch Loss 0.032\n",
            "Epoch 3, Batch 10000: Batch Loss 0.033\n",
            "Epoch 3, Batch 11000: Batch Loss 0.038\n",
            "Epoch 3, Batch 12000: Batch Loss 0.030\n",
            "= = = = = = = = = = = = = = = = = = = = = = = = = = = = = = = = = = = = = = = = = = = = = = = = = = \n",
            "Epoch 3/10\n",
            "Train Loss: 0.029802593248638053, Train Accuracy: 0.99006, Train Duration: 786.2361288070679\n",
            "Valid Loss: 0.12850356958908069, Valid Accuracy: 0.9628, Valid Duration: 138.91511845588684\n",
            "END of Epoch 3/10\n",
            "= = = = = = = = = = = = = = = = = = = = = = = = = = = = = = = = = = = = = = = = = = = = = = = = = = \n",
            "\n",
            "\n",
            "\n",
            "Epoch 4, Batch 1000: Batch Loss 0.010\n",
            "Epoch 4, Batch 2000: Batch Loss 0.020\n",
            "Epoch 4, Batch 3000: Batch Loss 0.022\n",
            "Epoch 4, Batch 4000: Batch Loss 0.012\n",
            "Epoch 4, Batch 5000: Batch Loss 0.026\n",
            "Epoch 4, Batch 6000: Batch Loss 0.017\n",
            "Epoch 4, Batch 7000: Batch Loss 0.014\n",
            "Epoch 4, Batch 8000: Batch Loss 0.026\n",
            "Epoch 4, Batch 9000: Batch Loss 0.017\n",
            "Epoch 4, Batch 10000: Batch Loss 0.021\n",
            "Epoch 4, Batch 11000: Batch Loss 0.014\n",
            "Epoch 4, Batch 12000: Batch Loss 0.027\n",
            "= = = = = = = = = = = = = = = = = = = = = = = = = = = = = = = = = = = = = = = = = = = = = = = = = = \n",
            "Epoch 4/10\n",
            "Train Loss: 0.018987053532717776, Train Accuracy: 0.99356, Train Duration: 786.2638890743256\n",
            "Valid Loss: 0.16652306835961037, Valid Accuracy: 0.9621, Valid Duration: 139.02004551887512\n",
            "END of Epoch 4/10\n",
            "= = = = = = = = = = = = = = = = = = = = = = = = = = = = = = = = = = = = = = = = = = = = = = = = = = \n",
            "\n",
            "\n",
            "\n",
            "Epoch 5, Batch 1000: Batch Loss 0.011\n",
            "Epoch 5, Batch 2000: Batch Loss 0.011\n",
            "Epoch 5, Batch 3000: Batch Loss 0.015\n",
            "Epoch 5, Batch 4000: Batch Loss 0.010\n",
            "Epoch 5, Batch 5000: Batch Loss 0.010\n",
            "Epoch 5, Batch 6000: Batch Loss 0.013\n",
            "Epoch 5, Batch 7000: Batch Loss 0.020\n",
            "Epoch 5, Batch 8000: Batch Loss 0.017\n",
            "Epoch 5, Batch 9000: Batch Loss 0.011\n",
            "Epoch 5, Batch 10000: Batch Loss 0.016\n",
            "Epoch 5, Batch 11000: Batch Loss 0.017\n",
            "Epoch 5, Batch 12000: Batch Loss 0.018\n",
            "= = = = = = = = = = = = = = = = = = = = = = = = = = = = = = = = = = = = = = = = = = = = = = = = = = \n",
            "Epoch 5/10\n",
            "Train Loss: 0.014067807209897674, Train Accuracy: 0.9955, Train Duration: 791.4431376457214\n",
            "Valid Loss: 0.18923962182340245, Valid Accuracy: 0.9624, Valid Duration: 138.68407464027405\n",
            "END of Epoch 5/10\n",
            "= = = = = = = = = = = = = = = = = = = = = = = = = = = = = = = = = = = = = = = = = = = = = = = = = = \n",
            "\n",
            "\n",
            "\n",
            "Epoch 6, Batch 1000: Batch Loss 0.008\n",
            "Epoch 6, Batch 2000: Batch Loss 0.006\n",
            "Epoch 6, Batch 3000: Batch Loss 0.012\n",
            "Epoch 6, Batch 4000: Batch Loss 0.007\n",
            "Epoch 6, Batch 5000: Batch Loss 0.015\n",
            "Epoch 6, Batch 6000: Batch Loss 0.014\n",
            "Epoch 6, Batch 7000: Batch Loss 0.013\n",
            "Epoch 6, Batch 8000: Batch Loss 0.018\n",
            "Epoch 6, Batch 9000: Batch Loss 0.012\n",
            "Epoch 6, Batch 10000: Batch Loss 0.007\n",
            "Epoch 6, Batch 11000: Batch Loss 0.013\n",
            "Epoch 6, Batch 12000: Batch Loss 0.023\n",
            "= = = = = = = = = = = = = = = = = = = = = = = = = = = = = = = = = = = = = = = = = = = = = = = = = = \n",
            "Epoch 6/10\n",
            "Train Loss: 0.012501862491948113, Train Accuracy: 0.996, Train Duration: 789.7822389602661\n",
            "Valid Loss: 0.1596472049296924, Valid Accuracy: 0.9649, Valid Duration: 138.73701333999634\n",
            "END of Epoch 6/10\n",
            "= = = = = = = = = = = = = = = = = = = = = = = = = = = = = = = = = = = = = = = = = = = = = = = = = = \n",
            "\n",
            "\n",
            "\n",
            "Epoch 7, Batch 1000: Batch Loss 0.007\n",
            "Epoch 7, Batch 2000: Batch Loss 0.009\n",
            "Epoch 7, Batch 3000: Batch Loss 0.012\n",
            "Epoch 7, Batch 4000: Batch Loss 0.002\n",
            "Epoch 7, Batch 5000: Batch Loss 0.019\n",
            "Epoch 7, Batch 6000: Batch Loss 0.015\n",
            "Epoch 7, Batch 7000: Batch Loss 0.015\n",
            "Epoch 7, Batch 8000: Batch Loss 0.014\n",
            "Epoch 7, Batch 9000: Batch Loss 0.016\n",
            "Epoch 7, Batch 10000: Batch Loss 0.011\n",
            "Epoch 7, Batch 11000: Batch Loss 0.011\n",
            "Epoch 7, Batch 12000: Batch Loss 0.011\n",
            "= = = = = = = = = = = = = = = = = = = = = = = = = = = = = = = = = = = = = = = = = = = = = = = = = = \n",
            "Epoch 7/10\n",
            "Train Loss: 0.011914491985280629, Train Accuracy: 0.99632, Train Duration: 791.1230182647705\n",
            "Valid Loss: 0.1738983087176577, Valid Accuracy: 0.9677, Valid Duration: 138.92387866973877\n",
            "END of Epoch 7/10\n",
            "= = = = = = = = = = = = = = = = = = = = = = = = = = = = = = = = = = = = = = = = = = = = = = = = = = \n",
            "\n",
            "\n",
            "\n",
            "Epoch 8, Batch 1000: Batch Loss 0.005\n",
            "Epoch 8, Batch 2000: Batch Loss 0.018\n",
            "Epoch 8, Batch 3000: Batch Loss 0.009\n",
            "Epoch 8, Batch 4000: Batch Loss 0.010\n",
            "Epoch 8, Batch 5000: Batch Loss 0.007\n",
            "Epoch 8, Batch 6000: Batch Loss 0.012\n",
            "Epoch 8, Batch 7000: Batch Loss 0.006\n",
            "Epoch 8, Batch 8000: Batch Loss 0.012\n",
            "Epoch 8, Batch 9000: Batch Loss 0.008\n",
            "Epoch 8, Batch 10000: Batch Loss 0.013\n",
            "Epoch 8, Batch 11000: Batch Loss 0.020\n",
            "Epoch 8, Batch 12000: Batch Loss 0.010\n",
            "= = = = = = = = = = = = = = = = = = = = = = = = = = = = = = = = = = = = = = = = = = = = = = = = = = \n",
            "Epoch 8/10\n",
            "Train Loss: 0.011063553118305126, Train Accuracy: 0.99672, Train Duration: 790.2821152210236\n",
            "Valid Loss: 0.20289845327519335, Valid Accuracy: 0.9643, Valid Duration: 138.00340747833252\n",
            "END of Epoch 8/10\n",
            "= = = = = = = = = = = = = = = = = = = = = = = = = = = = = = = = = = = = = = = = = = = = = = = = = = \n",
            "\n",
            "\n",
            "\n",
            "Epoch 9, Batch 1000: Batch Loss 0.012\n",
            "Epoch 9, Batch 2000: Batch Loss 0.009\n",
            "Epoch 9, Batch 3000: Batch Loss 0.005\n",
            "Epoch 9, Batch 4000: Batch Loss 0.015\n",
            "Epoch 9, Batch 5000: Batch Loss 0.012\n",
            "Epoch 9, Batch 6000: Batch Loss 0.013\n",
            "Epoch 9, Batch 7000: Batch Loss 0.012\n",
            "Epoch 9, Batch 8000: Batch Loss 0.010\n",
            "Epoch 9, Batch 9000: Batch Loss 0.008\n",
            "Epoch 9, Batch 10000: Batch Loss 0.012\n",
            "Epoch 9, Batch 11000: Batch Loss 0.007\n",
            "Epoch 9, Batch 12000: Batch Loss 0.006\n",
            "= = = = = = = = = = = = = = = = = = = = = = = = = = = = = = = = = = = = = = = = = = = = = = = = = = \n",
            "Epoch 9/10\n",
            "Train Loss: 0.01005167492134979, Train Accuracy: 0.9967, Train Duration: 791.500896692276\n",
            "Valid Loss: 0.23159525260958916, Valid Accuracy: 0.9637, Valid Duration: 138.66033005714417\n",
            "END of Epoch 9/10\n",
            "= = = = = = = = = = = = = = = = = = = = = = = = = = = = = = = = = = = = = = = = = = = = = = = = = = \n",
            "\n",
            "\n",
            "\n",
            "Epoch 10, Batch 1000: Batch Loss 0.012\n",
            "Epoch 10, Batch 2000: Batch Loss 0.010\n",
            "Epoch 10, Batch 3000: Batch Loss 0.007\n",
            "Epoch 10, Batch 4000: Batch Loss 0.013\n",
            "Epoch 10, Batch 5000: Batch Loss 0.004\n",
            "Epoch 10, Batch 6000: Batch Loss 0.010\n",
            "Epoch 10, Batch 7000: Batch Loss 0.012\n",
            "Epoch 10, Batch 8000: Batch Loss 0.010\n",
            "Epoch 10, Batch 9000: Batch Loss 0.006\n",
            "Epoch 10, Batch 10000: Batch Loss 0.005\n",
            "Epoch 10, Batch 11000: Batch Loss 0.012\n",
            "Epoch 10, Batch 12000: Batch Loss 0.006\n",
            "= = = = = = = = = = = = = = = = = = = = = = = = = = = = = = = = = = = = = = = = = = = = = = = = = = \n",
            "Epoch 10/10\n",
            "Train Loss: 0.008981044233399096, Train Accuracy: 0.99736, Train Duration: 791.4285233020782\n",
            "Valid Loss: 0.20944409391541444, Valid Accuracy: 0.9678, Valid Duration: 138.84836649894714\n",
            "END of Epoch 10/10\n",
            "= = = = = = = = = = = = = = = = = = = = = = = = = = = = = = = = = = = = = = = = = = = = = = = = = = \n",
            "\n",
            "\n",
            "\n",
            "Finished Training\n"
          ]
        }
      ]
    },
    {
      "cell_type": "code",
      "source": [
        "# duration\n",
        "average_dur_train = np.mean(np.array(epoch_train_time))\n",
        "average_dur_valid = np.mean(np.array(epoch_valid_time))\n",
        "\n",
        "print(f'train average epoch time: {average_dur_train}')\n",
        "print(f'valid average epoch time: {average_dur_valid}')"
      ],
      "metadata": {
        "id": "JvofTnQoLm1O",
        "colab": {
          "base_uri": "https://localhost:8080/"
        },
        "outputId": "98b0eb4e-0378-451e-bda4-b707a1f0899d"
      },
      "execution_count": null,
      "outputs": [
        {
          "output_type": "stream",
          "name": "stdout",
          "text": [
            "train average epoch time: 789.7511398792267\n",
            "valid average epoch time: 138.66850349903106\n"
          ]
        }
      ]
    },
    {
      "cell_type": "code",
      "source": [
        "# loss\n",
        "epochs = range(1, num_epochs+1)\n",
        "plt.plot(epochs, epoch_train_loss, label='Training Loss', color='blue')\n",
        "plt.plot(epochs, epoch_valid_loss, label='Validation Loss', color='red')\n",
        "plt.xlabel('Epoch')\n",
        "plt.ylabel('Loss')\n",
        "plt.title('Training and Validation Loss')\n",
        "plt.legend()\n"
      ],
      "metadata": {
        "id": "vjohrDYYLwb4",
        "colab": {
          "base_uri": "https://localhost:8080/",
          "height": 489
        },
        "outputId": "a740ac9d-369d-4c3e-8933-e668f1365a5a"
      },
      "execution_count": null,
      "outputs": [
        {
          "output_type": "execute_result",
          "data": {
            "text/plain": [
              "<matplotlib.legend.Legend at 0x7dca5df1c970>"
            ]
          },
          "metadata": {},
          "execution_count": 11
        },
        {
          "output_type": "display_data",
          "data": {
            "text/plain": [
              "<Figure size 640x480 with 1 Axes>"
            ],
            "image/png": "[encoded data removed]"
          },
          "metadata": {}
        }
      ]
    },
    {
      "cell_type": "code",
      "source": [
        "# loss\n",
        "batches = range(1, len(all_train_loss)+1)\n",
        "plt.plot(batches, all_train_loss, label='Training Loss', color='blue')\n",
        "plt.xlabel('Batch')\n",
        "plt.ylabel('Loss')\n",
        "plt.title('All Batches Training Loss')\n",
        "plt.legend()"
      ],
      "metadata": {
        "id": "qMVAo6aRL0WF",
        "colab": {
          "base_uri": "https://localhost:8080/",
          "height": 489
        },
        "outputId": "f92f222e-345f-4547-d8fa-d61ecccf2bc4"
      },
      "execution_count": null,
      "outputs": [
        {
          "output_type": "execute_result",
          "data": {
            "text/plain": [
              "<matplotlib.legend.Legend at 0x7dca4e436050>"
            ]
          },
          "metadata": {},
          "execution_count": 12
        },
        {
          "output_type": "display_data",
          "data": {
            "text/plain": [
              "<Figure size 640x480 with 1 Axes>"
            ],
            "image/png": "[encoded data removed]"
          },
          "metadata": {}
        }
      ]
    },
    {
      "cell_type": "code",
      "source": [
        "# accuracy\n",
        "epochs = range(1, num_epochs+1)\n",
        "plt.plot(epochs, epoch_train_acc, label='Training Accuracy', color='blue')\n",
        "plt.plot(epochs, epoch_valid_acc, label='Validation Acuuracy', color='red')\n",
        "plt.xlabel('Epoch')\n",
        "plt.ylabel('Accuracy')\n",
        "plt.title('Training and Validation Accuracy')\n",
        "plt.legend()\n"
      ],
      "metadata": {
        "id": "PBzGHtFpL2_p",
        "colab": {
          "base_uri": "https://localhost:8080/",
          "height": 489
        },
        "outputId": "f4bee225-4ecc-4fd2-daa2-31bea53e957a"
      },
      "execution_count": null,
      "outputs": [
        {
          "output_type": "execute_result",
          "data": {
            "text/plain": [
              "<matplotlib.legend.Legend at 0x7dca4e500df0>"
            ]
          },
          "metadata": {},
          "execution_count": 13
        },
        {
          "output_type": "display_data",
          "data": {
            "text/plain": [
              "<Figure size 640x480 with 1 Axes>"
            ],
            "image/png": "[encoded data removed]"
          },
          "metadata": {}
        }
      ]
    },
    {
      "cell_type": "code",
      "source": [
        "# loss\n",
        "batches = range(1, len(all_train_acc)+1)\n",
        "plt.plot(batches, all_train_acc, label='Training Accuracy', color='blue')\n",
        "plt.xlabel('Batch')\n",
        "plt.ylabel('Accuracu')\n",
        "plt.title('All Batches Training Accuracy')\n",
        "plt.legend()"
      ],
      "metadata": {
        "id": "TjDB0UIRL3qZ",
        "colab": {
          "base_uri": "https://localhost:8080/",
          "height": 489
        },
        "outputId": "2dd6763e-2694-4b0f-f431-302c20f75559"
      },
      "execution_count": null,
      "outputs": [
        {
          "output_type": "execute_result",
          "data": {
            "text/plain": [
              "<matplotlib.legend.Legend at 0x7dca4e29e290>"
            ]
          },
          "metadata": {},
          "execution_count": 14
        },
        {
          "output_type": "display_data",
          "data": {
            "text/plain": [
              "<Figure size 640x480 with 1 Axes>"
            ],
            "image/png": "[encoded data removed]"
          },
          "metadata": {}
        }
      ]
    },
    {
      "cell_type": "code",
      "source": [],
      "metadata": {
        "id": "w--ESTQ9L-WA"
      },
      "execution_count": null,
      "outputs": []
    }
  ]
}